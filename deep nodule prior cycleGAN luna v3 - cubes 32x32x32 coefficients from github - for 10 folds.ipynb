{
 "cells": [
  {
   "cell_type": "markdown",
   "metadata": {},
   "source": [
    "# Overview\n",
    "# CycleGAN from __no-nodule__ to __nodule__ and back\n",
    "\n",
    "**luna v2**\n",
    "1. from v1 We multiply some losses by the coefficients shown in the github implementation\n",
    "\n",
    "**luna v1**\n",
    "1. applied to LUNA inpainted dataset: (32x32x32) cubes \n",
    "\n",
    "**luna v0**\n",
    "1. applied to LUNA inpainted dataset: (64x64x64) cubes\n",
    "\n",
    "**v8**\n",
    "1. Evaluate test set in training loop\n",
    "\n",
    "**v7**\n",
    "1. remove the masks from the losses\n",
    "\n",
    "**v6**\n",
    "1. We only we used the slices that obtained a successfull qualitative assessment\n",
    "1. Smaller test subset\n",
    "\n",
    "**v5**\n",
    "1. The dataset comes from crop inpainting for gan v3 - (from v2) evaluate pixel differences - use nodule 'nodule to focus on' mask, (saved in 'slices inpainting v9 v3 (crop inpainting for gan v3)'). This dataset takes the correct 64x64 windows using the 'nodule to focus on' mask instead of the segmentation mask\n",
    "1. Back to original loss weights (from v3)\n",
    "\n",
    "**v4**\n",
    "1. Different loss weights\n",
    "\n",
    "**v3**\n",
    "1. Working on 64 size images\n",
    "1. The mask was applied differently. From x * (1 - mask) to x * mask\n",
    "\n",
    "**v2**    \n",
    "1. Similarly to deep image prior, we apply a mask to the target loss\n",
    "1. working with images generated from inpainting v9\n",
    "1. The dataset class was modified to pad the images to a certain shape limit (so all images are the same shape)\n",
    "\n",
    "**v1** working with images generated from inpainting v7   \n",
    "\n",
    "FROM https://github.com/aitorzip/PyTorch-CycleGAN/blob/master   \n",
    "**CONDA ACTIVATE PYTORCH**"
   ]
  },
  {
   "cell_type": "code",
   "execution_count": 1,
   "metadata": {},
   "outputs": [
    {
     "data": {
      "text/html": [
       "<style>.container { width:90% !important; }</style>"
      ],
      "text/plain": [
       "<IPython.core.display.HTML object>"
      ]
     },
     "metadata": {},
     "output_type": "display_data"
    }
   ],
   "source": [
    "from IPython.core.display import display, HTML\n",
    "display(HTML(\"<style>.container { width:90% !important; }</style>\"))"
   ]
  },
  {
   "cell_type": "code",
   "execution_count": null,
   "metadata": {},
   "outputs": [],
   "source": []
  },
  {
   "cell_type": "code",
   "execution_count": 1,
   "metadata": {},
   "outputs": [],
   "source": [
    "import argparse\n",
    "import itertools\n",
    "\n",
    "import torchvision.transforms as transforms\n",
    "from torch.utils.data import DataLoader\n",
    "from torch.autograd import Variable\n",
    "from PIL import Image\n",
    "import torch\n",
    "\n",
    "from utils_cycleGAN.models import Generator3D\n",
    "from utils_cycleGAN.models import Discriminator3D\n",
    "from utils_cycleGAN.utils import ReplayBuffer\n",
    "from utils_cycleGAN.utils import LambdaLR\n",
    "from utils_cycleGAN.utils import Logger\n",
    "from utils_cycleGAN.utils import weights_init_normal\n",
    "# from datasets import ImageDataset\n",
    "import pandas as pd"
   ]
  },
  {
   "cell_type": "code",
   "execution_count": 2,
   "metadata": {},
   "outputs": [],
   "source": [
    "# import visdom\n",
    "from sklearn.model_selection import train_test_split\n",
    "import matplotlib.pyplot as plt\n",
    "%matplotlib inline"
   ]
  },
  {
   "cell_type": "code",
   "execution_count": 3,
   "metadata": {},
   "outputs": [],
   "source": [
    "from scipy import ndimage, optimize\n",
    "import pdb \n",
    "import cv2\n",
    "import matplotlib.patches as patches\n",
    "import multiprocessing\n",
    "import datetime\n",
    "from tqdm import tqdm_notebook"
   ]
  },
  {
   "cell_type": "code",
   "execution_count": 4,
   "metadata": {},
   "outputs": [],
   "source": [
    "from torch.utils.data import Dataset, DataLoader\n",
    "import os\n",
    "from itertools import product\n",
    "from utils_cycleGAN.extractRect import *\n",
    "from torch import Tensor\n",
    "from torchsummary import summary"
   ]
  },
  {
   "cell_type": "code",
   "execution_count": 5,
   "metadata": {},
   "outputs": [],
   "source": [
    "nsh = np.shape\n",
    "def set_all_rcParams(true_or_false):\n",
    "    rcParams['ytick.left']=true_or_false\n",
    "    rcParams['xtick.bottom']=true_or_false\n",
    "    rcParams['ytick.labelleft'] = true_or_false\n",
    "    rcParams['xtick.labelbottom'] = true_or_false"
   ]
  },
  {
   "cell_type": "code",
   "execution_count": 6,
   "metadata": {},
   "outputs": [],
   "source": [
    "torch.cuda.set_device(0)"
   ]
  },
  {
   "cell_type": "code",
   "execution_count": 7,
   "metadata": {},
   "outputs": [],
   "source": [
    "# We need to exclude two folds and save the other gan-created in their corresponding folder\n",
    "exclude_this_and_previous = 5"
   ]
  },
  {
   "cell_type": "code",
   "execution_count": 8,
   "metadata": {},
   "outputs": [],
   "source": [
    "epoch=0\n",
    "epoch_done = -1 # used to continue training from a pretrained network\n",
    "n_epochs = 401 #original 200 then 401\n",
    "batchsize = 8\n",
    "lr=0.0002\n",
    "decay_epoch = 5 # original 100\n",
    "size=32\n",
    "input_nc = 1 # original 3\n",
    "output_nc = 1 # original 3\n",
    "cuda = True"
   ]
  },
  {
   "cell_type": "code",
   "execution_count": 9,
   "metadata": {},
   "outputs": [],
   "source": [
    "# dataroot='datasets\n",
    "# cuda='use GPU computation')\n",
    "# n_cpu=8"
   ]
  },
  {
   "cell_type": "code",
   "execution_count": 10,
   "metadata": {},
   "outputs": [
    {
     "name": "stdout",
     "output_type": "stream",
     "text": [
      "/home/om18/Documents/KCL/Sept 12 19 - LUNA inpainting cycleGAN\r\n"
     ]
    }
   ],
   "source": [
    "!pwd"
   ]
  },
  {
   "cell_type": "code",
   "execution_count": 11,
   "metadata": {},
   "outputs": [],
   "source": [
    "# Networks\n",
    "netG_A2B = Generator3D(input_nc, output_nc)\n",
    "netG_B2A = Generator3D(output_nc, input_nc)\n",
    "netD_A = Discriminator3D(input_nc)\n",
    "netD_B = Discriminator3D(output_nc)"
   ]
  },
  {
   "cell_type": "code",
   "execution_count": 12,
   "metadata": {},
   "outputs": [],
   "source": [
    "if cuda:\n",
    "    netG_A2B.cuda()\n",
    "    netG_B2A.cuda()\n",
    "    netD_A.cuda()\n",
    "    netD_B.cuda()"
   ]
  },
  {
   "cell_type": "code",
   "execution_count": 13,
   "metadata": {},
   "outputs": [
    {
     "name": "stderr",
     "output_type": "stream",
     "text": [
      "/home/om18/Documents/KCL/Sept 12 19 - LUNA inpainting cycleGAN/utils_cycleGAN/utils.py:114: UserWarning: nn.init.normal is now deprecated in favor of nn.init.normal_.\n",
      "  torch.nn.init.normal(m.weight.data, 0.0, 0.02)\n"
     ]
    },
    {
     "data": {
      "text/plain": [
       "Discriminator3D(\n",
       "  (model): Sequential(\n",
       "    (0): Conv3d(1, 64, kernel_size=(4, 4, 4), stride=(2, 2, 2), padding=(1, 1, 1))\n",
       "    (1): LeakyReLU(negative_slope=0.2, inplace)\n",
       "    (2): Conv3d(64, 128, kernel_size=(4, 4, 4), stride=(2, 2, 2), padding=(1, 1, 1))\n",
       "    (3): InstanceNorm3d(128, eps=1e-05, momentum=0.1, affine=False, track_running_stats=False)\n",
       "    (4): LeakyReLU(negative_slope=0.2, inplace)\n",
       "    (5): Conv3d(128, 256, kernel_size=(4, 4, 4), stride=(2, 2, 2), padding=(1, 1, 1))\n",
       "    (6): InstanceNorm3d(256, eps=1e-05, momentum=0.1, affine=False, track_running_stats=False)\n",
       "    (7): LeakyReLU(negative_slope=0.2, inplace)\n",
       "    (8): Conv3d(256, 512, kernel_size=(4, 4, 4), stride=(1, 1, 1), padding=(1, 1, 1))\n",
       "    (9): InstanceNorm3d(512, eps=1e-05, momentum=0.1, affine=False, track_running_stats=False)\n",
       "    (10): LeakyReLU(negative_slope=0.2, inplace)\n",
       "    (11): Conv3d(512, 1, kernel_size=(4, 4, 4), stride=(1, 1, 1), padding=(1, 1, 1))\n",
       "  )\n",
       ")"
      ]
     },
     "execution_count": 13,
     "metadata": {},
     "output_type": "execute_result"
    }
   ],
   "source": [
    "netG_A2B.apply(weights_init_normal)\n",
    "netG_B2A.apply(weights_init_normal)\n",
    "netD_A.apply(weights_init_normal)\n",
    "netD_B.apply(weights_init_normal)"
   ]
  },
  {
   "cell_type": "code",
   "execution_count": 17,
   "metadata": {},
   "outputs": [
    {
     "name": "stdout",
     "output_type": "stream",
     "text": [
      "----------------------------------------------------------------\n",
      "        Layer (type)               Output Shape         Param #\n",
      "================================================================\n",
      "            Conv3d-1       [-1, 64, 16, 16, 16]           4,160\n",
      "         LeakyReLU-2       [-1, 64, 16, 16, 16]               0\n",
      "            Conv3d-3         [-1, 128, 8, 8, 8]         524,416\n",
      "    InstanceNorm3d-4         [-1, 128, 8, 8, 8]               0\n",
      "         LeakyReLU-5         [-1, 128, 8, 8, 8]               0\n",
      "            Conv3d-6         [-1, 256, 4, 4, 4]       2,097,408\n",
      "    InstanceNorm3d-7         [-1, 256, 4, 4, 4]               0\n",
      "         LeakyReLU-8         [-1, 256, 4, 4, 4]               0\n",
      "            Conv3d-9         [-1, 512, 3, 3, 3]       8,389,120\n",
      "   InstanceNorm3d-10         [-1, 512, 3, 3, 3]               0\n",
      "        LeakyReLU-11         [-1, 512, 3, 3, 3]               0\n",
      "           Conv3d-12           [-1, 1, 2, 2, 2]          32,769\n",
      "================================================================\n",
      "Total params: 11,047,873\n",
      "Trainable params: 11,047,873\n",
      "Non-trainable params: 0\n",
      "----------------------------------------------------------------\n",
      "Input size (MB): 0.12\n",
      "Forward/backward pass size (MB): 6.19\n",
      "Params size (MB): 42.14\n",
      "Estimated Total Size (MB): 48.46\n",
      "----------------------------------------------------------------\n"
     ]
    }
   ],
   "source": [
    "summary(netD_A, (input_nc,32,32,32))"
   ]
  },
  {
   "cell_type": "code",
   "execution_count": 14,
   "metadata": {},
   "outputs": [
    {
     "data": {
      "text/plain": [
       "Generator3D(\n",
       "  (model): Sequential(\n",
       "    (0): ConstantPad3d(padding=(3, 3, 3, 3, 3, 3), value=0)\n",
       "    (1): Conv3d(1, 64, kernel_size=(7, 7, 7), stride=(1, 1, 1))\n",
       "    (2): InstanceNorm3d(64, eps=1e-05, momentum=0.1, affine=False, track_running_stats=False)\n",
       "    (3): ReLU(inplace)\n",
       "    (4): Conv3d(64, 128, kernel_size=(3, 3, 3), stride=(2, 2, 2), padding=(1, 1, 1))\n",
       "    (5): InstanceNorm3d(128, eps=1e-05, momentum=0.1, affine=False, track_running_stats=False)\n",
       "    (6): ReLU(inplace)\n",
       "    (7): Conv3d(128, 256, kernel_size=(3, 3, 3), stride=(2, 2, 2), padding=(1, 1, 1))\n",
       "    (8): InstanceNorm3d(256, eps=1e-05, momentum=0.1, affine=False, track_running_stats=False)\n",
       "    (9): ReLU(inplace)\n",
       "    (10): ResidualBlock3D(\n",
       "      (conv_block): Sequential(\n",
       "        (0): ConstantPad3d(padding=(1, 1, 1, 1, 1, 1), value=0)\n",
       "        (1): Conv3d(256, 256, kernel_size=(3, 3, 3), stride=(1, 1, 1))\n",
       "        (2): InstanceNorm3d(256, eps=1e-05, momentum=0.1, affine=False, track_running_stats=False)\n",
       "        (3): ReLU(inplace)\n",
       "        (4): ConstantPad3d(padding=(1, 1, 1, 1, 1, 1), value=0)\n",
       "        (5): Conv3d(256, 256, kernel_size=(3, 3, 3), stride=(1, 1, 1))\n",
       "        (6): InstanceNorm3d(256, eps=1e-05, momentum=0.1, affine=False, track_running_stats=False)\n",
       "      )\n",
       "    )\n",
       "    (11): ResidualBlock3D(\n",
       "      (conv_block): Sequential(\n",
       "        (0): ConstantPad3d(padding=(1, 1, 1, 1, 1, 1), value=0)\n",
       "        (1): Conv3d(256, 256, kernel_size=(3, 3, 3), stride=(1, 1, 1))\n",
       "        (2): InstanceNorm3d(256, eps=1e-05, momentum=0.1, affine=False, track_running_stats=False)\n",
       "        (3): ReLU(inplace)\n",
       "        (4): ConstantPad3d(padding=(1, 1, 1, 1, 1, 1), value=0)\n",
       "        (5): Conv3d(256, 256, kernel_size=(3, 3, 3), stride=(1, 1, 1))\n",
       "        (6): InstanceNorm3d(256, eps=1e-05, momentum=0.1, affine=False, track_running_stats=False)\n",
       "      )\n",
       "    )\n",
       "    (12): ResidualBlock3D(\n",
       "      (conv_block): Sequential(\n",
       "        (0): ConstantPad3d(padding=(1, 1, 1, 1, 1, 1), value=0)\n",
       "        (1): Conv3d(256, 256, kernel_size=(3, 3, 3), stride=(1, 1, 1))\n",
       "        (2): InstanceNorm3d(256, eps=1e-05, momentum=0.1, affine=False, track_running_stats=False)\n",
       "        (3): ReLU(inplace)\n",
       "        (4): ConstantPad3d(padding=(1, 1, 1, 1, 1, 1), value=0)\n",
       "        (5): Conv3d(256, 256, kernel_size=(3, 3, 3), stride=(1, 1, 1))\n",
       "        (6): InstanceNorm3d(256, eps=1e-05, momentum=0.1, affine=False, track_running_stats=False)\n",
       "      )\n",
       "    )\n",
       "    (13): ResidualBlock3D(\n",
       "      (conv_block): Sequential(\n",
       "        (0): ConstantPad3d(padding=(1, 1, 1, 1, 1, 1), value=0)\n",
       "        (1): Conv3d(256, 256, kernel_size=(3, 3, 3), stride=(1, 1, 1))\n",
       "        (2): InstanceNorm3d(256, eps=1e-05, momentum=0.1, affine=False, track_running_stats=False)\n",
       "        (3): ReLU(inplace)\n",
       "        (4): ConstantPad3d(padding=(1, 1, 1, 1, 1, 1), value=0)\n",
       "        (5): Conv3d(256, 256, kernel_size=(3, 3, 3), stride=(1, 1, 1))\n",
       "        (6): InstanceNorm3d(256, eps=1e-05, momentum=0.1, affine=False, track_running_stats=False)\n",
       "      )\n",
       "    )\n",
       "    (14): ResidualBlock3D(\n",
       "      (conv_block): Sequential(\n",
       "        (0): ConstantPad3d(padding=(1, 1, 1, 1, 1, 1), value=0)\n",
       "        (1): Conv3d(256, 256, kernel_size=(3, 3, 3), stride=(1, 1, 1))\n",
       "        (2): InstanceNorm3d(256, eps=1e-05, momentum=0.1, affine=False, track_running_stats=False)\n",
       "        (3): ReLU(inplace)\n",
       "        (4): ConstantPad3d(padding=(1, 1, 1, 1, 1, 1), value=0)\n",
       "        (5): Conv3d(256, 256, kernel_size=(3, 3, 3), stride=(1, 1, 1))\n",
       "        (6): InstanceNorm3d(256, eps=1e-05, momentum=0.1, affine=False, track_running_stats=False)\n",
       "      )\n",
       "    )\n",
       "    (15): ResidualBlock3D(\n",
       "      (conv_block): Sequential(\n",
       "        (0): ConstantPad3d(padding=(1, 1, 1, 1, 1, 1), value=0)\n",
       "        (1): Conv3d(256, 256, kernel_size=(3, 3, 3), stride=(1, 1, 1))\n",
       "        (2): InstanceNorm3d(256, eps=1e-05, momentum=0.1, affine=False, track_running_stats=False)\n",
       "        (3): ReLU(inplace)\n",
       "        (4): ConstantPad3d(padding=(1, 1, 1, 1, 1, 1), value=0)\n",
       "        (5): Conv3d(256, 256, kernel_size=(3, 3, 3), stride=(1, 1, 1))\n",
       "        (6): InstanceNorm3d(256, eps=1e-05, momentum=0.1, affine=False, track_running_stats=False)\n",
       "      )\n",
       "    )\n",
       "    (16): ResidualBlock3D(\n",
       "      (conv_block): Sequential(\n",
       "        (0): ConstantPad3d(padding=(1, 1, 1, 1, 1, 1), value=0)\n",
       "        (1): Conv3d(256, 256, kernel_size=(3, 3, 3), stride=(1, 1, 1))\n",
       "        (2): InstanceNorm3d(256, eps=1e-05, momentum=0.1, affine=False, track_running_stats=False)\n",
       "        (3): ReLU(inplace)\n",
       "        (4): ConstantPad3d(padding=(1, 1, 1, 1, 1, 1), value=0)\n",
       "        (5): Conv3d(256, 256, kernel_size=(3, 3, 3), stride=(1, 1, 1))\n",
       "        (6): InstanceNorm3d(256, eps=1e-05, momentum=0.1, affine=False, track_running_stats=False)\n",
       "      )\n",
       "    )\n",
       "    (17): ResidualBlock3D(\n",
       "      (conv_block): Sequential(\n",
       "        (0): ConstantPad3d(padding=(1, 1, 1, 1, 1, 1), value=0)\n",
       "        (1): Conv3d(256, 256, kernel_size=(3, 3, 3), stride=(1, 1, 1))\n",
       "        (2): InstanceNorm3d(256, eps=1e-05, momentum=0.1, affine=False, track_running_stats=False)\n",
       "        (3): ReLU(inplace)\n",
       "        (4): ConstantPad3d(padding=(1, 1, 1, 1, 1, 1), value=0)\n",
       "        (5): Conv3d(256, 256, kernel_size=(3, 3, 3), stride=(1, 1, 1))\n",
       "        (6): InstanceNorm3d(256, eps=1e-05, momentum=0.1, affine=False, track_running_stats=False)\n",
       "      )\n",
       "    )\n",
       "    (18): ResidualBlock3D(\n",
       "      (conv_block): Sequential(\n",
       "        (0): ConstantPad3d(padding=(1, 1, 1, 1, 1, 1), value=0)\n",
       "        (1): Conv3d(256, 256, kernel_size=(3, 3, 3), stride=(1, 1, 1))\n",
       "        (2): InstanceNorm3d(256, eps=1e-05, momentum=0.1, affine=False, track_running_stats=False)\n",
       "        (3): ReLU(inplace)\n",
       "        (4): ConstantPad3d(padding=(1, 1, 1, 1, 1, 1), value=0)\n",
       "        (5): Conv3d(256, 256, kernel_size=(3, 3, 3), stride=(1, 1, 1))\n",
       "        (6): InstanceNorm3d(256, eps=1e-05, momentum=0.1, affine=False, track_running_stats=False)\n",
       "      )\n",
       "    )\n",
       "    (19): ConvTranspose3d(256, 128, kernel_size=(3, 3, 3), stride=(2, 2, 2), padding=(1, 1, 1), output_padding=(1, 1, 1))\n",
       "    (20): InstanceNorm3d(128, eps=1e-05, momentum=0.1, affine=False, track_running_stats=False)\n",
       "    (21): ReLU(inplace)\n",
       "    (22): ConvTranspose3d(128, 64, kernel_size=(3, 3, 3), stride=(2, 2, 2), padding=(1, 1, 1), output_padding=(1, 1, 1))\n",
       "    (23): InstanceNorm3d(64, eps=1e-05, momentum=0.1, affine=False, track_running_stats=False)\n",
       "    (24): ReLU(inplace)\n",
       "    (25): ConstantPad3d(padding=(3, 3, 3, 3, 3, 3), value=0)\n",
       "    (26): Conv3d(64, 1, kernel_size=(7, 7, 7), stride=(1, 1, 1))\n",
       "    (27): Tanh()\n",
       "  )\n",
       ")"
      ]
     },
     "execution_count": 14,
     "metadata": {},
     "output_type": "execute_result"
    }
   ],
   "source": [
    "netG_A2B"
   ]
  },
  {
   "cell_type": "code",
   "execution_count": 16,
   "metadata": {
    "scrolled": true
   },
   "outputs": [
    {
     "name": "stdout",
     "output_type": "stream",
     "text": [
      "----------------------------------------------------------------\n",
      "        Layer (type)               Output Shape         Param #\n",
      "================================================================\n",
      "     ConstantPad3d-1        [-1, 1, 38, 38, 38]               0\n",
      "            Conv3d-2       [-1, 64, 32, 32, 32]          22,016\n",
      "    InstanceNorm3d-3       [-1, 64, 32, 32, 32]               0\n",
      "              ReLU-4       [-1, 64, 32, 32, 32]               0\n",
      "            Conv3d-5      [-1, 128, 16, 16, 16]         221,312\n",
      "    InstanceNorm3d-6      [-1, 128, 16, 16, 16]               0\n",
      "              ReLU-7      [-1, 128, 16, 16, 16]               0\n",
      "            Conv3d-8         [-1, 256, 8, 8, 8]         884,992\n",
      "    InstanceNorm3d-9         [-1, 256, 8, 8, 8]               0\n",
      "             ReLU-10         [-1, 256, 8, 8, 8]               0\n",
      "    ConstantPad3d-11      [-1, 256, 10, 10, 10]               0\n",
      "           Conv3d-12         [-1, 256, 8, 8, 8]       1,769,728\n",
      "   InstanceNorm3d-13         [-1, 256, 8, 8, 8]               0\n",
      "             ReLU-14         [-1, 256, 8, 8, 8]               0\n",
      "    ConstantPad3d-15      [-1, 256, 10, 10, 10]               0\n",
      "           Conv3d-16         [-1, 256, 8, 8, 8]       1,769,728\n",
      "   InstanceNorm3d-17         [-1, 256, 8, 8, 8]               0\n",
      "  ResidualBlock3D-18         [-1, 256, 8, 8, 8]               0\n",
      "    ConstantPad3d-19      [-1, 256, 10, 10, 10]               0\n",
      "           Conv3d-20         [-1, 256, 8, 8, 8]       1,769,728\n",
      "   InstanceNorm3d-21         [-1, 256, 8, 8, 8]               0\n",
      "             ReLU-22         [-1, 256, 8, 8, 8]               0\n",
      "    ConstantPad3d-23      [-1, 256, 10, 10, 10]               0\n",
      "           Conv3d-24         [-1, 256, 8, 8, 8]       1,769,728\n",
      "   InstanceNorm3d-25         [-1, 256, 8, 8, 8]               0\n",
      "  ResidualBlock3D-26         [-1, 256, 8, 8, 8]               0\n",
      "    ConstantPad3d-27      [-1, 256, 10, 10, 10]               0\n",
      "           Conv3d-28         [-1, 256, 8, 8, 8]       1,769,728\n",
      "   InstanceNorm3d-29         [-1, 256, 8, 8, 8]               0\n",
      "             ReLU-30         [-1, 256, 8, 8, 8]               0\n",
      "    ConstantPad3d-31      [-1, 256, 10, 10, 10]               0\n",
      "           Conv3d-32         [-1, 256, 8, 8, 8]       1,769,728\n",
      "   InstanceNorm3d-33         [-1, 256, 8, 8, 8]               0\n",
      "  ResidualBlock3D-34         [-1, 256, 8, 8, 8]               0\n",
      "    ConstantPad3d-35      [-1, 256, 10, 10, 10]               0\n",
      "           Conv3d-36         [-1, 256, 8, 8, 8]       1,769,728\n",
      "   InstanceNorm3d-37         [-1, 256, 8, 8, 8]               0\n",
      "             ReLU-38         [-1, 256, 8, 8, 8]               0\n",
      "    ConstantPad3d-39      [-1, 256, 10, 10, 10]               0\n",
      "           Conv3d-40         [-1, 256, 8, 8, 8]       1,769,728\n",
      "   InstanceNorm3d-41         [-1, 256, 8, 8, 8]               0\n",
      "  ResidualBlock3D-42         [-1, 256, 8, 8, 8]               0\n",
      "    ConstantPad3d-43      [-1, 256, 10, 10, 10]               0\n",
      "           Conv3d-44         [-1, 256, 8, 8, 8]       1,769,728\n",
      "   InstanceNorm3d-45         [-1, 256, 8, 8, 8]               0\n",
      "             ReLU-46         [-1, 256, 8, 8, 8]               0\n",
      "    ConstantPad3d-47      [-1, 256, 10, 10, 10]               0\n",
      "           Conv3d-48         [-1, 256, 8, 8, 8]       1,769,728\n",
      "   InstanceNorm3d-49         [-1, 256, 8, 8, 8]               0\n",
      "  ResidualBlock3D-50         [-1, 256, 8, 8, 8]               0\n",
      "    ConstantPad3d-51      [-1, 256, 10, 10, 10]               0\n",
      "           Conv3d-52         [-1, 256, 8, 8, 8]       1,769,728\n",
      "   InstanceNorm3d-53         [-1, 256, 8, 8, 8]               0\n",
      "             ReLU-54         [-1, 256, 8, 8, 8]               0\n",
      "    ConstantPad3d-55      [-1, 256, 10, 10, 10]               0\n",
      "           Conv3d-56         [-1, 256, 8, 8, 8]       1,769,728\n",
      "   InstanceNorm3d-57         [-1, 256, 8, 8, 8]               0\n",
      "  ResidualBlock3D-58         [-1, 256, 8, 8, 8]               0\n",
      "    ConstantPad3d-59      [-1, 256, 10, 10, 10]               0\n",
      "           Conv3d-60         [-1, 256, 8, 8, 8]       1,769,728\n",
      "   InstanceNorm3d-61         [-1, 256, 8, 8, 8]               0\n",
      "             ReLU-62         [-1, 256, 8, 8, 8]               0\n",
      "    ConstantPad3d-63      [-1, 256, 10, 10, 10]               0\n",
      "           Conv3d-64         [-1, 256, 8, 8, 8]       1,769,728\n",
      "   InstanceNorm3d-65         [-1, 256, 8, 8, 8]               0\n",
      "  ResidualBlock3D-66         [-1, 256, 8, 8, 8]               0\n",
      "    ConstantPad3d-67      [-1, 256, 10, 10, 10]               0\n",
      "           Conv3d-68         [-1, 256, 8, 8, 8]       1,769,728\n",
      "   InstanceNorm3d-69         [-1, 256, 8, 8, 8]               0\n",
      "             ReLU-70         [-1, 256, 8, 8, 8]               0\n",
      "    ConstantPad3d-71      [-1, 256, 10, 10, 10]               0\n",
      "           Conv3d-72         [-1, 256, 8, 8, 8]       1,769,728\n",
      "   InstanceNorm3d-73         [-1, 256, 8, 8, 8]               0\n",
      "  ResidualBlock3D-74         [-1, 256, 8, 8, 8]               0\n",
      "    ConstantPad3d-75      [-1, 256, 10, 10, 10]               0\n",
      "           Conv3d-76         [-1, 256, 8, 8, 8]       1,769,728\n",
      "   InstanceNorm3d-77         [-1, 256, 8, 8, 8]               0\n",
      "             ReLU-78         [-1, 256, 8, 8, 8]               0\n",
      "    ConstantPad3d-79      [-1, 256, 10, 10, 10]               0\n",
      "           Conv3d-80         [-1, 256, 8, 8, 8]       1,769,728\n",
      "   InstanceNorm3d-81         [-1, 256, 8, 8, 8]               0\n",
      "  ResidualBlock3D-82         [-1, 256, 8, 8, 8]               0\n",
      "  ConvTranspose3d-83      [-1, 128, 16, 16, 16]         884,864\n",
      "   InstanceNorm3d-84      [-1, 128, 16, 16, 16]               0\n",
      "             ReLU-85      [-1, 128, 16, 16, 16]               0\n",
      "  ConvTranspose3d-86       [-1, 64, 32, 32, 32]         221,248\n",
      "   InstanceNorm3d-87       [-1, 64, 32, 32, 32]               0\n",
      "             ReLU-88       [-1, 64, 32, 32, 32]               0\n",
      "    ConstantPad3d-89       [-1, 64, 38, 38, 38]               0\n",
      "           Conv3d-90        [-1, 1, 32, 32, 32]          21,953\n",
      "             Tanh-91        [-1, 1, 32, 32, 32]               0\n",
      "================================================================\n",
      "Total params: 34,111,489\n",
      "Trainable params: 34,111,489\n",
      "Non-trainable params: 0\n",
      "----------------------------------------------------------------\n",
      "Input size (MB): 0.12\n",
      "Forward/backward pass size (MB): 239.87\n",
      "Params size (MB): 130.13\n",
      "Estimated Total Size (MB): 370.12\n",
      "----------------------------------------------------------------\n"
     ]
    }
   ],
   "source": [
    "summary(netG_A2B, (input_nc,32,32,32))"
   ]
  },
  {
   "cell_type": "code",
   "execution_count": 16,
   "metadata": {},
   "outputs": [],
   "source": [
    "# Losses\n",
    "criterion_GAN = torch.nn.MSELoss()\n",
    "criterion_cycle = torch.nn.L1Loss()\n",
    "criterion_identity = torch.nn.L1Loss()"
   ]
  },
  {
   "cell_type": "code",
   "execution_count": 17,
   "metadata": {},
   "outputs": [],
   "source": [
    "# Optimizers & LR schedulers\n",
    "optimizer_G = torch.optim.Adam(itertools.chain(netG_A2B.parameters(), netG_B2A.parameters()),\n",
    "                                lr=lr, betas=(0.5, 0.999))\n",
    "optimizer_D_A = torch.optim.Adam(netD_A.parameters(), lr=lr, betas=(0.5, 0.999))\n",
    "optimizer_D_B = torch.optim.Adam(netD_B.parameters(), lr=lr, betas=(0.5, 0.999))\n",
    "\n",
    "lr_scheduler_G = torch.optim.lr_scheduler.LambdaLR(optimizer_G, lr_lambda=LambdaLR(n_epochs, epoch, decay_epoch).step)\n",
    "lr_scheduler_D_A = torch.optim.lr_scheduler.LambdaLR(optimizer_D_A, lr_lambda=LambdaLR(n_epochs, epoch, decay_epoch).step)\n",
    "lr_scheduler_D_B = torch.optim.lr_scheduler.LambdaLR(optimizer_D_B, lr_lambda=LambdaLR(n_epochs, epoch, decay_epoch).step)"
   ]
  },
  {
   "cell_type": "code",
   "execution_count": 18,
   "metadata": {},
   "outputs": [],
   "source": [
    "path_source = '/data/OMM/Datasets/LIDC_other_formats/LUNA_inpainted_cubes_for_GAN_v2/'\n",
    "path_dest = f'/data/OMM/project results/Feb 20 19 - CycleGan clean/deep nodule prior luna v3 - cubes size 32 coefficients - 10 folds fold{exclude_this_and_previous}/' \n",
    "path_quality = '/data/OMM/Datasets/LIDC_other_formats/LUNA_inpainted_cubes_for_GAN_v2/versions2D/qualitative assessment 1 (passed OM)/'"
   ]
  },
  {
   "cell_type": "code",
   "execution_count": 19,
   "metadata": {},
   "outputs": [
    {
     "name": "stdout",
     "output_type": "stream",
     "text": [
      "2292 1.3.6.1.4.1.14519.5.2.1.6279.6001.100225287222365663678666836860_block1_0_z139y136x29.raw\n"
     ]
    }
   ],
   "source": [
    "files = os.listdir(f'{path_source}original')\n",
    "files = np.sort(files)\n",
    "files = [i for i in files if 'raw' in i]\n",
    "print(len(files), files[0])"
   ]
  },
  {
   "cell_type": "code",
   "execution_count": 20,
   "metadata": {},
   "outputs": [
    {
     "name": "stdout",
     "output_type": "stream",
     "text": [
      "1801\n",
      "1801 0.7857766143106457\n"
     ]
    }
   ],
   "source": [
    "# QUALITATIVE EVALUATION\n",
    "files_quality = os.listdir(path_quality)\n",
    "print(len(files_quality))\n",
    "files_quality = [f'{i[:-3]}raw' for i in files_quality]\n",
    "files_common = list(set(files).intersection(set(files_quality)))\n",
    "print(len(files_common), len(files_common)/len(files))"
   ]
  },
  {
   "cell_type": "code",
   "execution_count": 21,
   "metadata": {},
   "outputs": [
    {
     "name": "stdout",
     "output_type": "stream",
     "text": [
      "files after quality approval = 1801\n",
      "files to train after excluding 5 fold = 1626\n",
      "files to train after excluding 4 fold = 1456\n",
      "files to train after including the [9, 0, 1, 2, 3, 6, 7, 8] = 1456\n"
     ]
    }
   ],
   "source": [
    "# GET THE FILES ACCORDING TO 10FOLDS-CV (EXCLUDE VAL AND TEST)\n",
    "# Get the indices of the folds that should be included AND excluded\n",
    "\n",
    "fold_excluded, fold_included = [], []\n",
    "all_fold_exclude = np.arange(0,10)\n",
    "fold_exclude = all_fold_exclude[exclude_this_and_previous]\n",
    "fold_excluded.append(fold_exclude)\n",
    "all_fold_exclude = np.roll(all_fold_exclude,1) # ROLL\n",
    "fold_exclude = all_fold_exclude[exclude_this_and_previous]\n",
    "fold_excluded.append(fold_exclude)\n",
    "fold_included = [i for i in all_fold_exclude if i not in fold_excluded]\n",
    "fold_excluded, fold_included\n",
    "# EXCLUDE AND INCLUDE TEST FOLDS\n",
    "files_fold = files_common\n",
    "print(f'files after quality approval = {len(files_fold)}')\n",
    "# EXCLUDE TEST FOLDS\n",
    "for idx,i in enumerate(fold_excluded):\n",
    "    path_csv_folds = f'/home/om18/Documents/KCL/Nov 5 2019 - Nodule Detection/LUNA16_nodule_detection/FP_reduction_3_5fold_xval/cycleGAN_augmented/results_fold_{i}/test_results_fold{i}.csv'\n",
    "    csv_folds = pd.read_csv(path_csv_folds)\n",
    "    files_in_fold = np.unique(csv_folds['seriesuid'].values)\n",
    "    files_fold = [i for idx, i in enumerate(files_fold) if i.split('_')[0] not in files_in_fold]\n",
    "    print(f'files to train after excluding {i} fold = {len(files_fold)}')\n",
    "# INCLUDE TEST FOLDS\n",
    "files_in_folds = []\n",
    "for i in fold_included:\n",
    "    path_csv_folds = f'/home/om18/Documents/KCL/Nov 5 2019 - Nodule Detection/LUNA16_nodule_detection/FP_reduction_3_5fold_xval/cycleGAN_augmented/results_fold_{i}/test_results_fold{i}.csv'\n",
    "    csv_folds = pd.read_csv(path_csv_folds)\n",
    "    files_in_folds += list(np.unique(csv_folds['seriesuid'].values))\n",
    "    \n",
    "files_fold = [i for idx, i in enumerate(files_fold) if i.split('_')[0] in files_in_folds]\n",
    "print(f'files to train after including the {fold_included} = {len(files_fold)}')\n",
    "files_common = files_fold"
   ]
  },
  {
   "cell_type": "code",
   "execution_count": 22,
   "metadata": {},
   "outputs": [
    {
     "name": "stdout",
     "output_type": "stream",
     "text": [
      "fold_excluded = [5, 4]\n",
      "fold_included = [9, 0, 1, 2, 3, 6, 7, 8]\n"
     ]
    }
   ],
   "source": [
    "print(f'fold_excluded = {fold_excluded}')\n",
    "print(f'fold_included = {fold_included}')"
   ]
  },
  {
   "cell_type": "markdown",
   "metadata": {},
   "source": [
    "### main"
   ]
  },
  {
   "cell_type": "code",
   "execution_count": 23,
   "metadata": {},
   "outputs": [],
   "source": [
    "fold = 1\n",
    "np.random.seed(fold)\n",
    "files_train, files_test = train_test_split(files_common, test_size=0.003, random_state=fold)\n",
    "files_train = np.sort(files_train)\n",
    "files_test = np.sort(files_test)"
   ]
  },
  {
   "cell_type": "code",
   "execution_count": 24,
   "metadata": {},
   "outputs": [
    {
     "data": {
      "text/plain": [
       "(1451, 5)"
      ]
     },
     "execution_count": 24,
     "metadata": {},
     "output_type": "execute_result"
    }
   ],
   "source": [
    "len(files_train), len(files_test)"
   ]
  },
  {
   "cell_type": "code",
   "execution_count": 25,
   "metadata": {},
   "outputs": [
    {
     "data": {
      "text/plain": [
       "(1448, 0)"
      ]
     },
     "execution_count": 25,
     "metadata": {},
     "output_type": "execute_result"
    }
   ],
   "source": [
    "# Since we are using ReplayBuffer we need to make sure our minibatches have the correct size\n",
    "batch_size_remainder_train = len(files_train) % batchsize\n",
    "batch_size_remainder_test = len(files_test) % batchsize\n",
    "files_train = files_train[:-batch_size_remainder_train]\n",
    "files_test = files_test[:-batch_size_remainder_test]\n",
    "len(files_train), len(files_test)"
   ]
  },
  {
   "cell_type": "code",
   "execution_count": 26,
   "metadata": {},
   "outputs": [],
   "source": [
    "# # Save the files that were also analyzed (malignancy classification) in the inpainting part\n",
    "# df_qc_3agree = pd.read_csv('/data/OMM/Datasets/LIDC_other_formats/LIDC_inpainted_malignancy_classification 2D - for workshop/df_QC_3agree.csv')\n",
    "# df_qc_3agree_names = df_qc_3agree.names.values\n",
    "# len(df_qc_3agree), df_qc_3agree_names[0]\n",
    "\n",
    "# # files_check = [i.split('.')[0] for idx, i in enumerate(files_train) if idx % 4 == 0]\n",
    "# # len(files_check)\n",
    "\n",
    "# files_check = [i.split('.')[0] for i in files_train if i.split('.')[0] in df_qc_3agree_names]\n",
    "# len(files_check)"
   ]
  },
  {
   "cell_type": "code",
   "execution_count": 27,
   "metadata": {},
   "outputs": [],
   "source": [
    "class LIDCGAN_dataready(Dataset):\n",
    "    def __init__(self, files_train_test, transform = False):\n",
    "        self.A = [f'{path_source}original/{i}' for i in files_train_test]\n",
    "        self.B = [f\"{path_source}inpainted inserted/{i}\" for i in files_train_test]\n",
    "        self.mask = [f\"{path_source}mask/{i}\" for i in files_train_test]\n",
    "        self.transform = transform\n",
    "        \n",
    "    def __len__(self):\n",
    "        return len(self.A)\n",
    "    \n",
    "    def normalizePatches(self, npzarray):\n",
    "        maxHU = 400.\n",
    "        minHU = -1000.\n",
    "\n",
    "        npzarray = (npzarray - minHU) / (maxHU - minHU)\n",
    "        npzarray[npzarray>1] = 1.\n",
    "        npzarray[npzarray<0] = 0.\n",
    "        return npzarray\n",
    "    \n",
    "    def rotate_and_flip(self, image1, image2, image3):\n",
    "        rand_int = np.random.randint(1,4)\n",
    "        if np.random.rand() > .3:\n",
    "            image1 = np.rot90(image1,rand_int).copy()\n",
    "            image2 = np.rot90(image2,rand_int).copy()\n",
    "            image3 = np.rot90(image3,rand_int).copy()\n",
    "        if np.random.rand() > .5:\n",
    "            image1 = np.flip(image1,0).copy()\n",
    "            image2 = np.flip(image2,0).copy()\n",
    "            image3 = np.flip(image3,0).copy()\n",
    "        if np.random.rand() > .5:\n",
    "            image1 = np.flip(image1,1).copy()\n",
    "            image2 = np.flip(image2,1).copy()\n",
    "            image3 = np.flip(image3,1).copy()\n",
    "        return image1, image2, image3\n",
    "                              \n",
    "    def __getitem__(self, idx):\n",
    "        imgA = np.fromfile(self.A[idx],dtype='int16').astype('float32').reshape((64,64,64))\n",
    "        imgB = np.fromfile(self.B[idx],dtype='int16').astype('float32').reshape((64,64,64))\n",
    "        mask = np.fromfile(self.mask[idx],dtype='int16').astype('float32').reshape((64,64,64))\n",
    "        \n",
    "        # v1: ONLY USE THE INSIDE OF THE CUBE (32x32x32 size)\n",
    "        imgA = imgA[16:-16,16:-16,16:-16]\n",
    "        imgB = imgB[16:-16,16:-16,16:-16]\n",
    "        mask = mask[16:-16,16:-16,16:-16]\n",
    "        \n",
    "        # normalize\n",
    "        imgA = self.normalizePatches(imgA)\n",
    "        imgB = self.normalizePatches(imgB) \n",
    "        \n",
    "        # Flips\n",
    "        if self.transform:\n",
    "            imgA, imgB, mask = self.rotate_and_flip(imgA, imgB, mask)\n",
    "                    \n",
    "        # Add channels dimension\n",
    "        imgA = np.expand_dims(imgA,0)\n",
    "        imgB = np.expand_dims(imgB,0)\n",
    "        mask = np.expand_dims(mask,0)\n",
    "        \n",
    "        # Pytorch\n",
    "        imgA = Tensor(imgA)\n",
    "        imgB = Tensor(imgB)\n",
    "        mask = Tensor(mask)\n",
    "                  \n",
    "        # Get name to save the data                      \n",
    "#         name = self.A[idx].split('orig/')[-1]\n",
    "        name = self.A[idx]\n",
    "    \n",
    "        return imgA, imgB, mask, name"
   ]
  },
  {
   "cell_type": "code",
   "execution_count": 28,
   "metadata": {},
   "outputs": [],
   "source": [
    "dataset_train = LIDCGAN_dataready(files_train, transform=False)"
   ]
  },
  {
   "cell_type": "code",
   "execution_count": 29,
   "metadata": {},
   "outputs": [],
   "source": [
    "dataloader_train = DataLoader(dataset_train, batch_size=batchsize, shuffle=False)"
   ]
  },
  {
   "cell_type": "code",
   "execution_count": 30,
   "metadata": {},
   "outputs": [],
   "source": [
    "slice_middle = 15\n",
    "def plot_next_batch_dataloader(dataloader_iterX):\n",
    "    a, b, mask, name = next(dataloader_iterX)\n",
    "    print(np.shape(a), np.shape(b), np.shape(mask))\n",
    "    for i,j,k in zip(a,b,mask):\n",
    "        fig, ax = plt.subplots(1,4,figsize=(10,5))\n",
    "        i = i[0].detach().cpu().numpy()\n",
    "        j = j[0].detach().cpu().numpy()\n",
    "        k = k[0].detach().cpu().numpy()\n",
    "        print(np.shape(i), np.shape(j), np.shape(k))\n",
    "        new_name = name[0].split('/')[-1][:-4]\n",
    "        ax[0].imshow(i[slice_middle], vmin=0, vmax=1)\n",
    "        ax[1].imshow(j[slice_middle], vmin=0, vmax=1)\n",
    "        ax[2].imshow(np.abs(i[slice_middle]-j[slice_middle]), vmin=0, vmax=.1)\n",
    "        ax[3].imshow(k[slice_middle])\n",
    "        fig.tight_layout()"
   ]
  },
  {
   "cell_type": "code",
   "execution_count": 31,
   "metadata": {},
   "outputs": [],
   "source": [
    "def shape_next_batch_dataloader(dataloader_iterX):\n",
    "    a, b, mask, name = next(dataloader_iterX)\n",
    "    for i,j,k in zip(a,b,mask):\n",
    "        print(i.shape)\n",
    "        print(j.shape)"
   ]
  },
  {
   "cell_type": "code",
   "execution_count": 32,
   "metadata": {},
   "outputs": [],
   "source": [
    "dataloader_iter = iter(dataloader_train)"
   ]
  },
  {
   "cell_type": "code",
   "execution_count": 33,
   "metadata": {},
   "outputs": [
    {
     "name": "stdout",
     "output_type": "stream",
     "text": [
      "torch.Size([8, 1, 32, 32, 32]) torch.Size([8, 1, 32, 32, 32]) torch.Size([8, 1, 32, 32, 32])\n",
      "(32, 32, 32) (32, 32, 32) (32, 32, 32)\n",
      "(32, 32, 32) (32, 32, 32) (32, 32, 32)\n",
      "(32, 32, 32) (32, 32, 32) (32, 32, 32)\n",
      "(32, 32, 32) (32, 32, 32) (32, 32, 32)\n",
      "(32, 32, 32) (32, 32, 32) (32, 32, 32)\n",
      "(32, 32, 32) (32, 32, 32) (32, 32, 32)\n",
      "(32, 32, 32) (32, 32, 32) (32, 32, 32)\n",
      "(32, 32, 32) (32, 32, 32) (32, 32, 32)\n"
     ]
    },
    {
     "data": {
      "image/png": "[encoded data removed]",
      "text/plain": [
       "<Figure size 720x360 with 4 Axes>"
      ]
     },
     "metadata": {},
     "output_type": "display_data"
    },
    {
     "data": {
      "image/png": "[encoded data removed]",
      "text/plain": [
       "<Figure size 720x360 with 4 Axes>"
      ]
     },
     "metadata": {},
     "output_type": "display_data"
    },
    {
     "data": {
      "image/png": "[encoded data removed]",
      "text/plain": [
       "<Figure size 720x360 with 4 Axes>"
      ]
     },
     "metadata": {},
     "output_type": "display_data"
    },
    {
     "data": {
      "image/png": "[encoded data removed]",
      "text/plain": [
       "<Figure size 720x360 with 4 Axes>"
      ]
     },
     "metadata": {},
     "output_type": "display_data"
    },
    {
     "data": {
      "image/png": "[encoded data removed]",
      "text/plain": [
       "<Figure size 720x360 with 4 Axes>"
      ]
     },
     "metadata": {},
     "output_type": "display_data"
    },
    {
     "data": {
      "image/png": "[encoded data removed]",
      "text/plain": [
       "<Figure size 720x360 with 4 Axes>"
      ]
     },
     "metadata": {},
     "output_type": "display_data"
    },
    {
     "data": {
      "image/png": "[encoded data removed]",
      "text/plain": [
       "<Figure size 720x360 with 4 Axes>"
      ]
     },
     "metadata": {},
     "output_type": "display_data"
    },
    {
     "data": {
      "image/png": "[encoded data removed]",
      "text/plain": [
       "<Figure size 720x360 with 4 Axes>"
      ]
     },
     "metadata": {},
     "output_type": "display_data"
    }
   ],
   "source": [
    "set_all_rcParams(False)\n",
    "plot_next_batch_dataloader(dataloader_iter)\n",
    "# plot_next_batch_dataloader(dataloader_iter)"
   ]
  },
  {
   "cell_type": "code",
   "execution_count": 34,
   "metadata": {},
   "outputs": [],
   "source": [
    "# Inputs & targets memory allocation\n",
    "Tensor = torch.cuda.FloatTensor if cuda else torch.Tensor\n",
    "input_A = Tensor(batchsize, input_nc, 32, 32, 32)\n",
    "input_B = Tensor(batchsize, input_nc, 32, 32, 32)\n",
    "target_real = Variable(Tensor(batchsize).fill_(1.0), requires_grad=False)\n",
    "target_fake = Variable(Tensor(batchsize).fill_(0.0), requires_grad=False)"
   ]
  },
  {
   "cell_type": "code",
   "execution_count": 35,
   "metadata": {},
   "outputs": [],
   "source": [
    "fake_A_buffer = ReplayBuffer()\n",
    "fake_B_buffer = ReplayBuffer()"
   ]
  },
  {
   "cell_type": "code",
   "execution_count": 36,
   "metadata": {},
   "outputs": [],
   "source": [
    "# def save_generated_images(name, files_to_check):\n",
    "    \n",
    "#     if name in files_to_check:        \n",
    "#         np.save(f'{path_dest}A/{name}_ep{epoch:03d}',fake_A)\n",
    "#         np.save(f'{path_dest}B/{name}_ep{epoch:03d}',fake_B)"
   ]
  },
  {
   "cell_type": "code",
   "execution_count": 37,
   "metadata": {},
   "outputs": [],
   "source": [
    "path_netG_A2B = f'{path_dest}models/netG_A2B.pth'\n",
    "path_netG_B2A = f'{path_dest}models/netG_B2A.pth'\n",
    "path_netD_A = f'{path_dest}models/netD_A.pth'\n",
    "path_netD_B = f'{path_dest}models/netD_B.pth'"
   ]
  },
  {
   "cell_type": "code",
   "execution_count": 38,
   "metadata": {},
   "outputs": [],
   "source": [
    "dataset_test = LIDCGAN_dataready(files_test, transform=False)\n",
    "dataloader_test = DataLoader(dataset_test, batch_size=batchsize, shuffle=False)"
   ]
  },
  {
   "cell_type": "code",
   "execution_count": 39,
   "metadata": {},
   "outputs": [
    {
     "name": "stdout",
     "output_type": "stream",
     "text": [
      "-1\n"
     ]
    }
   ],
   "source": [
    "# to continue training\n",
    "try:\n",
    "    epoch_done = int(np.load(f'{path_dest}models/last_epoch.npy'))\n",
    "    netG_A2B.load_state_dict(torch.load(path_netG_A2B))\n",
    "    netG_B2A.load_state_dict(torch.load(path_netG_B2A))\n",
    "    netD_A.load_state_dict(torch.load(path_netD_A))\n",
    "    netD_B.load_state_dict(torch.load(path_netD_B))\n",
    "    loss_G_all = np.load(f'{path_dest}metrics/loss_G_all.npy')\n",
    "    loss_G_identity_all = np.load(f'{path_dest}metrics/loss_G_identity_all.npy')\n",
    "    loss_G_GAN_all = np.load(f'{path_dest}metrics/loss_G_GAN_all.npy')\n",
    "    loss_G_cycle_all = np.load(f'{path_dest}metrics/loss_G_cycle_all.npy')\n",
    "    loss_D_all = np.load(f'{path_dest}metrics/loss_D_all.npy')\n",
    "    loss_G_all = np.expand_dims(loss_G_all,-1).tolist()\n",
    "    loss_G_identity_all = np.expand_dims(loss_G_identity_all,-1).tolist()\n",
    "    loss_G_GAN_all = np.expand_dims(loss_G_GAN_all,-1).tolist()\n",
    "    loss_G_cycle_all = np.expand_dims(loss_G_cycle_all,-1).tolist()\n",
    "    loss_D_all = np.expand_dims(loss_D_all,-1).tolist()\n",
    "except FileNotFoundError:\n",
    "    epoch_done = -1\n",
    "    loss_G_all = []\n",
    "    loss_G_identity_all = []\n",
    "    loss_G_GAN_all = []\n",
    "    loss_G_cycle_all = []\n",
    "    loss_D_all = []\n",
    "print(epoch_done)"
   ]
  },
  {
   "cell_type": "code",
   "execution_count": 40,
   "metadata": {},
   "outputs": [
    {
     "data": {
      "text/plain": [
       "'/data/OMM/project results/Feb 20 19 - CycleGan clean/deep nodule prior luna v3 - cubes size 32 coefficients - 10 folds fold5/'"
      ]
     },
     "execution_count": 40,
     "metadata": {},
     "output_type": "execute_result"
    }
   ],
   "source": [
    "path_dest"
   ]
  },
  {
   "cell_type": "code",
   "execution_count": 41,
   "metadata": {
    "scrolled": true
   },
   "outputs": [
    {
     "data": {
      "application/vnd.jupyter.widget-view+json": {
       "model_id": "3064ddbc10f645dc887f17e4898e79e3",
       "version_major": 2,
       "version_minor": 0
      },
      "text/plain": [
       "HBox(children=(IntProgress(value=0, max=401), HTML(value='')))"
      ]
     },
     "metadata": {},
     "output_type": "display_data"
    },
    {
     "name": "stdout",
     "output_type": "stream",
     "text": [
      "epoch = 0\n"
     ]
    },
    {
     "data": {
      "application/vnd.jupyter.widget-view+json": {
       "model_id": "0127e61157444f9b87463e6229c30986",
       "version_major": 2,
       "version_minor": 0
      },
      "text/plain": [
       "HBox(children=(IntProgress(value=0, max=181), HTML(value='')))"
      ]
     },
     "metadata": {},
     "output_type": "display_data"
    },
    {
     "ename": "FileNotFoundError",
     "evalue": "[Errno 2] No such file or directory: '/data/OMM/project results/Feb 20 19 - CycleGan clean/deep nodule prior luna v3 - cubes size 32 coefficients - 10 folds fold5/metrics/loss_G_all.npy'",
     "output_type": "error",
     "traceback": [
      "\u001b[0;31m---------------------------------------------------------------------------\u001b[0m",
      "\u001b[0;31mFileNotFoundError\u001b[0m                         Traceback (most recent call last)",
      "\u001b[0;32m<ipython-input-41-ce7facba597d>\u001b[0m in \u001b[0;36m<module>\u001b[0;34m\u001b[0m\n\u001b[1;32m    111\u001b[0m             \u001b[0mloss_G_cycle_all_squeezed\u001b[0m \u001b[0;34m=\u001b[0m \u001b[0mnp\u001b[0m\u001b[0;34m.\u001b[0m\u001b[0msqueeze\u001b[0m\u001b[0;34m(\u001b[0m\u001b[0mloss_G_cycle_all\u001b[0m\u001b[0;34m)\u001b[0m\u001b[0;34m\u001b[0m\u001b[0;34m\u001b[0m\u001b[0m\n\u001b[1;32m    112\u001b[0m             \u001b[0mloss_D_all_squeezed\u001b[0m \u001b[0;34m=\u001b[0m \u001b[0mnp\u001b[0m\u001b[0;34m.\u001b[0m\u001b[0msqueeze\u001b[0m\u001b[0;34m(\u001b[0m\u001b[0mloss_D_all\u001b[0m\u001b[0;34m)\u001b[0m\u001b[0;34m\u001b[0m\u001b[0;34m\u001b[0m\u001b[0m\n\u001b[0;32m--> 113\u001b[0;31m             \u001b[0mnp\u001b[0m\u001b[0;34m.\u001b[0m\u001b[0msave\u001b[0m\u001b[0;34m(\u001b[0m\u001b[0;34mf'{path_dest}metrics/loss_G_all'\u001b[0m\u001b[0;34m,\u001b[0m\u001b[0mloss_G_all_squeezed\u001b[0m\u001b[0;34m)\u001b[0m\u001b[0;34m\u001b[0m\u001b[0;34m\u001b[0m\u001b[0m\n\u001b[0m\u001b[1;32m    114\u001b[0m             \u001b[0mnp\u001b[0m\u001b[0;34m.\u001b[0m\u001b[0msave\u001b[0m\u001b[0;34m(\u001b[0m\u001b[0;34mf'{path_dest}metrics/loss_G_identity_all'\u001b[0m\u001b[0;34m,\u001b[0m\u001b[0mloss_G_identity_all_squeezed\u001b[0m\u001b[0;34m)\u001b[0m\u001b[0;34m\u001b[0m\u001b[0;34m\u001b[0m\u001b[0m\n\u001b[1;32m    115\u001b[0m             \u001b[0mnp\u001b[0m\u001b[0;34m.\u001b[0m\u001b[0msave\u001b[0m\u001b[0;34m(\u001b[0m\u001b[0;34mf'{path_dest}metrics/loss_G_GAN_all'\u001b[0m\u001b[0;34m,\u001b[0m\u001b[0mloss_G_GAN_all_squeezed\u001b[0m\u001b[0;34m)\u001b[0m\u001b[0;34m\u001b[0m\u001b[0;34m\u001b[0m\u001b[0m\n",
      "\u001b[0;32m<__array_function__ internals>\u001b[0m in \u001b[0;36msave\u001b[0;34m(*args, **kwargs)\u001b[0m\n",
      "\u001b[0;32m~/anaconda3/envs/torch/lib/python3.6/site-packages/numpy/lib/npyio.py\u001b[0m in \u001b[0;36msave\u001b[0;34m(file, arr, allow_pickle, fix_imports)\u001b[0m\n\u001b[1;32m    528\u001b[0m         \u001b[0;32mif\u001b[0m \u001b[0;32mnot\u001b[0m \u001b[0mfile\u001b[0m\u001b[0;34m.\u001b[0m\u001b[0mendswith\u001b[0m\u001b[0;34m(\u001b[0m\u001b[0;34m'.npy'\u001b[0m\u001b[0;34m)\u001b[0m\u001b[0;34m:\u001b[0m\u001b[0;34m\u001b[0m\u001b[0;34m\u001b[0m\u001b[0m\n\u001b[1;32m    529\u001b[0m             \u001b[0mfile\u001b[0m \u001b[0;34m=\u001b[0m \u001b[0mfile\u001b[0m \u001b[0;34m+\u001b[0m \u001b[0;34m'.npy'\u001b[0m\u001b[0;34m\u001b[0m\u001b[0;34m\u001b[0m\u001b[0m\n\u001b[0;32m--> 530\u001b[0;31m         \u001b[0mfid\u001b[0m \u001b[0;34m=\u001b[0m \u001b[0mopen\u001b[0m\u001b[0;34m(\u001b[0m\u001b[0mfile\u001b[0m\u001b[0;34m,\u001b[0m \u001b[0;34m\"wb\"\u001b[0m\u001b[0;34m)\u001b[0m\u001b[0;34m\u001b[0m\u001b[0;34m\u001b[0m\u001b[0m\n\u001b[0m\u001b[1;32m    531\u001b[0m         \u001b[0mown_fid\u001b[0m \u001b[0;34m=\u001b[0m \u001b[0;32mTrue\u001b[0m\u001b[0;34m\u001b[0m\u001b[0;34m\u001b[0m\u001b[0m\n\u001b[1;32m    532\u001b[0m \u001b[0;34m\u001b[0m\u001b[0m\n",
      "\u001b[0;31mFileNotFoundError\u001b[0m: [Errno 2] No such file or directory: '/data/OMM/project results/Feb 20 19 - CycleGan clean/deep nodule prior luna v3 - cubes size 32 coefficients - 10 folds fold5/metrics/loss_G_all.npy'"
     ]
    }
   ],
   "source": [
    "# path_test_output = f'{path_dest}test output/'\n",
    "\n",
    "for epoch in tqdm_notebook(range(n_epochs)):\n",
    "    if epoch <=  epoch_done: continue\n",
    "    #if epoch==1:break\n",
    "    print(f'epoch = {epoch}')\n",
    "    # A = original\n",
    "    # B = inpainted\n",
    "    for i, (A, B, mask, name) in tqdm_notebook(enumerate(dataloader_train), total= dataloader_train.dataset.__len__() // batchsize):\n",
    "        netG_A2B.train()\n",
    "        netG_B2A.train()\n",
    "        netD_A.train()\n",
    "        netD_B.train()\n",
    "        \n",
    "        # Set model input\n",
    "        real_A = Variable(input_A.copy_(A))\n",
    "        real_B = Variable(input_B.copy_(B))\n",
    "        #pdb.set_trace()\n",
    "        ###### Generators A2B and B2A ######\n",
    "        optimizer_G.zero_grad()\n",
    "\n",
    "        # Identity loss\n",
    "        # G_A2B(B) should equal B if real B is fed\n",
    "        same_B = netG_A2B(real_B) # OMM\n",
    "        loss_identity_B = criterion_identity(same_B, real_B) * 5.0\n",
    "        # G_B2A(A) should equal A if real A is fed\n",
    "        same_A = netG_B2A(real_A) # OMM\n",
    "        loss_identity_A = criterion_identity(same_A, real_A) * 5.0\n",
    "\n",
    "        # GAN loss\n",
    "        fake_B = netG_A2B(real_A) # OMM # \n",
    "        pred_fake = netD_B(fake_B)\n",
    "        pred_fake.squeeze_() # OMM\n",
    "        loss_GAN_A2B = criterion_GAN(pred_fake, target_real)\n",
    "\n",
    "        fake_A = netG_B2A(real_B) # OMM # \n",
    "        pred_fake = netD_A(fake_A)\n",
    "        pred_fake.squeeze_() # OMM\n",
    "        loss_GAN_B2A = criterion_GAN(pred_fake, target_real)\n",
    "\n",
    "        # Cycle loss\n",
    "        recovered_A = netG_B2A(fake_B) # OMM\n",
    "        loss_cycle_ABA = criterion_cycle(recovered_A, real_A) * 10.0\n",
    "\n",
    "        recovered_B = netG_A2B(fake_A) # OMM\n",
    "        loss_cycle_BAB = criterion_cycle(recovered_B, real_B) * 10.0\n",
    "\n",
    "        # Total loss\n",
    "        loss_G = loss_identity_A + loss_identity_B + loss_GAN_A2B + loss_GAN_B2A + loss_cycle_ABA + loss_cycle_BAB\n",
    "        loss_G.backward()\n",
    "        \n",
    "        optimizer_G.step()\n",
    "        ###################################\n",
    "\n",
    "        ###### Discriminator A ######\n",
    "        optimizer_D_A.zero_grad()\n",
    "\n",
    "        # Real loss\n",
    "        pred_real = netD_A(real_A)\n",
    "        pred_real.squeeze_() # OMM\n",
    "        loss_D_real = criterion_GAN(pred_real, target_real)\n",
    "\n",
    "        # Fake loss\n",
    "        fake_A = fake_A_buffer.push_and_pop(fake_A)\n",
    "        pred_fake = netD_A(fake_A.detach())\n",
    "        pred_fake.squeeze_() # OMM\n",
    "        loss_D_fake = criterion_GAN(pred_fake, target_fake)\n",
    "\n",
    "        # Total loss\n",
    "        loss_D_A = (loss_D_real + loss_D_fake) * 0.5\n",
    "        loss_D_A.backward()\n",
    "\n",
    "        optimizer_D_A.step()\n",
    "        ###################################\n",
    "\n",
    "        ###### Discriminator B ######\n",
    "        optimizer_D_B.zero_grad()\n",
    "\n",
    "        # Real loss\n",
    "        pred_real = netD_B(real_B)\n",
    "        pred_real.squeeze_() # OMM\n",
    "        loss_D_real = criterion_GAN(pred_real, target_real)\n",
    "        \n",
    "        # Fake loss\n",
    "        fake_B = fake_B_buffer.push_and_pop(fake_B)\n",
    "        pred_fake = netD_B(fake_B.detach())\n",
    "        pred_fake.squeeze_() # OMM\n",
    "        loss_D_fake = criterion_GAN(pred_fake, target_fake)\n",
    "\n",
    "        # Total loss\n",
    "        loss_D_B = (loss_D_real + loss_D_fake) * 0.5\n",
    "        loss_D_B.backward()\n",
    "\n",
    "        optimizer_D_B.step()\n",
    "        ###################################\n",
    "        \n",
    "        # Save results\n",
    "        loss_G_all.append(loss_G.detach().cpu().numpy())\n",
    "        loss_G_identity_all.append((loss_identity_A.detach().cpu().numpy() + loss_identity_B.detach().cpu().numpy()))\n",
    "        loss_G_GAN_all.append((loss_GAN_A2B.detach().cpu().numpy() + loss_GAN_B2A.detach().cpu().numpy()))\n",
    "        loss_G_cycle_all.append((loss_cycle_ABA.detach().cpu().numpy() + loss_cycle_BAB.detach().cpu().numpy()))\n",
    "        loss_D_all.append((loss_D_A.detach().cpu().numpy() + loss_D_B.detach().cpu().numpy()))\n",
    "\n",
    "                # Save generated images (from a few examples)\n",
    "        if epoch % 2 == 0:\n",
    "            \n",
    "            # save metrics\n",
    "            loss_G_all_squeezed = np.squeeze(loss_G_all)\n",
    "            loss_G_identity_all_squeezed = np.squeeze(loss_G_identity_all)\n",
    "            loss_G_GAN_all_squeezed = np.squeeze(loss_G_GAN_all)\n",
    "            loss_G_cycle_all_squeezed = np.squeeze(loss_G_cycle_all)\n",
    "            loss_D_all_squeezed = np.squeeze(loss_D_all)\n",
    "            np.save(f'{path_dest}metrics/loss_G_all',loss_G_all_squeezed)\n",
    "            np.save(f'{path_dest}metrics/loss_G_identity_all',loss_G_identity_all_squeezed)\n",
    "            np.save(f'{path_dest}metrics/loss_G_GAN_all',loss_G_GAN_all_squeezed)\n",
    "            np.save(f'{path_dest}metrics/loss_G_cycle_all',loss_G_cycle_all_squeezed)\n",
    "            np.save(f'{path_dest}metrics/loss_D_all',loss_D_all_squeezed)\n",
    "            \n",
    "            \n",
    "            for iA, iB, i_name in zip(fake_A, fake_B, name):\n",
    "                \n",
    "                iA = np.squeeze(iA.detach().cpu().numpy())\n",
    "                iB = np.squeeze(iB.detach().cpu().numpy())\n",
    "                i_name = i_name.split('/')[-1]\n",
    "                \n",
    "                iA.tofile(f'{path_dest}A/{i_name}_ep{epoch:03d}') # SAVE THE IMAGES!!!!!\n",
    "#                 iB.tofile(f'{path_dest}B/{i_name}_ep{epoch:03d}')\n",
    "                \n",
    "            \n",
    "            \n",
    "            \n",
    "#             new_name = name[0].split('/')[-1][:-4]\n",
    "# #             if new_name in files_check: # WE NOW SAVE ALL ITERATIONS\n",
    "#             np.save(f'{path_dest}A/{new_name}_ep{epoch:03d}',fake_A)\n",
    "#             np.save(f'{path_dest}B/{new_name}_ep{epoch:03d}',fake_B)\n",
    "        \n",
    "    # Test sets \n",
    "#     netG_A2B.eval()\n",
    "#     netG_B2A.eval()\n",
    "        \n",
    "#     # Inputs & targets memory allocation\n",
    "#     input_A_test = Tensor(batchsize, input_nc, 64, 64)\n",
    "#     input_B_test = Tensor(batchsize, output_nc, 64, 64)\n",
    "    \n",
    "#     for i, (A, B, mask, name) in enumerate(dataloader_test):\n",
    "#         # Set model input\n",
    "#         real_A = Variable(input_A_test.copy_(A))\n",
    "#         real_B = Variable(input_B_test.copy_(B))\n",
    "\n",
    "#         # Generate output # OMM the original equation was modified\n",
    "#         fake_B = (netG_A2B(real_A).data) # 0.5*(netG_A2B(real_A).data + 1.0) <-original equation\n",
    "#         fake_A = (netG_B2A(real_B).data)\n",
    "#         new_name = name[0].split('/')[-1][:-4]\n",
    "#         # Save output\n",
    "#         np.save(f'{path_test_output}A/{new_name}_ep{epoch:03d}', fake_A)\n",
    "#         np.save(f'{path_test_output}B/{new_name}_ep{epoch:03d}', fake_B)\n",
    "    \n",
    "\n",
    "    # Update learning rates\n",
    "    lr_scheduler_G.step()\n",
    "    lr_scheduler_D_A.step()\n",
    "    lr_scheduler_D_B.step()\n",
    "    \n",
    "    \n",
    "\n",
    "    # Save models checkpoints\n",
    "    torch.save(netG_A2B.state_dict(), path_netG_A2B)\n",
    "    torch.save(netG_B2A.state_dict(), path_netG_B2A)\n",
    "    torch.save(netD_A.state_dict(), path_netD_A)\n",
    "    torch.save(netD_B.state_dict(), path_netD_B)\n",
    "    np.save(f'{path_dest}models/last_epoch.npy', epoch)"
   ]
  },
  {
   "cell_type": "code",
   "execution_count": null,
   "metadata": {},
   "outputs": [],
   "source": [
    "/data/OMM/project results/Feb 20 19 - CycleGan clean/\n",
    "deep nodule prior luna v3 - cubes size 32 coefficients - 10 folds"
   ]
  },
  {
   "cell_type": "code",
   "execution_count": null,
   "metadata": {},
   "outputs": [],
   "source": []
  },
  {
   "cell_type": "code",
   "execution_count": null,
   "metadata": {},
   "outputs": [],
   "source": []
  }
 ],
 "metadata": {
  "kernelspec": {
   "display_name": "Python 3",
   "language": "python",
   "name": "python3"
  },
  "language_info": {
   "codemirror_mode": {
    "name": "ipython",
    "version": 3
   },
   "file_extension": ".py",
   "mimetype": "text/x-python",
   "name": "python",
   "nbconvert_exporter": "python",
   "pygments_lexer": "ipython3",
   "version": "3.6.9"
  },
  "varInspector": {
   "cols": {
    "lenName": 16,
    "lenType": 16,
    "lenVar": 40
   },
   "kernels_config": {
    "python": {
     "delete_cmd_postfix": "",
     "delete_cmd_prefix": "del ",
     "library": "var_list.py",
     "varRefreshCmd": "print(var_dic_list())"
    },
    "r": {
     "delete_cmd_postfix": ") ",
     "delete_cmd_prefix": "rm(",
     "library": "var_list.r",
     "varRefreshCmd": "cat(var_dic_list()) "
    }
   },
   "position": {
    "height": "524.646px",
    "left": "899.333px",
    "right": "20px",
    "top": "120px",
    "width": "350px"
   },
   "types_to_exclude": [
    "module",
    "function",
    "builtin_function_or_method",
    "instance",
    "_Feature"
   ],
   "window_display": false
  }
 },
 "nbformat": 4,
 "nbformat_minor": 2
}

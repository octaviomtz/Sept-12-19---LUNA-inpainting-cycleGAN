{
 "cells": [
  {
   "cell_type": "code",
   "execution_count": 1,
   "metadata": {},
   "outputs": [],
   "source": [
    "import os\n",
    "import numpy as np\n",
    "import matplotlib.pyplot as plt\n",
    "import imageio\n",
    "from utils_cellular_automata import *\n",
    "from scipy.ndimage import label\n",
    "import SimpleITK as sitk\n",
    "from copy import copy\n",
    "%matplotlib inline"
   ]
  },
  {
   "cell_type": "code",
   "execution_count": 2,
   "metadata": {},
   "outputs": [],
   "source": [
    "def fig_multiple3D(ff, r=1, c=4, name='ff', vmin=0, vmax=1):\n",
    "    '''Plot the middle slice of a 3D array.\n",
    "    We assume that np.shape(ff) == B'''\n",
    "    middle_slice = np.shape(np.squeeze(ff[0]))[0]//2 - 1\n",
    "    fig, ax = plt.subplots(r,c, figsize=(c*2,r*2))\n",
    "    for idx in range(r*c):\n",
    "        if r <= 1:\n",
    "            ax[idx].imshow(np.squeeze(ff[idx])[middle_slice,...])\n",
    "        else:\n",
    "            # print(idx,idx//c,idx%c)\n",
    "            ax[idx//c,idx%c].imshow(np.squeeze(ff[idx])[middle_slice,...], vmin=vmin, vmax=vmax)\n",
    "            # ax[idx//c,idx%c].text(5,10,f'{np.shape(ff[idx])}, {middle_slice}', color='y')\n",
    "    for axx in ax.ravel(): axx.axis('off')\n",
    "    # fig.suptitle(f'{name} {np.shape(ff)}')\n",
    "    fig.tight_layout()"
   ]
  },
  {
   "cell_type": "code",
   "execution_count": 3,
   "metadata": {},
   "outputs": [],
   "source": [
    "def fig_save_automata_growing(ID, idx, i, last32, orig32, vmin=0, vmax=1, folder='gifs/images_before_gifs/'):\n",
    "    fig, ax = plt.subplots(1,3,figsize=(8.5,3))\n",
    "    ax[0].imshow(last32[15], vmin=vmin, vmax=vmax)\n",
    "    ax[0].text(2,2,'inpain',color='y', fontsize=12)\n",
    "    ax[1].imshow(i, vmin=vmin, vmax=vmax)\n",
    "    ax[1].text(2,2,f'cel aut {idx}',color='y', fontsize=12)\n",
    "    ax[2].imshow(orig32[15], vmin=vmin, vmax=vmax)\n",
    "    ax[2].text(2,2,'orig',color='y', fontsize=12)\n",
    "    for axx in ax.ravel(): axx.axis('off')\n",
    "    fig.tight_layout()\n",
    "    plt.savefig(f'{folder}{ID}_{idx:04d}.png')\n",
    "    plt.close()"
   ]
  },
  {
   "cell_type": "code",
   "execution_count": 4,
   "metadata": {},
   "outputs": [],
   "source": [
    "def fig_read_figs_and_make_gif(ID, folder='gifs/images_before_gifs/'):\n",
    "    files_figures = os.listdir(folder)\n",
    "    files_figures = np.sort(files_figures)\n",
    "    images_all = []\n",
    "    for i in files_figures:\n",
    "        a = imageio.mimread(f'{folder}{i}')\n",
    "        os.remove(f'{folder}{i}')\n",
    "        images_all.append(a[0])\n",
    "    imageio.mimsave(f'gifs/{ID}.gif', images_all, duration=.3)"
   ]
  },
  {
   "cell_type": "code",
   "execution_count": 5,
   "metadata": {},
   "outputs": [],
   "source": [
    "def pad_image_and_get_right_size_cube(numpyImage_resampled_inserted, coord_z, coord_y, coord_x, cube_half_size = 40, xpad = 40):\n",
    "    '''we padd the resampled image because some nodules are close to the border '''\n",
    "    np_im_pad = np.pad(numpyImage_resampled_inserted,((xpad,xpad),(xpad,xpad),(xpad,xpad)),mode='reflect')\n",
    "    cube_augmented = np_im_pad[coord_z-cube_half_size+xpad:coord_z+cube_half_size+xpad, coord_y-cube_half_size+xpad:coord_y+cube_half_size+xpad, coord_x-cube_half_size+xpad:coord_x+cube_half_size+xpad]\n",
    "    assert np.shape(cube_augmented) == (80,80,80)\n",
    "    return cube_augmented"
   ]
  },
  {
   "cell_type": "code",
   "execution_count": 6,
   "metadata": {},
   "outputs": [],
   "source": [
    "def load_itk_image(filename):\n",
    "    itkimage = sitk.ReadImage(filename)\n",
    "    numpyImage = sitk.GetArrayFromImage(itkimage)\n",
    "     \n",
    "    numpyOrigin = np.array(list(reversed(itkimage.GetOrigin())))\n",
    "    numpySpacing = np.array(list(reversed(itkimage.GetSpacing())))\n",
    "     \n",
    "    return numpyImage, numpyOrigin, numpySpacing"
   ]
  },
  {
   "cell_type": "code",
   "execution_count": 7,
   "metadata": {},
   "outputs": [],
   "source": [
    "def resample_scan_sitk(image,spacing, original_shape, new_spacing=[1,1,1], resampling_method=sitk.sitkLinear):\n",
    "\n",
    "    # reorder sizes as sitk expects them\n",
    "    spacing_sitk = [spacing[1],spacing[2],spacing[0]]\n",
    "    new_spacing_sitk = [new_spacing[1],new_spacing[2],new_spacing[0]]\n",
    "    \n",
    "    # set up the input image as at SITK image\n",
    "    img = sitk.GetImageFromArray(image)\n",
    "    img.SetSpacing(spacing_sitk)                \n",
    "            \n",
    "    # set up an identity transform to apply\n",
    "    affine = sitk.AffineTransform(3)\n",
    "    affine.SetMatrix(np.eye(3,3).ravel())\n",
    "    affine.SetCenter(img.GetOrigin())\n",
    "    \n",
    "    # make the reference image grid, original_shape, with new spacing\n",
    "    refImg = sitk.GetImageFromArray(np.zeros(original_shape,dtype=image.dtype))\n",
    "    refImg.SetSpacing(new_spacing_sitk)\n",
    "    refImg.SetOrigin(img.GetOrigin())\n",
    "    \n",
    "    imgNew = sitk.Resample(img, refImg, affine ,resampling_method, 0)\n",
    "    \n",
    "    imOut = sitk.GetArrayFromImage(imgNew).copy()\n",
    "    \n",
    "    return imOut"
   ]
  },
  {
   "cell_type": "code",
   "execution_count": 8,
   "metadata": {},
   "outputs": [],
   "source": [
    "def insert_gan_image_in_no_segmented_lungs(image_patched_relevant, file_one, numpyImage_resampled, mask_correct):\n",
    "    '''1. the coords of the nodule are in its name.\n",
    "    2. get a copy of the block around the nodule\n",
    "    3. denormalize gan-created image and make sure its () similar to the resampled block \n",
    "    4. insert gan-created image (just the nodule mask) into the block\n",
    "    5. put back the block (with the inserted gan-created nodule) into the copy of the resampled image'''\n",
    "    size_half = 16\n",
    "    # the coords of the nodule are in its name\n",
    "    coord_z = int(file_one.split('_z')[-1].split('y')[0])\n",
    "    coord_y = int(file_one.split('y')[-1].split('x')[0])\n",
    "    coord_x = int(file_one.split('x')[-1].split('.')[0])\n",
    "    # get a copy of the block around the nodule\n",
    "    numpyImage_resampled_inserted = copy(numpyImage_resampled)\n",
    "    numpyImage_resampled_block = numpyImage_resampled_inserted[coord_z-size_half:coord_z+size_half, coord_y-size_half:coord_y+size_half, coord_x-size_half:coord_x+size_half]\n",
    "    np.shape(numpyImage_resampled_block)\n",
    "    # denormalize gan-created image and make sure its () similar to the resampled block \n",
    "    image_patched_denorm = denormalizePatches(image_patched_relevant)\n",
    "    assert np.sum(numpyImage_resampled_block == image_patched_denorm) > 1000\n",
    "    # insert gan-created image (just the nodule mask) into the block\n",
    "    zz,yy,xx = np.where(mask_correct==1)\n",
    "    numpyImage_resampled_block[zz,yy,xx] = image_patched_denorm[zz,yy,xx]\n",
    "    # put back the block (with the inserted gan-created nodule) into the copy of the resampled image\n",
    "    numpyImage_resampled_inserted[coord_z-size_half:coord_z+size_half, coord_y-size_half:coord_y+size_half, coord_x-size_half:coord_x+size_half] = numpyImage_resampled_block\n",
    "    return numpyImage_resampled_inserted, coord_z, coord_y, coord_x"
   ]
  },
  {
   "cell_type": "code",
   "execution_count": 9,
   "metadata": {},
   "outputs": [],
   "source": [
    "def find_no_segmented_subfolder_and_read_it(file_one, data_candidates):\n",
    "    '''find the corresponding subfolder of this image, read it and resample it'''\n",
    "    # find the corresponding subfolder of this image\n",
    "    name_original = file_one.split('_')[0] + '.mhd'\n",
    "    data_dir_subsets = os.listdir(data_candidates)\n",
    "    data_dir_subsets = [i for i in data_dir_subsets if 'subset' in i]\n",
    "    data_dir_subsets = np.sort(data_dir_subsets)\n",
    "    for sub in data_dir_subsets:\n",
    "        if name_original in os.listdir(f'{data_candidates}{sub}'):\n",
    "            break\n",
    "    #read original (no-segmented) image\n",
    "    numpyImage, numpyOrigin, numpySpacing = load_itk_image(f'{data_candidates}{sub}/{name_original}')\n",
    "    # resample the image_without_segmentation\n",
    "    new_spacing = [1,1,1]\n",
    "    numpyImage_shape = ((np.shape(numpyImage) * numpySpacing) / np.asarray(new_spacing)).astype(int)\n",
    "    numpyImage_resampled = resample_scan_sitk(numpyImage, numpySpacing, numpyImage_shape, new_spacing=new_spacing)\n",
    "    return numpyImage_resampled, sub"
   ]
  },
  {
   "cell_type": "code",
   "execution_count": 10,
   "metadata": {},
   "outputs": [],
   "source": [
    "def patch_generated_inpainted_with_extra_mask2(mask_overlap, last32, ndl_grown):\n",
    "    '''The only difference in v2 is that we do not pas ca_gen because we pass already one generation\n",
    "    We patch the celullar-automata-generated (augen) nodule into the inpainted image (inpain)\n",
    "    The extra mask (part2 < part5) is used to fix some dark spots visible in the patched image.\n",
    "    This mask is formed by the values that are larger in the inpainted image than in the ca-generated\n",
    "    image (looking only into the nodule-generated region)'''\n",
    "    part1 = ((~mask_overlap).astype(int)*last32)\n",
    "    part2 = ((mask_overlap).astype(int)*ndl_grown)\n",
    "    part3 = (((~mask_overlap).astype(int)*last32) + ((mask_overlap).astype(int)*ndl_grown))\n",
    "    part4 = part2 > 0\n",
    "    part5 = last32 * part4\n",
    "    part6 = part2 < part5\n",
    "    part7 = part2 < orig32*part4\n",
    "    part8 = part2*(~part6) + last32*part6\n",
    "    part9 = part2*(~part6) + last32*part6 + part1*(~part4)\n",
    "    return part9, part4"
   ]
  },
  {
   "cell_type": "code",
   "execution_count": 11,
   "metadata": {},
   "outputs": [],
   "source": [
    "def insert_gan_image_in_no_segmented_lungs2(image_patched_relevant, file_one, numpyImage_resampled, mask_correct):\n",
    "    break_flag = False\n",
    "    '''1. the coords of the nodule are in its name.\n",
    "    2. get a copy of the block around the nodule\n",
    "    3. denormalize gan-created image and make sure its () similar to the resampled block \n",
    "    4. insert gan-created image (just the nodule mask) into the block\n",
    "    5. put back the block (with the inserted gan-created nodule) into the copy of the resampled image'''\n",
    "    size_half = 16\n",
    "    # the coords of the nodule are in its name\n",
    "    coord_z = int(file_one.split('_z')[-1].split('y')[0])\n",
    "    coord_y = int(file_one.split('y')[-1].split('x')[0])\n",
    "    coord_x = int(file_one.split('x')[-1].split('.')[0])\n",
    "#     print(coord_z, coord_y, coord_x)\n",
    "    # get a copy of the block around the nodule\n",
    "    numpyImage_resampled_inserted = copy(numpyImage_resampled)\n",
    "    numpyImage_resampled_block = numpyImage_resampled_inserted[coord_z-size_half:coord_z+size_half, coord_y-size_half:coord_y+size_half, coord_x-size_half:coord_x+size_half]\n",
    "#     print(coord_z-size_half,coord_z+size_half, coord_y-size_half,coord_y+size_half, coord_x-size_half,coord_x+size_half)\n",
    "#     print(np.shape(numpyImage_resampled_block))\n",
    "    # denormalize gan-created image and make sure its () similar to the resampled block \n",
    "    image_patched_denorm = denormalizePatches(image_patched_relevant)\n",
    "#     print(np.sum(numpyImage_resampled_block == image_patched_denorm))\n",
    "    if np.sum(numpyImage_resampled_block == image_patched_denorm) < 1000:\n",
    "        errors.append(file_one)\n",
    "        break_flag = True\n",
    "    # insert gan-created image (just the nodule mask) into the block\n",
    "    zz,yy,xx = np.where(mask_correct==1)\n",
    "    numpyImage_resampled_block[zz,yy,xx] = image_patched_denorm[zz,yy,xx]\n",
    "    # put back the block (with the inserted gan-created nodule) into the copy of the resampled image\n",
    "    numpyImage_resampled_inserted[coord_z-size_half:coord_z+size_half, coord_y-size_half:coord_y+size_half, coord_x-size_half:coord_x+size_half] = numpyImage_resampled_block\n",
    "    return numpyImage_resampled_inserted, coord_z, coord_y, coord_x, break_flag"
   ]
  },
  {
   "cell_type": "code",
   "execution_count": 23,
   "metadata": {},
   "outputs": [],
   "source": [
    "def insert_gan_image_in_no_segmented_lungs2_for_viz(image_patched_relevant, file_one, numpyImage_resampled, mask_correct):\n",
    "    break_flag = False\n",
    "    '''1. the coords of the nodule are in its name.\n",
    "    2. get a copy of the block around the nodule\n",
    "    3. denormalize gan-created image and make sure its () similar to the resampled block \n",
    "    4. insert gan-created image (just the nodule mask) into the block\n",
    "    5. put back the block (with the inserted gan-created nodule) into the copy of the resampled image'''\n",
    "    size_half = 16\n",
    "    # the coords of the nodule are in its name\n",
    "    coord_z = int(file_one.split('_z')[-1].split('y')[0])\n",
    "    coord_y = int(file_one.split('y')[-1].split('x')[0])\n",
    "    coord_x = int(file_one.split('x')[-1].split('.')[0])\n",
    "#     print(coord_z, coord_y, coord_x)\n",
    "    # get a copy of the block around the nodule\n",
    "    numpyImage_resampled_inserted = copy(numpyImage_resampled)\n",
    "    numpyImage_resampled_block = numpyImage_resampled_inserted[coord_z-size_half:coord_z+size_half, coord_y-size_half:coord_y+size_half, coord_x-size_half:coord_x+size_half]\n",
    "#     print(coord_z-size_half,coord_z+size_half, coord_y-size_half,coord_y+size_half, coord_x-size_half,coord_x+size_half)\n",
    "#     print(np.shape(numpyImage_resampled_block))\n",
    "    # denormalize gan-created image and make sure its () similar to the resampled block \n",
    "    image_patched_denorm = denormalizePatches(image_patched_relevant)\n",
    "#     print(np.sum(numpyImage_resampled_block == image_patched_denorm))\n",
    "    if np.sum(numpyImage_resampled_block == image_patched_denorm) < 1000:\n",
    "        errors.append(file_one)\n",
    "        break_flag = True\n",
    "    # insert gan-created image (just the nodule mask) into the block\n",
    "    zz,yy,xx = np.where(mask_correct==1)\n",
    "    numpyImage_resampled_block_orig = numpyImage_resampled_block\n",
    "    numpyImage_resampled_block[zz,yy,xx] = image_patched_denorm[zz,yy,xx]\n",
    "    # put back the block (with the inserted gan-created nodule) into the copy of the resampled image\n",
    "    numpyImage_resampled_inserted[coord_z-size_half:coord_z+size_half, coord_y-size_half:coord_y+size_half, coord_x-size_half:coord_x+size_half] = numpyImage_resampled_block\n",
    "    return numpyImage_resampled_inserted, coord_z, coord_y, coord_x, break_flag, numpyImage_resampled_block_orig"
   ]
  },
  {
   "cell_type": "code",
   "execution_count": 12,
   "metadata": {},
   "outputs": [],
   "source": [
    "def fig_final_vs_cagen_vs_orig(cube_augmented, patched_corrected, orig32, name_correct, save=False, folder='gifs/check alignment from patch nodules v2B - loop/'):\n",
    "    fig, ax = plt.subplots(2,2, figsize=(8,8))\n",
    "    ax[0,0].imshow(cube_augmented[39]); ax[0,0].text(2,6,'final', color='y', fontsize=14)\n",
    "    ax[0,1].imshow(cube_augmented[39][24:56,24:56]); ax[0,1].text(2,2,'final (zoom)', color='y', fontsize=14)\n",
    "    ax[1,0].imshow(patched_corrected[15]); ax[1,0].text(2,2,'cagen', color='y', fontsize=14)\n",
    "    ax[1,1].imshow(orig32[15]); ax[1,1].text(2,2,'orig', color='y', fontsize=14)\n",
    "    for axx in ax.ravel(): axx.axis('off'); fig.tight_layout()\n",
    "    if save:\n",
    "        name_save = name_correct.split('.raw')[0] + '.png'\n",
    "        plt.savefig(f'{folder}{name_save}')\n",
    "        plt.close()"
   ]
  },
  {
   "cell_type": "code",
   "execution_count": 13,
   "metadata": {},
   "outputs": [],
   "source": [
    "def fig_compare_masks_against_final_result(mask32, ca_gen, cube_augmented, mask_overlap, mask_ndl_grown, img_gen):\n",
    "    mask32_profile = np.sum(mask32,(1,2))\n",
    "    mask_ndl_grown_grown_profile = np.sum(mask_ndl_grown[ca_gen],(1,2))\n",
    "\n",
    "    fig, ax = plt.subplots(1,8,figsize=(16,2))\n",
    "    ax[0].imshow(cube_augmented[39])\n",
    "    ax[1].imshow(cube_augmented[39][39-16: 39+16, 39-16: 39+16])\n",
    "    ax[1].text(2,4, ca_gen, fontsize=14, color = 'y')\n",
    "    ax[2].imshow(mask32[15])\n",
    "    ax[2].text(2,4,'orig', fontsize=14, color = 'y')\n",
    "    ax[3].imshow(mask_overlap[15])\n",
    "    ax[3].text(2,4,'overlap', fontsize=14, color = 'y')\n",
    "    ax[4].imshow(mask_ndl_grown[ca_gen][15])\n",
    "    ax[4].text(2,4,'ndl_grown', fontsize=14, color = 'y')\n",
    "    ax[5].imshow(img_gen[ca_gen][15])\n",
    "    ax[6].plot(mask32_profile)\n",
    "    ax[6].plot(mask_ndl_grown_grown_profile)\n",
    "    ax[7].hist(cube_augmented[39][39-16: 39+16, 39-16: 39+16].flatten());\n",
    "    for axx in ax.ravel(): axx.axis('off'); fig.tight_layout()"
   ]
  },
  {
   "cell_type": "code",
   "execution_count": null,
   "metadata": {},
   "outputs": [],
   "source": [
    "!pwd"
   ]
  },
  {
   "cell_type": "code",
   "execution_count": null,
   "metadata": {},
   "outputs": [],
   "source": [
    "# 1. Make sure that nodules_sorted == nodules_sorted2\n",
    "# path_drive = '/data/OMM/Datasets/Growing Celullar Automata Nodules/files in drive/'\n",
    "## path_candidates = '/data/OMM/Datasets/LUNA/'\n",
    "## path_dest = '/data/OMM/project results/Mar 02 20 - Cellular Automata Generated Images BATCH3/'\n",
    "\n",
    "# nodules_sorted = np.load(f'{path_drive}nodules_sorted.npz')\n",
    "# nodules_sorted2 = np.load(f'{path_drive}nodules_sorted2.npz')\n",
    "# nodules_sorted = nodules_sorted.f.arr_0\n",
    "# nodules_sorted2 = nodules_sorted2.f.arr_0\n",
    "\n",
    "# # Make sure that nodules_sorted == nodules_sorted2\n",
    "# for idx, (a,b) in enumerate(zip(nodules_sorted, nodules_sorted2)):\n",
    "#     assert((a==b).all() == True)\n",
    "#     if (a==b).all() == False: print(idx)\n",
    "        \n",
    "# # Delete large vars\n",
    "# del nodules_sorted, nodules_sorted2"
   ]
  },
  {
   "cell_type": "code",
   "execution_count": 14,
   "metadata": {},
   "outputs": [],
   "source": [
    "path_candidates = '/data/OMM/Datasets/LUNA/'\n",
    "path_dest = '/data/OMM/project_results/Jun_17_2020_cell_aut_grown_nodules/batch_center/ca_nodules_generated_center/'"
   ]
  },
  {
   "cell_type": "markdown",
   "metadata": {},
   "source": [
    "## 2. Check the indices of the nodules that were already grown with celullar automata"
   ]
  },
  {
   "cell_type": "code",
   "execution_count": 15,
   "metadata": {},
   "outputs": [
    {
     "name": "stdout",
     "output_type": "stream",
     "text": [
      "files after automata:\n",
      "files_all (include weights, names and images) = 1612,files_ndls = 1611\n",
      "files before automata:\n",
      "files_sorted (names) = 2292, files_ndls_sorted (images) = 2292\n"
     ]
    }
   ],
   "source": [
    "# FIRST BATCH\n",
    "# Read nodules grown with automata\n",
    "path_source = '/data/OMM/project_results/Jun_17_2020_cell_aut_grown_nodules/batch_center/ca_nodules_generated_center/'\n",
    "files_all = os.listdir(path_source)\n",
    "files_ndls = [i for i in files_all if 'npz' in i]\n",
    "print(f'files after automata:\\nfiles_all (include weights, names and images) = {len(files_all)},files_ndls = {len(files_ndls)}')\n",
    "files_ndls_raw = [i.split('.npz')[0] for i in files_ndls]\n",
    "\n",
    "# Reads files from sorting operation (these were the ones that were entered into the automata)\n",
    "path_sorting = '/home/om18/Documents/KCL/Nov_27_19_cellular_automata/'\n",
    "files_sorted = np.load(f'{path_sorting}files_sorted.npy')\n",
    "files_ndls_sorted = np.load(f'{path_sorting}nodules_sorted2.npz')\n",
    "files_ndls_sorted = files_ndls_sorted.f.arr_0\n",
    "print(f'files before automata:\\nfiles_sorted (names) = {len(files_sorted)}, files_ndls_sorted (images) = {len(files_ndls_sorted)}')"
   ]
  },
  {
   "cell_type": "code",
   "execution_count": null,
   "metadata": {},
   "outputs": [],
   "source": [
    "# GET ALL FILES WHERE THERE IS > 1 CONNECTED COMPONENTS (FUNCTION from COLAB)\n",
    "assert 1==0\n",
    "nodules_sorted = files_ndls_sorted\n",
    "nodules_smaller = nodules_sorted\n",
    "filenames_sorted = files_sorted\n",
    "nodules_centered, names_centered = [], []\n",
    "zs, ys, xs = [], [], []\n",
    "for idx, (i, name) in tqdm_notebook(enumerate(zip(nodules_smaller, filenames_sorted)), total = len(nodules_smaller)):\n",
    "    labelled, nr = label(i)\n",
    "    if nr > 1: \n",
    "        m = i > 0\n",
    "        zz,yy,xx = np.where(m==1)\n",
    "        zzz = int(np.median(zz)); yyy = int(np.median(yy)); xxx = int(np.median(xx))\n",
    "        ndl_centered = i[zzz-16:zzz+16, yyy-16:yyy+16, xxx-16:xxx+16]\n",
    "        if np.shape(ndl_centered) == (32,32,32):\n",
    "            nodules_centered.append(ndl_centered)\n",
    "            names_centered.append(name)\n",
    "            zs.append(zzz)\n",
    "            ys.append(yyy)\n",
    "            xs.append(xxx)\n",
    "nodules_smaller = np.expand_dims(nodules_centered,1)\n",
    "print(f'nodules_sorted = {np.shape(nodules_sorted)}, nodules_smaller = {np.shape(nodules_smaller)}')\n",
    "# 3D versions\n",
    "nodules3D = [np.swapaxes(i,0,1) for i in nodules_smaller]\n",
    "nodules3D = [np.swapaxes(i,1,2) for i in nodules3D]\n",
    "nodules3D = [np.swapaxes(i,2,3) for i in nodules3D]\n",
    "print(np.shape(nodules3D))"
   ]
  },
  {
   "cell_type": "code",
   "execution_count": null,
   "metadata": {},
   "outputs": [],
   "source": [
    "# (DO NOT USE) CODE FROM COLAB FOR PAPER\n",
    "assert 1==0\n",
    "nodules_sorted = np.load('/content/gdrive/My Drive/KCL/cellular automata v2/nodules_sorted3.npz')\n",
    "filenames_sorted = np.load('/content/gdrive/My Drive/KCL/cellular automata v2/files_sorted3.npy')\n",
    "#nodules_sorted = np.load('/home/om18/Documents/KCL/Nov_27_19_cellular_automata/nodules_sorted.npz')\n",
    "nodules_sorted = nodules_sorted.f.arr_0\n",
    "# For now work only with 32x32x32\n",
    "nodules_smaller = nodules_sorted[:,16:-16, 16:-16, 16:-16]\n",
    "# only use those images that include only 1 nodule\n",
    "nodules_centered, names_centered = [], []\n",
    "for i, name in zip(nodules_smaller, filenames_sorted):\n",
    "    labelled, nr = label(i)\n",
    "    if nr == 1:\n",
    "      nodules_centered.append(i)\n",
    "      names_centered.append(name)\n",
    "nodules_smaller = np.expand_dims(nodules_centered,1)\n",
    "print(f'nodules_sorted = {np.shape(nodules_sorted)}, nodules_smaller = {np.shape(nodules_smaller)}')\n",
    "# 3D versions\n",
    "nodules3D = [np.swapaxes(i,0,1) for i in nodules_smaller]\n",
    "nodules3D = [np.swapaxes(i,1,2) for i in nodules3D]\n",
    "nodules3D = [np.swapaxes(i,2,3) for i in nodules3D]\n",
    "print(np.shape(nodules3D))\n",
    "\n",
    "fig_multiple3D(nodules3D[1610:],r=4,c=4,name='nodules 1400')"
   ]
  },
  {
   "cell_type": "code",
   "execution_count": 16,
   "metadata": {},
   "outputs": [
    {
     "data": {
      "application/vnd.jupyter.widget-view+json": {
       "model_id": "da64678be6994b079c0066b74dfbd907",
       "version_major": 2,
       "version_minor": 0
      },
      "text/plain": [
       "HBox(children=(IntProgress(value=0, max=2292), HTML(value='')))"
      ]
     },
     "metadata": {},
     "output_type": "display_data"
    },
    {
     "name": "stdout",
     "output_type": "stream",
     "text": [
      "\n",
      "nodules_sorted = (2292, 64, 64, 64), nodules_smaller = (1657, 1, 32, 32, 32)\n",
      "(1657, 32, 32, 32, 1)\n"
     ]
    }
   ],
   "source": [
    "# Jun 2020\n",
    "nodules_sorted = files_ndls_sorted\n",
    "nodules_smaller = nodules_sorted[:,16:-16, 16:-16, 16:-16] # For now work only with 32x32x32\n",
    "filenames_sorted = files_sorted\n",
    "nodules_centered, names_centered = [], []\n",
    "zs, ys, xs = [], [], []\n",
    "for idx, (i, name) in tqdm_notebook(enumerate(zip(nodules_smaller, filenames_sorted)), total = len(nodules_smaller)):\n",
    "    labelled, nr = label(i)\n",
    "    if nr == 1:\n",
    "        nodules_centered.append(i)\n",
    "        names_centered.append(name)\n",
    "nodules_smaller = np.expand_dims(nodules_centered,1)\n",
    "print(f'nodules_sorted = {np.shape(nodules_sorted)}, nodules_smaller = {np.shape(nodules_smaller)}')\n",
    "# 3D versions\n",
    "nodules3D = [np.swapaxes(i,0,1) for i in nodules_smaller]\n",
    "nodules3D = [np.swapaxes(i,1,2) for i in nodules3D]\n",
    "nodules3D = [np.swapaxes(i,2,3) for i in nodules3D]\n",
    "print(np.shape(nodules3D))"
   ]
  },
  {
   "cell_type": "code",
   "execution_count": 182,
   "metadata": {},
   "outputs": [
    {
     "name": "stdout",
     "output_type": "stream",
     "text": [
      "total_images_analyzed (in the subset of BATCH3) = 102\n"
     ]
    },
    {
     "data": {
      "image/png": "[encoded data removed]",
      "text/plain": [
       "<Figure size 864x216 with 4 Axes>"
      ]
     },
     "metadata": {
      "needs_background": "light"
     },
     "output_type": "display_data"
    }
   ],
   "source": [
    "# From 1 image used in (BATCH3) get the corresponding inpain and orig\n",
    "print(f'total_images_analyzed (in the subset of BATCH3) = {len(path_source)}')\n",
    "# idx = 12 # 1, 12, 16, 18, 25, 27, 28, 30, 32, 37, 41, 43, 46, 47, 48, 51, 61, 71, 96, 103, 104, 109, 123\n",
    "idx = 96\n",
    "fbatch3 = os.listdir(path_source)\n",
    "fbatch3 = [i for i in fbatch3 if '.npz' in i]\n",
    "name_correct = fbatch3[idx]\n",
    "img_gen = np.load(f'{path_source}{name_correct}')\n",
    "img_gen = img_gen.f.arr_0\n",
    "# Get the images used in inpainting\n",
    "path_data = '/data/OMM/Datasets/LIDC_other_formats/LUNA_inpainted_cubes_for_GAN_v2/'\n",
    "last, orig, mask, mask_lungs = get_raw_nodule(path_data, name_correct.split('.npz')[0])\n",
    "last32 = last[16:-16, 16:-16, 16:-16]; orig32 = orig[16:-16, 16:-16, 16:-16]; mask32 = mask[16:-16, 16:-16, 16:-16]\n",
    "# print(f'zs = {zs[idx]}, ys = {ys[idx]}, xs = {xs[idx]}') #INCLUDE_COORDS\n",
    "# ===\n",
    "fig, ax = plt.subplots(1,4,figsize=(12,3))\n",
    "ax[0].imshow(last32[15])\n",
    "ax[1].imshow(orig32[15])\n",
    "ax[2].imshow(mask32[15])\n",
    "ax[3].imshow(img_gen[80][15])\n",
    "for axx in ax.ravel(): axx.axis('off'); plt.tight_layout() \n"
   ]
  },
  {
   "cell_type": "code",
   "execution_count": null,
   "metadata": {},
   "outputs": [],
   "source": [
    "# USE IN THE VERSION WHERE COORDINATES ARE NEEDED\n",
    "# Get the coords used to center the nodule using the name\n",
    "assert 1==0\n",
    "for idx, i in enumerate(names_centered):\n",
    "    if i == name_correct.split('.npz')[0]:\n",
    "        idx_coords = idx\n",
    "        print(idx_coords, i)\n",
    "print(f'zs = {zs[idx_coords]}, ys = {ys[idx_coords]}, xs = {xs[idx_coords]}')"
   ]
  },
  {
   "cell_type": "code",
   "execution_count": null,
   "metadata": {},
   "outputs": [],
   "source": [
    "name_correct, coord_z, coord_y, coord_x"
   ]
  },
  {
   "cell_type": "code",
   "execution_count": 34,
   "metadata": {},
   "outputs": [],
   "source": [
    "# PLOT ONE IMAGE\n",
    "# load the file where you want to patch this image\n",
    "# Read original CT image (not even segmented)\n",
    "ndl_grown = img_gen[40]\n",
    "mask_ndl_grown = ndl_grown > 0\n",
    "numpyImage_resampled, subfolder_save = find_no_segmented_subfolder_and_read_it(name_correct, path_candidates)\n",
    "mask_overlap  = np.logical_and(mask_ndl_grown, mask32)\n",
    "patched_corrected, mask_celaut = patch_generated_inpainted_with_extra_mask2(mask_overlap, last32, ndl_grown)\n",
    "\n",
    "# Insert generated image into original CT image,  (The coords of the nodule are in its name) \n",
    "numpyImage_resampled_inserted, coord_z, coord_y, coord_x, break_flag = insert_gan_image_in_no_segmented_lungs2(patched_corrected, name_correct, numpyImage_resampled, mask32) # WARNING mask32 or mask_overlap?\n",
    "cube_augmented = pad_image_and_get_right_size_cube(numpyImage_resampled_inserted, coord_z, coord_y, coord_x)"
   ]
  },
  {
   "cell_type": "code",
   "execution_count": 198,
   "metadata": {},
   "outputs": [
    {
     "data": {
      "image/png": "[encoded data removed]",
      "text/plain": [
       "<Figure size 576x288 with 2 Axes>"
      ]
     },
     "metadata": {
      "needs_background": "light"
     },
     "output_type": "display_data"
    }
   ],
   "source": [
    "coord_z = int(name_correct.split('_z')[-1].split('y')[0]);coord_y = int(name_correct.split('y')[-1].split('x')[0]);coord_x = int(name_correct.split('x')[-1].split('.')[0])\n",
    "szViz = 40\n",
    "fig, ax  =plt.subplots(1,2,figsize=(8,4))\n",
    "ax[0].imshow(numpyImage_resampled[coord_z][coord_y-szViz:coord_y+szViz,coord_x-szViz:coord_x+szViz], cmap='gray')\n",
    "ax[1].imshow(cube_augmented[39], cmap='gray')\n",
    "for axx in ax.ravel(): axx.axis('off')\n",
    "fig.tight_layout()"
   ]
  },
  {
   "cell_type": "code",
   "execution_count": null,
   "metadata": {},
   "outputs": [],
   "source": [
    "# NEW\n",
    "SAVE_FIGS = 40\n",
    "gen_range = np.arange(100)\n",
    "FILES = os.listdir(path_source)\n",
    "FILES = [i for i in FILES if '.npz' in i]\n",
    "mselosses, min_losses, min_losses_idx, errors = [], [], [], []\n",
    "for idx, name_correct in tqdm_notebook(enumerate(FILES), total=len(FILES)):\n",
    "    \n",
    "    # Get the images used in inpainting\n",
    "    last, orig, mask, mask_lungs = get_raw_nodule(path_data, name_correct.split('.npz')[0])\n",
    "    last32 = last[16:-16, 16:-16, 16:-16]; orig32 = orig[16:-16, 16:-16, 16:-16]; mask32 = mask[16:-16, 16:-16, 16:-16]\n",
    "    # Read original CT image (not even segmented)\n",
    "    numpyImage_resampled, subfolder_save = find_no_segmented_subfolder_and_read_it(name_correct, path_candidates)\n",
    "    # Read the NCA generated\n",
    "    img_gen = np.load(f'{path_source}{name_correct}')\n",
    "    img_gen = img_gen.f.arr_0\n",
    "    mask_ndl_grown = img_gen > 0\n",
    "    # \n",
    "    numpyImage_resampled, subfolder_save = find_no_segmented_subfolder_and_read_it(name_correct, path_candidates)\n",
    "    \n",
    "    mseloss = []\n",
    "    min_loss = 1\n",
    "    min_loss_one = []\n",
    "    \n",
    "    for ca_gen in gen_range:\n",
    "        mask_overlap  = np.logical_and(mask_ndl_grown[ca_gen], mask32)\n",
    "        patched_corrected, mask_celaut = patch_generated_inpainted_with_extra_mask2(mask_overlap, last32, img_gen[ca_gen])\n",
    "       \n",
    "        # Insert generated image into original CT image,  (The coords of the nodule are in its name) \n",
    "        # insert_gan_image_in_no_segmented_lungs3 was used for components > 1\n",
    "#         numpyImage_resampled_inserted, coord_z, coord_y, coord_x, break_flag = insert_gan_image_in_no_segmented_lungs3(patched_corrected, name_correct, numpyImage_resampled, mask32) # WARNING mask32 or mask_overlap?\n",
    "        numpyImage_resampled_inserted, coord_z, coord_y, coord_x, break_flag = insert_gan_image_in_no_segmented_lungs2(patched_corrected, name_correct, numpyImage_resampled, mask32) \n",
    "        if break_flag: break\n",
    "        cube_augmented = pad_image_and_get_right_size_cube(numpyImage_resampled_inserted, coord_z, coord_y, coord_x)\n",
    "        \n",
    "        # save augmented data\n",
    "        if os.path.isdir(f'{path_dest}patched/{subfolder_save}') == False:\n",
    "            os.makedirs(f'{path_dest}patched/{subfolder_save}')\n",
    "        if ca_gen >= 2: #skip first two generations\n",
    "            name_correcr_modified = name_correct.split('.raw')[0]\n",
    "            cube_augmented.tofile(f'{path_dest}patched/{subfolder_save}/{name_correcr_modified}_epA{ca_gen:03d}')\n",
    "        \n",
    "        loss_new = np.mean((orig32*mask32 - img_gen[ca_gen]*mask32)**2) #loss is against the ca_grown alone (not patched over inpainted)\n",
    "        if loss_new < min_loss:\n",
    "            min_loss = loss_new\n",
    "            ca_gen_min = ca_gen\n",
    "        else: break\n",
    "        mseloss.append(loss_new) \n",
    "\n",
    "        # save a few ID for gif\n",
    "        if idx % SAVE_FIGS == 0:\n",
    "            fig_save_automata_growing(name_correct, ca_gen, patched_corrected[15], last32, orig32)\n",
    "    \n",
    "    min_losses.append(min_loss) ; min_losses_idx.append(ca_gen_min)\n",
    "    fig_final_vs_cagen_vs_orig(cube_augmented, patched_corrected, orig32, name_correct, True)\n",
    "    \n",
    "    if idx % SAVE_FIGS == 0:\n",
    "        fig_read_figs_and_make_gif(name_correct) # Make GIF"
   ]
  },
  {
   "cell_type": "code",
   "execution_count": null,
   "metadata": {},
   "outputs": [],
   "source": []
  },
  {
   "cell_type": "code",
   "execution_count": null,
   "metadata": {},
   "outputs": [],
   "source": []
  },
  {
   "cell_type": "code",
   "execution_count": 202,
   "metadata": {},
   "outputs": [
    {
     "data": {
      "application/vnd.jupyter.widget-view+json": {
       "model_id": "397ac563e97741a78b526098a3bff618",
       "version_major": 2,
       "version_minor": 0
      },
      "text/plain": [
       "HBox(children=(IntProgress(value=0, max=23), HTML(value='')))"
      ]
     },
     "metadata": {},
     "output_type": "display_data"
    },
    {
     "data": {
      "application/vnd.jupyter.widget-view+json": {
       "model_id": "",
       "version_major": 2,
       "version_minor": 0
      },
      "text/plain": [
       "HBox(children=(IntProgress(value=0), HTML(value='')))"
      ]
     },
     "metadata": {},
     "output_type": "display_data"
    },
    {
     "data": {
      "application/vnd.jupyter.widget-view+json": {
       "model_id": "",
       "version_major": 2,
       "version_minor": 0
      },
      "text/plain": [
       "HBox(children=(IntProgress(value=0), HTML(value='')))"
      ]
     },
     "metadata": {},
     "output_type": "display_data"
    },
    {
     "data": {
      "application/vnd.jupyter.widget-view+json": {
       "model_id": "",
       "version_major": 2,
       "version_minor": 0
      },
      "text/plain": [
       "HBox(children=(IntProgress(value=0), HTML(value='')))"
      ]
     },
     "metadata": {},
     "output_type": "display_data"
    },
    {
     "data": {
      "application/vnd.jupyter.widget-view+json": {
       "model_id": "",
       "version_major": 2,
       "version_minor": 0
      },
      "text/plain": [
       "HBox(children=(IntProgress(value=0), HTML(value='')))"
      ]
     },
     "metadata": {},
     "output_type": "display_data"
    },
    {
     "data": {
      "application/vnd.jupyter.widget-view+json": {
       "model_id": "",
       "version_major": 2,
       "version_minor": 0
      },
      "text/plain": [
       "HBox(children=(IntProgress(value=0), HTML(value='')))"
      ]
     },
     "metadata": {},
     "output_type": "display_data"
    },
    {
     "data": {
      "application/vnd.jupyter.widget-view+json": {
       "model_id": "",
       "version_major": 2,
       "version_minor": 0
      },
      "text/plain": [
       "HBox(children=(IntProgress(value=0), HTML(value='')))"
      ]
     },
     "metadata": {},
     "output_type": "display_data"
    },
    {
     "data": {
      "application/vnd.jupyter.widget-view+json": {
       "model_id": "",
       "version_major": 2,
       "version_minor": 0
      },
      "text/plain": [
       "HBox(children=(IntProgress(value=0), HTML(value='')))"
      ]
     },
     "metadata": {},
     "output_type": "display_data"
    },
    {
     "data": {
      "application/vnd.jupyter.widget-view+json": {
       "model_id": "",
       "version_major": 2,
       "version_minor": 0
      },
      "text/plain": [
       "HBox(children=(IntProgress(value=0), HTML(value='')))"
      ]
     },
     "metadata": {},
     "output_type": "display_data"
    },
    {
     "data": {
      "application/vnd.jupyter.widget-view+json": {
       "model_id": "",
       "version_major": 2,
       "version_minor": 0
      },
      "text/plain": [
       "HBox(children=(IntProgress(value=0), HTML(value='')))"
      ]
     },
     "metadata": {},
     "output_type": "display_data"
    },
    {
     "data": {
      "application/vnd.jupyter.widget-view+json": {
       "model_id": "",
       "version_major": 2,
       "version_minor": 0
      },
      "text/plain": [
       "HBox(children=(IntProgress(value=0), HTML(value='')))"
      ]
     },
     "metadata": {},
     "output_type": "display_data"
    },
    {
     "data": {
      "application/vnd.jupyter.widget-view+json": {
       "model_id": "",
       "version_major": 2,
       "version_minor": 0
      },
      "text/plain": [
       "HBox(children=(IntProgress(value=0), HTML(value='')))"
      ]
     },
     "metadata": {},
     "output_type": "display_data"
    },
    {
     "data": {
      "application/vnd.jupyter.widget-view+json": {
       "model_id": "",
       "version_major": 2,
       "version_minor": 0
      },
      "text/plain": [
       "HBox(children=(IntProgress(value=0), HTML(value='')))"
      ]
     },
     "metadata": {},
     "output_type": "display_data"
    },
    {
     "data": {
      "application/vnd.jupyter.widget-view+json": {
       "model_id": "",
       "version_major": 2,
       "version_minor": 0
      },
      "text/plain": [
       "HBox(children=(IntProgress(value=0), HTML(value='')))"
      ]
     },
     "metadata": {},
     "output_type": "display_data"
    },
    {
     "data": {
      "application/vnd.jupyter.widget-view+json": {
       "model_id": "",
       "version_major": 2,
       "version_minor": 0
      },
      "text/plain": [
       "HBox(children=(IntProgress(value=0), HTML(value='')))"
      ]
     },
     "metadata": {},
     "output_type": "display_data"
    },
    {
     "data": {
      "application/vnd.jupyter.widget-view+json": {
       "model_id": "",
       "version_major": 2,
       "version_minor": 0
      },
      "text/plain": [
       "HBox(children=(IntProgress(value=0), HTML(value='')))"
      ]
     },
     "metadata": {},
     "output_type": "display_data"
    },
    {
     "data": {
      "application/vnd.jupyter.widget-view+json": {
       "model_id": "",
       "version_major": 2,
       "version_minor": 0
      },
      "text/plain": [
       "HBox(children=(IntProgress(value=0), HTML(value='')))"
      ]
     },
     "metadata": {},
     "output_type": "display_data"
    },
    {
     "data": {
      "application/vnd.jupyter.widget-view+json": {
       "model_id": "",
       "version_major": 2,
       "version_minor": 0
      },
      "text/plain": [
       "HBox(children=(IntProgress(value=0), HTML(value='')))"
      ]
     },
     "metadata": {},
     "output_type": "display_data"
    },
    {
     "data": {
      "application/vnd.jupyter.widget-view+json": {
       "model_id": "",
       "version_major": 2,
       "version_minor": 0
      },
      "text/plain": [
       "HBox(children=(IntProgress(value=0), HTML(value='')))"
      ]
     },
     "metadata": {},
     "output_type": "display_data"
    },
    {
     "data": {
      "application/vnd.jupyter.widget-view+json": {
       "model_id": "",
       "version_major": 2,
       "version_minor": 0
      },
      "text/plain": [
       "HBox(children=(IntProgress(value=0), HTML(value='')))"
      ]
     },
     "metadata": {},
     "output_type": "display_data"
    },
    {
     "data": {
      "application/vnd.jupyter.widget-view+json": {
       "model_id": "",
       "version_major": 2,
       "version_minor": 0
      },
      "text/plain": [
       "HBox(children=(IntProgress(value=0), HTML(value='')))"
      ]
     },
     "metadata": {},
     "output_type": "display_data"
    },
    {
     "data": {
      "application/vnd.jupyter.widget-view+json": {
       "model_id": "",
       "version_major": 2,
       "version_minor": 0
      },
      "text/plain": [
       "HBox(children=(IntProgress(value=0), HTML(value='')))"
      ]
     },
     "metadata": {},
     "output_type": "display_data"
    },
    {
     "data": {
      "application/vnd.jupyter.widget-view+json": {
       "model_id": "",
       "version_major": 2,
       "version_minor": 0
      },
      "text/plain": [
       "HBox(children=(IntProgress(value=0), HTML(value='')))"
      ]
     },
     "metadata": {},
     "output_type": "display_data"
    },
    {
     "data": {
      "application/vnd.jupyter.widget-view+json": {
       "model_id": "",
       "version_major": 2,
       "version_minor": 0
      },
      "text/plain": [
       "HBox(children=(IntProgress(value=0), HTML(value='')))"
      ]
     },
     "metadata": {},
     "output_type": "display_data"
    },
    {
     "name": "stdout",
     "output_type": "stream",
     "text": [
      "\n"
     ]
    }
   ],
   "source": [
    "# MAKE GIF FOR VIZ\n",
    "fbatch3 = os.listdir(path_source)\n",
    "fbatch3 = [i for i in fbatch3 if '.npz' in i]\n",
    "path_figs = 'figures_automata/'\n",
    "path_data = '/data/OMM/Datasets/LIDC_other_formats/LUNA_inpainted_cubes_for_GAN_v2/'\n",
    "ids_chosen = [1, 12, 16, 18, 25, 27, 28, 30, 32, 37, 41, 43, 46, 47, 48, 51, 61, 71, 96, 103, 104, 109, 123]\n",
    "for idx, ndl_idx in tqdm_notebook(enumerate(ids_chosen), total=len(ids_chosen)):\n",
    "#     if idx==2:break\n",
    "    name_correct = fbatch3[ndl_idx]\n",
    "    img_gen = np.load(f'{path_source}{name_correct}')\n",
    "    img_gen = img_gen.f.arr_0\n",
    "    # Get the images used in inpainting\n",
    "    last, orig, mask, mask_lungs = get_raw_nodule(path_data, name_correct.split('.npz')[0])\n",
    "    last32 = last[16:-16, 16:-16, 16:-16]; orig32 = orig[16:-16, 16:-16, 16:-16]; mask32 = mask[16:-16, 16:-16, 16:-16]\n",
    "    \n",
    "    # load the file where you want to patch this image\n",
    "    # Read original CT image (not even segmented)\n",
    "\n",
    "    for ii in tqdm_notebook(range(len(img_gen)),leave=False):\n",
    "        ndl_grown = img_gen[ii]\n",
    "        mask_ndl_grown = ndl_grown > 0\n",
    "        numpyImage_resampled, subfolder_save = find_no_segmented_subfolder_and_read_it(name_correct, path_candidates)\n",
    "        mask_overlap  = np.logical_and(mask_ndl_grown, mask32)\n",
    "        patched_corrected, mask_celaut = patch_generated_inpainted_with_extra_mask2(mask_overlap, last32, ndl_grown)\n",
    "\n",
    "        # Insert generated image into original CT image,  (The coords of the nodule are in its name) \n",
    "        numpyImage_resampled_inserted, coord_z, coord_y, coord_x, break_flag = insert_gan_image_in_no_segmented_lungs2(patched_corrected, name_correct, numpyImage_resampled, mask32) # WARNING mask32 or mask_overlap?\n",
    "        cube_augmented = pad_image_and_get_right_size_cube(numpyImage_resampled_inserted, coord_z, coord_y, coord_x)\n",
    "#         #fig1    \n",
    "#         plt.imshow(cube_augmented[39], cmap='gray')\n",
    "#         plt.axis('off')\n",
    "        #fig2\n",
    "        coord_z = int(name_correct.split('_z')[-1].split('y')[0]);coord_y = int(name_correct.split('y')[-1].split('x')[0]);coord_x = int(name_correct.split('x')[-1].split('.')[0])\n",
    "        szViz = 40\n",
    "        fig, ax  =plt.subplots(1,2,figsize=(8,4))\n",
    "        ax[0].imshow(numpyImage_resampled[coord_z][coord_y-szViz:coord_y+szViz,coord_x-szViz:coord_x+szViz], cmap='gray')\n",
    "        ax[1].imshow(cube_augmented[39], cmap='gray')\n",
    "        for axx in ax.ravel(): axx.axis('off')\n",
    "        fig.tight_layout()\n",
    "        \n",
    "        plt.savefig(f'{path_figs}nodule_{ii:03d}.jpg')\n",
    "        plt.close()\n",
    "    \n",
    "    files_figures = os.listdir(path_figs)\n",
    "    files_figures = [i for i in files_figures if '.jpg' in i]\n",
    "    files_figures = np.sort(files_figures)\n",
    "    images_all = []\n",
    "    for idx, i in enumerate(files_figures):\n",
    "\n",
    "        one_fig = imageio.mimread(f'{path_figs}{i}')[0]\n",
    "        os.remove(f'{path_figs}{i}')\n",
    "        images_all.append(one_fig)\n",
    "    new_name = name_correct.split(\".raw\")[0]\n",
    "    imageio.mimsave(f'{path_figs}gifs/tg{new_name}.gif', images_all, duration=.1)"
   ]
  },
  {
   "cell_type": "code",
   "execution_count": 204,
   "metadata": {},
   "outputs": [
    {
     "name": "stdout",
     "output_type": "stream",
     "text": [
      "1.3.6.1.4.1.14519.5.2.1.6279.6001.108231420525711026834210228428_block2_0_z203y246x228.gif\r\n",
      "1.3.6.1.4.1.14519.5.2.1.6279.6001.115386642382564804180764325545_block2_0_z117y220x261.gif\r\n",
      "1.3.6.1.4.1.14519.5.2.1.6279.6001.143622857676008763729469324839_block1_0_z302y206x109.gif\r\n",
      "1.3.6.1.4.1.14519.5.2.1.6279.6001.144883090372691745980459537053_block2_0_z112y97x263.gif\r\n",
      "1.3.6.1.4.1.14519.5.2.1.6279.6001.147250707071097813243473865421_block1_10_z151y89x87.gif\r\n",
      "1.3.6.1.4.1.14519.5.2.1.6279.6001.187108608022306504546286626125_block1_210_z195y236x122.gif\r\n",
      "1.3.6.1.4.1.14519.5.2.1.6279.6001.213140617640021803112060161074_block1_32_z199y114x196.gif\r\n",
      "1.3.6.1.4.1.14519.5.2.1.6279.6001.217754016294471278921686508169_block1_10_z132y136x64.gif\r\n",
      "1.3.6.1.4.1.14519.5.2.1.6279.6001.222052723822248889877676736332_block1_0_z187y198x123.gif\r\n",
      "1.3.6.1.4.1.14519.5.2.1.6279.6001.241717018262666382493757419144_block2_1_z217y268x257.gif\r\n",
      "1.3.6.1.4.1.14519.5.2.1.6279.6001.259227883564429312164962953756_block1_0_z203y176x127.gif\r\n",
      "1.3.6.1.4.1.14519.5.2.1.6279.6001.272190966764020277652079081128_block1_210_z167y260x146.gif\r\n",
      "1.3.6.1.4.1.14519.5.2.1.6279.6001.280125803152924778388346920341_block1_210_z121y188x125.gif\r\n",
      "1.3.6.1.4.1.14519.5.2.1.6279.6001.297988578825170426663869669862_block2_10_z162y219x284.gif\r\n",
      "1.3.6.1.4.1.14519.5.2.1.6279.6001.308655308958459380153492314021_block1_0_z182y225x107.gif\r\n",
      "1.3.6.1.4.1.14519.5.2.1.6279.6001.397522780537301776672854630421_block1_10_z54y214x70.gif\r\n",
      "1.3.6.1.4.1.14519.5.2.1.6279.6001.404457313935200882843898832756_block2_0_z201y184x302.gif\r\n",
      "1.3.6.1.4.1.14519.5.2.1.6279.6001.479402560265137632920333093071_block1_10_z95y225x58.gif\r\n",
      "1.3.6.1.4.1.14519.5.2.1.6279.6001.614147706162329660656328811671_block1_0_z171y267x157.gif\r\n",
      "1.3.6.1.4.1.14519.5.2.1.6279.6001.690929968028676628605553365896_block2_10_z236y172x253.gif\r\n",
      "1.3.6.1.4.1.14519.5.2.1.6279.6001.750792629100457382099842515038_block1_10_z240y171x66.gif\r\n",
      "1.3.6.1.4.1.14519.5.2.1.6279.6001.768276876111112560631432843476_block2_2_z187y188x209.gif\r\n",
      "1.3.6.1.4.1.14519.5.2.1.6279.6001.955688628308192728558382581802_block2_642_z160y266x225.gif\r\n",
      "g1.3.6.1.4.1.14519.5.2.1.6279.6001.108231420525711026834210228428_block2_0_z203y246x228.gif\r\n",
      "g1.3.6.1.4.1.14519.5.2.1.6279.6001.115386642382564804180764325545_block2_0_z117y220x261.gif\r\n",
      "g1.3.6.1.4.1.14519.5.2.1.6279.6001.143622857676008763729469324839_block1_0_z302y206x109.gif\r\n",
      "g1.3.6.1.4.1.14519.5.2.1.6279.6001.144883090372691745980459537053_block2_0_z112y97x263.gif\r\n",
      "g1.3.6.1.4.1.14519.5.2.1.6279.6001.147250707071097813243473865421_block1_10_z151y89x87.gif\r\n",
      "g1.3.6.1.4.1.14519.5.2.1.6279.6001.187108608022306504546286626125_block1_210_z195y236x122.gif\r\n",
      "g1.3.6.1.4.1.14519.5.2.1.6279.6001.213140617640021803112060161074_block1_32_z199y114x196.gif\r\n",
      "g1.3.6.1.4.1.14519.5.2.1.6279.6001.217754016294471278921686508169_block1_10_z132y136x64.gif\r\n",
      "g1.3.6.1.4.1.14519.5.2.1.6279.6001.222052723822248889877676736332_block1_0_z187y198x123.gif\r\n",
      "g1.3.6.1.4.1.14519.5.2.1.6279.6001.241717018262666382493757419144_block2_1_z217y268x257.gif\r\n",
      "g1.3.6.1.4.1.14519.5.2.1.6279.6001.259227883564429312164962953756_block1_0_z203y176x127.gif\r\n",
      "g1.3.6.1.4.1.14519.5.2.1.6279.6001.272190966764020277652079081128_block1_210_z167y260x146.gif\r\n",
      "g1.3.6.1.4.1.14519.5.2.1.6279.6001.280125803152924778388346920341_block1_210_z121y188x125.gif\r\n",
      "g1.3.6.1.4.1.14519.5.2.1.6279.6001.297988578825170426663869669862_block2_10_z162y219x284.gif\r\n",
      "g1.3.6.1.4.1.14519.5.2.1.6279.6001.308655308958459380153492314021_block1_0_z182y225x107.gif\r\n",
      "g1.3.6.1.4.1.14519.5.2.1.6279.6001.397522780537301776672854630421_block1_10_z54y214x70.gif\r\n",
      "g1.3.6.1.4.1.14519.5.2.1.6279.6001.404457313935200882843898832756_block2_0_z201y184x302.gif\r\n",
      "g1.3.6.1.4.1.14519.5.2.1.6279.6001.479402560265137632920333093071_block1_10_z95y225x58.gif\r\n",
      "g1.3.6.1.4.1.14519.5.2.1.6279.6001.614147706162329660656328811671_block1_0_z171y267x157.gif\r\n",
      "g1.3.6.1.4.1.14519.5.2.1.6279.6001.690929968028676628605553365896_block2_10_z236y172x253.gif\r\n",
      "g1.3.6.1.4.1.14519.5.2.1.6279.6001.750792629100457382099842515038_block1_10_z240y171x66.gif\r\n",
      "g1.3.6.1.4.1.14519.5.2.1.6279.6001.768276876111112560631432843476_block2_2_z187y188x209.gif\r\n",
      "g1.3.6.1.4.1.14519.5.2.1.6279.6001.955688628308192728558382581802_block2_642_z160y266x225.gif\r\n",
      "t1.3.6.1.4.1.14519.5.2.1.6279.6001.108231420525711026834210228428_block2_0_z203y246x228.gif\r\n",
      "t1.3.6.1.4.1.14519.5.2.1.6279.6001.115386642382564804180764325545_block2_0_z117y220x261.gif\r\n",
      "t1.3.6.1.4.1.14519.5.2.1.6279.6001.143622857676008763729469324839_block1_0_z302y206x109.gif\r\n",
      "t1.3.6.1.4.1.14519.5.2.1.6279.6001.144883090372691745980459537053_block2_0_z112y97x263.gif\r\n",
      "t1.3.6.1.4.1.14519.5.2.1.6279.6001.147250707071097813243473865421_block1_10_z151y89x87.gif\r\n",
      "t1.3.6.1.4.1.14519.5.2.1.6279.6001.187108608022306504546286626125_block1_210_z195y236x122.gif\r\n",
      "t1.3.6.1.4.1.14519.5.2.1.6279.6001.213140617640021803112060161074_block1_32_z199y114x196.gif\r\n",
      "t1.3.6.1.4.1.14519.5.2.1.6279.6001.217754016294471278921686508169_block1_10_z132y136x64.gif\r\n",
      "t1.3.6.1.4.1.14519.5.2.1.6279.6001.222052723822248889877676736332_block1_0_z187y198x123.gif\r\n",
      "t1.3.6.1.4.1.14519.5.2.1.6279.6001.241717018262666382493757419144_block2_1_z217y268x257.gif\r\n",
      "t1.3.6.1.4.1.14519.5.2.1.6279.6001.259227883564429312164962953756_block1_0_z203y176x127.gif\r\n",
      "t1.3.6.1.4.1.14519.5.2.1.6279.6001.272190966764020277652079081128_block1_210_z167y260x146.gif\r\n",
      "t1.3.6.1.4.1.14519.5.2.1.6279.6001.280125803152924778388346920341_block1_210_z121y188x125.gif\r\n",
      "t1.3.6.1.4.1.14519.5.2.1.6279.6001.297988578825170426663869669862_block2_10_z162y219x284.gif\r\n",
      "t1.3.6.1.4.1.14519.5.2.1.6279.6001.308655308958459380153492314021_block1_0_z182y225x107.gif\r\n",
      "t1.3.6.1.4.1.14519.5.2.1.6279.6001.397522780537301776672854630421_block1_10_z54y214x70.gif\r\n",
      "t1.3.6.1.4.1.14519.5.2.1.6279.6001.404457313935200882843898832756_block2_0_z201y184x302.gif\r\n",
      "t1.3.6.1.4.1.14519.5.2.1.6279.6001.479402560265137632920333093071_block1_10_z95y225x58.gif\r\n",
      "t1.3.6.1.4.1.14519.5.2.1.6279.6001.614147706162329660656328811671_block1_0_z171y267x157.gif\r\n",
      "t1.3.6.1.4.1.14519.5.2.1.6279.6001.690929968028676628605553365896_block2_10_z236y172x253.gif\r\n",
      "t1.3.6.1.4.1.14519.5.2.1.6279.6001.750792629100457382099842515038_block1_10_z240y171x66.gif\r\n",
      "t1.3.6.1.4.1.14519.5.2.1.6279.6001.768276876111112560631432843476_block2_2_z187y188x209.gif\r\n",
      "t1.3.6.1.4.1.14519.5.2.1.6279.6001.955688628308192728558382581802_block2_642_z160y266x225.gif\r\n",
      "tg1.3.6.1.4.1.14519.5.2.1.6279.6001.108231420525711026834210228428_block2_0_z203y246x228.gif\r\n",
      "tg1.3.6.1.4.1.14519.5.2.1.6279.6001.115386642382564804180764325545_block2_0_z117y220x261.gif\r\n",
      "tg1.3.6.1.4.1.14519.5.2.1.6279.6001.143622857676008763729469324839_block1_0_z302y206x109.gif\r\n",
      "tg1.3.6.1.4.1.14519.5.2.1.6279.6001.144883090372691745980459537053_block2_0_z112y97x263.gif\r\n",
      "tg1.3.6.1.4.1.14519.5.2.1.6279.6001.147250707071097813243473865421_block1_10_z151y89x87.gif\r\n",
      "tg1.3.6.1.4.1.14519.5.2.1.6279.6001.187108608022306504546286626125_block1_210_z195y236x122.gif\r\n",
      "tg1.3.6.1.4.1.14519.5.2.1.6279.6001.213140617640021803112060161074_block1_32_z199y114x196.gif\r\n",
      "tg1.3.6.1.4.1.14519.5.2.1.6279.6001.217754016294471278921686508169_block1_10_z132y136x64.gif\r\n",
      "tg1.3.6.1.4.1.14519.5.2.1.6279.6001.222052723822248889877676736332_block1_0_z187y198x123.gif\r\n",
      "tg1.3.6.1.4.1.14519.5.2.1.6279.6001.241717018262666382493757419144_block2_1_z217y268x257.gif\r\n",
      "tg1.3.6.1.4.1.14519.5.2.1.6279.6001.259227883564429312164962953756_block1_0_z203y176x127.gif\r\n",
      "tg1.3.6.1.4.1.14519.5.2.1.6279.6001.272190966764020277652079081128_block1_210_z167y260x146.gif\r\n",
      "tg1.3.6.1.4.1.14519.5.2.1.6279.6001.280125803152924778388346920341_block1_210_z121y188x125.gif\r\n",
      "tg1.3.6.1.4.1.14519.5.2.1.6279.6001.297988578825170426663869669862_block2_10_z162y219x284.gif\r\n",
      "tg1.3.6.1.4.1.14519.5.2.1.6279.6001.308655308958459380153492314021_block1_0_z182y225x107.gif\r\n",
      "tg1.3.6.1.4.1.14519.5.2.1.6279.6001.397522780537301776672854630421_block1_10_z54y214x70.gif\r\n",
      "tg1.3.6.1.4.1.14519.5.2.1.6279.6001.404457313935200882843898832756_block2_0_z201y184x302.gif\r\n",
      "tg1.3.6.1.4.1.14519.5.2.1.6279.6001.479402560265137632920333093071_block1_10_z95y225x58.gif\r\n",
      "tg1.3.6.1.4.1.14519.5.2.1.6279.6001.614147706162329660656328811671_block1_0_z171y267x157.gif\r\n",
      "tg1.3.6.1.4.1.14519.5.2.1.6279.6001.690929968028676628605553365896_block2_10_z236y172x253.gif\r\n",
      "tg1.3.6.1.4.1.14519.5.2.1.6279.6001.750792629100457382099842515038_block1_10_z240y171x66.gif\r\n",
      "tg1.3.6.1.4.1.14519.5.2.1.6279.6001.768276876111112560631432843476_block2_2_z187y188x209.gif\r\n",
      "tg1.3.6.1.4.1.14519.5.2.1.6279.6001.955688628308192728558382581802_block2_642_z160y266x225.gif\r\n"
     ]
    }
   ],
   "source": [
    "!ls figures_automata/gifs"
   ]
  },
  {
   "cell_type": "code",
   "execution_count": null,
   "metadata": {
    "scrolled": true
   },
   "outputs": [],
   "source": [
    "# load the file where you want to patch this image\n",
    "# Read original CT image (not even segmented)\n",
    "\n",
    "for ii in tqdm_notebook(range(len(img_gen))):\n",
    "    ndl_grown = img_gen[ii]\n",
    "    mask_ndl_grown = ndl_grown > 0\n",
    "    numpyImage_resampled, subfolder_save = find_no_segmented_subfolder_and_read_it(name_correct, path_candidates)\n",
    "    mask_overlap  = np.logical_and(mask_ndl_grown, mask32)\n",
    "    patched_corrected, mask_celaut = patch_generated_inpainted_with_extra_mask2(mask_overlap, last32, ndl_grown)\n",
    "\n",
    "    # Insert generated image into original CT image,  (The coords of the nodule are in its name) \n",
    "    numpyImage_resampled_inserted, coord_z, coord_y, coord_x, break_flag = insert_gan_image_in_no_segmented_lungs2(patched_corrected, name_correct, numpyImage_resampled, mask32) # WARNING mask32 or mask_overlap?\n",
    "    cube_augmented = pad_image_and_get_right_size_cube(numpyImage_resampled_inserted, coord_z, coord_y, coord_x)\n",
    "    plt.imshow(cube_augmented[39])\n",
    "    plt.axis('off')\n",
    "    plt.savefig(f'{path_figs}nodule_{ii:03d}.jpg')\n",
    "    plt.close()"
   ]
  },
  {
   "cell_type": "code",
   "execution_count": null,
   "metadata": {},
   "outputs": [],
   "source": [
    "files_figures = os.listdir(path_figs)\n",
    "files_figures = [i for i in files_figures if '.jpg' in i]\n",
    "files_figures = np.sort(files_figures)\n",
    "images_all = []\n",
    "for idx, i in enumerate(files_figures):\n",
    "    \n",
    "    one_fig = imageio.mimread(f'{path_figs}{i}')[0]\n",
    "    os.remove(f'{path_figs}{i}')\n",
    "    images_all.append(one_fig)\n",
    "new_name = name_correct.split(\".raw\")[0]\n",
    "imageio.mimsave(f'{path_figs}gifs/{new_name}.gif', images_all, duration=.1)"
   ]
  },
  {
   "cell_type": "code",
   "execution_count": null,
   "metadata": {},
   "outputs": [],
   "source": [
    "!ls -t figures_automata/gifs/"
   ]
  },
  {
   "cell_type": "code",
   "execution_count": null,
   "metadata": {},
   "outputs": [],
   "source": []
  },
  {
   "cell_type": "code",
   "execution_count": null,
   "metadata": {},
   "outputs": [],
   "source": [
    "# NEW\n",
    "SAVE_FIGS = 40\n",
    "gen_range = np.arange(100)\n",
    "fbatch3 = os.listdir(path_source)\n",
    "fbatch3 = [i for i in fbatch3 if '.npz' in i]\n",
    "mselosses, min_losses, min_losses_idx, errors = [], [], [], []\n",
    "for idx, name_correct in tqdm_notebook(enumerate(fbatch3), total=len(fbatch3)):\n",
    "    \n",
    "    # Get the images used in inpainting\n",
    "    last, orig, mask, mask_lungs = get_raw_nodule(path_data, name_correct.split('.npz')[0])\n",
    "    last32 = last[16:-16, 16:-16, 16:-16]; orig32 = orig[16:-16, 16:-16, 16:-16]; mask32 = mask[16:-16, 16:-16, 16:-16]\n",
    "    # Read original CT image (not even segmented)\n",
    "    numpyImage_resampled, subfolder_save = find_no_segmented_subfolder_and_read_it(name_correct, path_candidates)\n",
    "    # Read the NCA generated\n",
    "    img_gen = np.load(f'{path_source}{name_correct}')\n",
    "    img_gen = img_gen.f.arr_0\n",
    "    mask_ndl_grown = img_gen > 0\n",
    "    # \n",
    "    numpyImage_resampled, subfolder_save = find_no_segmented_subfolder_and_read_it(name_correct, path_candidates)\n",
    "    \n",
    "    mseloss = []\n",
    "    min_loss = 1\n",
    "    min_loss_one = []\n",
    "    \n",
    "    for ca_gen in gen_range:\n",
    "        mask_overlap  = np.logical_and(mask_ndl_grown[ca_gen], mask32)\n",
    "        patched_corrected, mask_celaut = patch_generated_inpainted_with_extra_mask2(mask_overlap, last32, img_gen[ca_gen])\n",
    "       \n",
    "        # Insert generated image into original CT image,  (The coords of the nodule are in its name) \n",
    "        numpyImage_resampled_inserted, coord_z, coord_y, coord_x, break_flag = insert_gan_image_in_no_segmented_lungs3(patched_corrected, name_correct, numpyImage_resampled, mask32) # WARNING mask32 or mask_overlap?\n",
    "        if break_flag: break\n",
    "        cube_augmented = pad_image_and_get_right_size_cube(numpyImage_resampled_inserted, coord_z, coord_y, coord_x)\n",
    "        \n",
    "        # save augmented data\n",
    "        if os.path.isdir(f'{path_dest}patched/{subfolder_save}') == False:\n",
    "            os.makedirs(f'{path_dest}patched/{subfolder_save}')\n",
    "        if ca_gen >= 2: #skip first two generations\n",
    "            name_correcr_modified = name_correct.split('.raw')[0]\n",
    "            cube_augmented.tofile(f'{path_dest}patched/{subfolder_save}/{name_correcr_modified}_ep{ca_gen:03d}')\n",
    "        \n",
    "        loss_new = np.mean((orig32*mask32 - img_gen[ca_gen]*mask32)**2) #loss is against the ca_grown alone (not patched over inpainted)\n",
    "        if loss_new < min_loss:\n",
    "            min_loss = loss_new\n",
    "            ca_gen_min = ca_gen\n",
    "        else: break\n",
    "        mseloss.append(loss_new) \n",
    "\n",
    "        # save a few ID for gif\n",
    "        if idx % SAVE_FIGS == 0:\n",
    "            fig_save_automata_growing(name_correct, ca_gen, patched_corrected[15], last32, orig32)\n",
    "    \n",
    "    min_losses.append(min_loss) ; min_losses_idx.append(ca_gen_min)\n",
    "    fig_final_vs_cagen_vs_orig(cube_augmented, patched_corrected, orig32, name_correct, True)\n",
    "    \n",
    "    if idx % SAVE_FIGS == 0:\n",
    "        fig_read_figs_and_make_gif(name_correct) # Make GIF"
   ]
  },
  {
   "cell_type": "code",
   "execution_count": null,
   "metadata": {},
   "outputs": [],
   "source": [
    "name_correct.split('.raw')[0]"
   ]
  },
  {
   "cell_type": "code",
   "execution_count": null,
   "metadata": {},
   "outputs": [],
   "source": [
    "print(name_correct)\n",
    "print(name_correct[:-4])\n",
    "print(name_correct.split('.raw')[0])"
   ]
  },
  {
   "cell_type": "code",
   "execution_count": null,
   "metadata": {},
   "outputs": [],
   "source": [
    "# OLD (March 9th morning)\n",
    "SAVE_FIGS = 40\n",
    "gen_range = np.arange(100)\n",
    "fbatch3 = os.listdir(path_source)\n",
    "mselosses, min_losses, min_losses_idx, errors = [], [], [], []\n",
    "for idx, name_correct in enumerate(fbatch3):\n",
    "    aaa=1\n",
    "    if idx<aaa: continue\n",
    "    if idx==aaa+1:break\n",
    "    \n",
    "    # Get the images used in inpainting\n",
    "    last, orig, mask, mask_lungs = get_raw_nodule(path_data, name_correct.split('.npz')[0])\n",
    "    last32 = last[16:-16, 16:-16, 16:-16]; orig32 = orig[16:-16, 16:-16, 16:-16]; mask32 = mask[16:-16, 16:-16, 16:-16]\n",
    "    # Read original CT image (not even segmented)\n",
    "    numpyImage_resampled, subfolder_save = find_no_segmented_subfolder_and_read_it(name_correct, path_candidates)\n",
    "    # Read the NCA generated\n",
    "    img_gen = np.load(f'{path_source}{name_correct}')\n",
    "    img_gen = img_gen.f.arr_0\n",
    "    mask_ndl_grown = [i > 0 for i in ndl_grown]\n",
    "    # \n",
    "    numpyImage_resampled, subfolder_save = find_no_segmented_subfolder_and_read_it(name_correct, path_candidates)\n",
    "    \n",
    "    mseloss = []\n",
    "    min_loss = 1\n",
    "    min_loss_one = []\n",
    "    \n",
    "    for ca_gen in gen_range:\n",
    "        mask_overlap  = np.logical_and(mask_ndl_grown, mask32)\n",
    "        patched_corrected, mask_celaut = patch_generated_inpainted_with_extra_mask2(mask_overlap, last32, img_gen[ca_gen])\n",
    "       \n",
    "        # Insert generated image into original CT image,  (The coords of the nodule are in its name) \n",
    "        numpyImage_resampled_inserted, coord_z, coord_y, coord_x, break_flag = insert_gan_image_in_no_segmented_lungs2(patched_corrected, name_correct, numpyImage_resampled, mask32) # WARNING mask32 or mask_overlap?\n",
    "        if break_flag: break\n",
    "        cube_augmented = pad_image_and_get_right_size_cube(numpyImage_resampled_inserted, coord_z, coord_y, coord_x)\n",
    "        \n",
    "        # save augmented data\n",
    "        if os.path.isdir(f'{path_dest}patched/{subfolder_save}') == False:\n",
    "            os.makedirs(f'{path_dest}patched/{subfolder_save}')\n",
    "        if ca_gen >= 2: #skip first two generations\n",
    "            cube_augmented.tofile(f'{path_dest}patched/{subfolder_save}/{name_correct[:-4]}_ep{ca_gen:03d}')\n",
    "        \n",
    "        loss_new = np.mean((orig32*mask32 - img_gen[ca_gen]*mask32)**2) #loss is against the ca_grown alone (not patched over inpainted)\n",
    "        if loss_new < min_loss:\n",
    "            min_loss = loss_new\n",
    "            ca_gen_min = ca_gen\n",
    "        else: break\n",
    "        mseloss.append(loss_new) \n",
    "\n",
    "        # save a few ID for gif\n",
    "        if idx % SAVE_FIGS == 0:\n",
    "            fig_save_automata_growing(name_correct, ca_gen, patched_corrected[15], last32, orig32)\n",
    "    \n",
    "    min_losses.append(min_loss) ; min_losses_idx.append(ca_gen_min)\n",
    "    fig_final_vs_cagen_vs_orig(cube_augmented, patched_corrected, orig32, name_correct, True)\n",
    "    \n",
    "    if idx % SAVE_FIGS == 0:\n",
    "        fig_read_figs_and_make_gif(name_correct) # Make GIF"
   ]
  },
  {
   "cell_type": "code",
   "execution_count": null,
   "metadata": {},
   "outputs": [],
   "source": [
    "SAVE_FIGS = 40\n",
    "gen_range = np.arange(100)\n",
    "fbatch3 = os.listdir(path_source)\n",
    "mselosses, min_losses, min_losses_idx, errors = [], [], [], []\n",
    "for idx, name_correct in enumerate(fbatch3):\n",
    "    aaa = 9\n",
    "    if idx<aaa: continue\n",
    "    if idx==aaa+1:break\n",
    "    \n",
    "    # Get the images used in inpainting\n",
    "    last, orig, mask, mask_lungs = get_raw_nodule(path_data, name_correct.split('.npz')[0])\n",
    "    last32 = last[16:-16, 16:-16, 16:-16]; orig32 = orig[16:-16, 16:-16, 16:-16]; mask32 = mask[16:-16, 16:-16, 16:-16]\n",
    "    # Read original CT image (not even segmented)\n",
    "    numpyImage_resampled, subfolder_save = find_no_segmented_subfolder_and_read_it(name_correct, path_candidates)\n",
    "    # Read the NCA generated\n",
    "    img_gen = np.load(f'{path_source}{name_correct}')\n",
    "    img_gen = img_gen.f.arr_0\n",
    "    mask_ndl_grown = img_gen > 0\n",
    "    # \n",
    "    numpyImage_resampled, subfolder_save = find_no_segmented_subfolder_and_read_it(name_correct, path_candidates)\n",
    "    \n",
    "    mseloss = []\n",
    "    min_loss = 1\n",
    "    min_loss_one = []\n",
    "    \n",
    "    for ca_gen in gen_range:\n",
    "        mask_overlap  = np.logical_and(mask_ndl_grown[ca_gen], mask32)\n",
    "        patched_corrected, mask_celaut = patch_generated_inpainted_with_extra_mask2(mask_overlap, last32, img_gen[ca_gen])\n",
    "       \n",
    "        # Insert generated image into original CT image,  (The coords of the nodule are in its name) \n",
    "        numpyImage_resampled_inserted, coord_z, coord_y, coord_x, break_flag = insert_gan_image_in_no_segmented_lungs3(patched_corrected, name_correct, numpyImage_resampled, mask32) # WARNING mask32 or mask_overlap?\n",
    "        if break_flag: break\n",
    "        cube_augmented = pad_image_and_get_right_size_cube(numpyImage_resampled_inserted, coord_z, coord_y, coord_x)\n",
    "        \n",
    "        # save augmented data\n",
    "        if os.path.isdir(f'{path_dest}patched/{subfolder_save}') == False: os.makedirs(f'{path_dest}patched/{subfolder_save}')\n",
    "        if ca_gen >= 2: #skip first two generations\n",
    "            if ca_gen % 4 ==0:\n",
    "                fig_compare_masks_against_final_result(mask32, ca_gen, cube_augmented, mask_overlap, mask_ndl_grown, img_gen)\n",
    "                \n",
    "        loss_new = np.mean((orig32*mask32 - img_gen[ca_gen]*mask32)**2) #loss is against the ca_grown alone (not patched over inpainted)\n",
    "        if loss_new < min_loss:\n",
    "            min_loss = loss_new\n",
    "            ca_gen_min = ca_gen\n",
    "        else: break\n",
    "        mseloss.append(loss_new) \n",
    "\n",
    "    \n",
    "    min_losses.append(min_loss) ; min_losses_idx.append(ca_gen_min)\n",
    "    "
   ]
  },
  {
   "cell_type": "code",
   "execution_count": null,
   "metadata": {},
   "outputs": [],
   "source": [
    "ca_gen"
   ]
  },
  {
   "cell_type": "code",
   "execution_count": null,
   "metadata": {},
   "outputs": [],
   "source": [
    "fig, ax = plt.subplots(1,3, figsize=(9,3))\n",
    "ax[0].imshow(last32[15])\n",
    "ax[1].imshow(orig32[15])\n",
    "ax[2].imshow(cube_augmented[39][39-16: 39+16, 39-16: 39+16])\n",
    "for axx in ax.ravel(): axx.axis('off'); fig.tight_layout()"
   ]
  },
  {
   "cell_type": "code",
   "execution_count": null,
   "metadata": {},
   "outputs": [],
   "source": [
    "np.shape(numpyImage_resampled_inserted)"
   ]
  },
  {
   "cell_type": "code",
   "execution_count": null,
   "metadata": {},
   "outputs": [],
   "source": [
    "offset_ = 10\n",
    "fig, ax = plt.subplots(1,3, figsize=(12,2))\n",
    "ax[0].imshow(cube_augmented[39][39-offset_: 39+offset_, 39-offset_: 39+offset_])\n",
    "ax[0].imshow(cube_augmented[39][39-offset_: 39+offset_, 39-offset_: 39+offset_]<=-960)\n",
    "ax[1].hist(cube_augmented[39][39-offset_: 39+offset_, 39-offset_: 39+offset_].flatten());"
   ]
  },
  {
   "cell_type": "code",
   "execution_count": null,
   "metadata": {},
   "outputs": [],
   "source": [
    "print(np.shape(cube_augmented), 80**3, 6884**(1/3))\n",
    "z_correction, y_correction, x_correction = np.where(cube_augmented < -960)\n",
    "\n",
    "len(z_correction)"
   ]
  },
  {
   "cell_type": "code",
   "execution_count": null,
   "metadata": {},
   "outputs": [],
   "source": [
    "fig, ax = plt.subplots(1,6, figsize=(12,2))\n",
    "ax[0].imshow(last32[15])\n",
    "ax[1].imshow(orig32[15])\n",
    "ax[2].imshow(cube_augmented[39][39-16: 39+16, 39-16: 39+16])\n",
    "ax[3].imshow(mask_overlap[15])\n",
    "ax[3].text(2,4,'overlap', fontsize=14, color = 'y')\n",
    "ax[4].imshow(patched_corrected[15])\n",
    "ax[4].text(2,8,'patched_\\ncorrected', fontsize=14, color = 'y')\n",
    "ax[5].imshow(numpyImage_resampled_inserted[coord_z][coord_y-15:coord_y+15, coord_x-15:coord_x+15])\n",
    "# ax[5].text(2,6.5,'resampled_\\ninserted', fontsize=14, color = 'y')\n",
    "for axx in ax.ravel(): axx.axis('off'); fig.tight_layout()"
   ]
  },
  {
   "cell_type": "code",
   "execution_count": null,
   "metadata": {},
   "outputs": [],
   "source": [
    "numpyImage_resampled_inserted, coord_z, coord_y, coord_x, break_flag = insert_gan_image_in_no_segmented_lungs2(patched_corrected, name_correct, numpyImage_resampled, mask_overlap) # WARNING mask32 or mask_overlap?"
   ]
  },
  {
   "cell_type": "code",
   "execution_count": null,
   "metadata": {},
   "outputs": [],
   "source": [
    "def insert_gan_image_in_no_segmented_lungs3(image_patched_relevant, file_one, numpyImage_resampled, mask_correct):\n",
    "    break_flag = False\n",
    "    THRESHOLD_CORRECTION = -960\n",
    "    '''1. the coords of the nodule are in its name.\n",
    "    2. get a copy of the block around the nodule\n",
    "    3. denormalize gan-created image and make sure its () similar to the resampled block \n",
    "    4. insert gan-created image (just the nodule mask) into the block\n",
    "    5. put back the block (with the inserted gan-created nodule) into the copy of the resampled image'''\n",
    "    size_half = 16\n",
    "    # the coords of the nodule are in its name\n",
    "    coord_z = int(file_one.split('_z')[-1].split('y')[0])\n",
    "    coord_y = int(file_one.split('y')[-1].split('x')[0])\n",
    "    coord_x = int(file_one.split('x')[-1].split('.')[0])\n",
    "#     print(coord_z, coord_y, coord_x)\n",
    "    # get a copy of the block around the nodule\n",
    "    numpyImage_resampled_inserted = copy(numpyImage_resampled)\n",
    "    numpyImage_resampled_block = numpyImage_resampled_inserted[coord_z-size_half:coord_z+size_half, coord_y-size_half:coord_y+size_half, coord_x-size_half:coord_x+size_half]\n",
    "#     print(coord_z-size_half,coord_z+size_half, coord_y-size_half,coord_y+size_half, coord_x-size_half,coord_x+size_half)\n",
    "#     print(np.shape(numpyImage_resampled_block))\n",
    "    # denormalize gan-created image and make sure its () similar to the resampled block \n",
    "    image_patched_denorm = denormalizePatches(image_patched_relevant)\n",
    "#     print(np.sum(numpyImage_resampled_block == image_patched_denorm))\n",
    "    if np.sum(numpyImage_resampled_block == image_patched_denorm) < 1000:\n",
    "        errors.append(file_one)\n",
    "        break_flag = True\n",
    "    # insert gan-created image (just the nodule mask) into the block\n",
    "    zz,yy,xx = np.where(mask_correct==1)\n",
    "    zz,yy,xx = np.where(image_patched_denorm > -960)\n",
    "    numpyImage_resampled_block[zz,yy,xx] = image_patched_denorm[zz,yy,xx]\n",
    "    # Correction v3\n",
    "    z_correction, y_correction, x_correction = np.where(image_patched_denorm < THRESHOLD_CORRECTION)\n",
    "    numpyImage_resampled_block[z_correction, y_correction, x_correction]\n",
    "    \n",
    "    # put back the block (with the inserted gan-created nodule) into the copy of the resampled image\n",
    "    numpyImage_resampled_inserted[coord_z-size_half:coord_z+size_half, coord_y-size_half:coord_y+size_half, coord_x-size_half:coord_x+size_half] = numpyImage_resampled_block\n",
    "    \n",
    "#     zz_correction, yy_correction, xx_correction = np.where(numpyImage_resampled_inserted < -THRESHOLD_CORRECTION)\n",
    "#     numpyImage_resampled_inserted[zz_correction, yy_correction, xx_correction] = numpyImage_resampled[zz_correction, yy_correction, xx_correction]\n",
    "    \n",
    "    return numpyImage_resampled_inserted, coord_z, coord_y, coord_x, break_flag"
   ]
  },
  {
   "cell_type": "code",
   "execution_count": null,
   "metadata": {},
   "outputs": [],
   "source": [
    "zz,yy,xx = np.where(mask_overlap==1)\n",
    "print(zz[:10],yy[:10],xx[:10])\n",
    "zz2 = zz + zs[idx_coords]-39; yy2 = yy + ys[idx_coords]-39; xx2 = xx + xs[idx_coords]-39;\n",
    "print(zz2[:10],yy2[:10],xx2[:10])"
   ]
  },
  {
   "cell_type": "code",
   "execution_count": null,
   "metadata": {},
   "outputs": [],
   "source": [
    "print(np.shape(patched_corrected))\n",
    "plt.imshow(patched_corrected[15])"
   ]
  },
  {
   "cell_type": "code",
   "execution_count": null,
   "metadata": {},
   "outputs": [],
   "source": [
    "plt.imshow(numpyImage_resampled[coord_z][coord_y-15:coord_y+15, coord_x-15:coord_x+15])"
   ]
  },
  {
   "cell_type": "code",
   "execution_count": null,
   "metadata": {},
   "outputs": [],
   "source": [
    "for idx, i in enumerate(mask_ndl_grown):\n",
    "    print(idx, np.sum(i))"
   ]
  },
  {
   "cell_type": "code",
   "execution_count": null,
   "metadata": {},
   "outputs": [],
   "source": [
    "for idx, i in enumerate(names_centered):\n",
    "    if i == name_correct.split('.npz')[0]:\n",
    "        idx_coords = idx\n",
    "        print(idx_coords, i)\n",
    "print(f'zs = {zs[idx_coords]}, ys = {ys[idx_coords]}, xs = {xs[idx_coords]}')"
   ]
  },
  {
   "cell_type": "code",
   "execution_count": null,
   "metadata": {},
   "outputs": [],
   "source": [
    "ppp = '/data/OMM/project results/Mar 02 20 - Cellular Automata Generated Images BATCH3/patched/subset7/'\n",
    "ff = os.listdir(ppp)\n",
    "ff= np.sort(ff)\n",
    "for idx, i in enumerate(ff):\n",
    "    a = np.fromfile(ppp+i,dtype='int16').astype('float32').reshape((80,80,80))\n",
    "    if idx==10:break\n",
    "    plt.figure()\n",
    "    plt.imshow(a[39])"
   ]
  },
  {
   "cell_type": "code",
   "execution_count": null,
   "metadata": {},
   "outputs": [],
   "source": [
    "for idx, i in enumerate(img_gen):\n",
    "    if idx==10: break\n",
    "    fig, ax = plt.subplots(1,4, figsize=(12,3))\n",
    "    ax[0].imshow(i[15])\n",
    "    ax[1].imshow(mask32[15])\n",
    "    ax[2].imshow(orig32[15])\n",
    "    ax[3].imshow((ndl_grown[idx]*mask32)[15])\n",
    "    for axx in ax.ravel(): axx.axis('off'); fig.tight_layout()"
   ]
  },
  {
   "cell_type": "code",
   "execution_count": null,
   "metadata": {},
   "outputs": [],
   "source": [
    "plt.imshow(ndl_grown[8])"
   ]
  },
  {
   "cell_type": "code",
   "execution_count": null,
   "metadata": {},
   "outputs": [],
   "source": [
    "np.shape(ndl_grown)"
   ]
  },
  {
   "cell_type": "code",
   "execution_count": null,
   "metadata": {},
   "outputs": [],
   "source": [
    "plt.plot(mseloss)"
   ]
  },
  {
   "cell_type": "code",
   "execution_count": null,
   "metadata": {},
   "outputs": [],
   "source": [
    "for idx, i in enumerate(ff[-10:]):\n",
    "    a = np.fromfile(ppp+i,dtype='int16').astype('float32').reshape((80,80,80))\n",
    "    if idx==10:break\n",
    "    plt.figure()\n",
    "    plt.imshow(a[39])"
   ]
  },
  {
   "cell_type": "code",
   "execution_count": null,
   "metadata": {},
   "outputs": [],
   "source": []
  },
  {
   "cell_type": "code",
   "execution_count": null,
   "metadata": {},
   "outputs": [],
   "source": []
  },
  {
   "cell_type": "code",
   "execution_count": null,
   "metadata": {},
   "outputs": [],
   "source": []
  },
  {
   "cell_type": "code",
   "execution_count": null,
   "metadata": {},
   "outputs": [],
   "source": [
    "# With correction\n",
    "offset_ndl = 0\n",
    "SAVE_FIGS = 40\n",
    "gen_range = np.arange(100)\n",
    "# gen_range = np.arange(20,200,3)\n",
    "generations_multi = []\n",
    "mselosses, min_losses, min_losses_idx = [], [], []\n",
    "errors=[]\n",
    "for idx, name_wrong in tqdm_notebook(enumerate(dict_names.keys()), total=len(dict_names.keys())):\n",
    "    if idx<offset_ndl: continue\n",
    "#     if idx==offset_ndl+1: break\n",
    "    name_correct = dict_names.get(name_wrong)\n",
    "    assert(name_correct in names_correct)\n",
    "    \n",
    "    # read original files and grown nodule\n",
    "    last, orig, mask, mask_lungs = get_raw_nodule(path_data, name_correct)\n",
    "    last32 = last[16:-16, 16:-16, 16:-16]; orig32 = orig[16:-16, 16:-16, 16:-16]; mask32 = mask[16:-16, 16:-16, 16:-16]\n",
    "    \n",
    "    # Read original CT image (not even segmented)\n",
    "    numpyImage_resampled, subfolder_save = find_no_segmented_subfolder_and_read_it(name_correct, path_candidates)\n",
    "    \n",
    "    ndl_grown = np.load(f'{path_source}{name_wrong}.npz')\n",
    "    ndl_grown = ndl_grown.f.arr_0\n",
    "    mask_ndl_grown = ndl_grown > 0\n",
    "    \n",
    "    mseloss = []\n",
    "    min_loss = 1\n",
    "    \n",
    "    for ca_gen in gen_range:\n",
    "        mask_overlap  = np.logical_and(mask_ndl_grown[ca_gen], mask32)\n",
    "        patched = ((~mask_overlap).astype(int)*last32) + ((mask_overlap).astype(int)*ndl_grown[ca_gen])\n",
    "        patched_corrected, mask_celaut = patch_generated_inpainted_with_extra_mask(mask_overlap, last32, ndl_grown, ca_gen)\n",
    "        \n",
    "        # Insert generated image into original CT image,  (The coords of the nodule are in its name) \n",
    "        numpyImage_resampled_inserted, coord_z, coord_y, coord_x, break_flag = insert_gan_image_in_no_segmented_lungs2(patched_corrected, name_correct, numpyImage_resampled, mask32) # WARNING mask32 or mask_overlap?\n",
    "        if break_flag: break\n",
    "        # padd resampled image (some nodules are close to border) \n",
    "        cube_augmented = pad_image_and_get_right_size_cube(numpyImage_resampled_inserted, coord_z, coord_y, coord_x)\n",
    "        \n",
    "        # save augmented data\n",
    "        if os.path.isdir(f'{path_dest}patched/{subfolder_save}') == False:\n",
    "            os.makedirs(f'{path_dest}patched/{subfolder_save}')\n",
    "        if ca_gen >= 2: #skip first two generations\n",
    "            cube_augmented.tofile(f'{path_dest}patched/{subfolder_save}/{name_correct[:-4]}_ep{ca_gen:03d}')\n",
    "        \n",
    "        loss_new = np.mean((orig32*mask32 - ndl_grown[ca_gen]*mask32)**2) #loss is against the ca_grown alone (not patched over inpainted)\n",
    "        if loss_new < min_loss:\n",
    "            min_loss = loss_new\n",
    "            ca_gen_min = ca_gen\n",
    "        else: break\n",
    "        mseloss.append(loss_new) \n",
    "\n",
    "        # save a few ID for gif\n",
    "        if idx % SAVE_FIGS == 0:\n",
    "            fig_save_automata_growing(name_correct, ca_gen, patched_corrected[15], last32, orig32)\n",
    "    \n",
    "    min_losses.append(min_loss) ; min_losses_idx.append(ca_gen_min)\n",
    "        \n",
    "    if idx % SAVE_FIGS == 0:\n",
    "        fig_read_figs_and_make_gif(name_correct) # Make GIF"
   ]
  },
  {
   "cell_type": "markdown",
   "metadata": {},
   "source": [
    "## 3. Fixing an error with the names given to the automata output"
   ]
  },
  {
   "cell_type": "code",
   "execution_count": null,
   "metadata": {},
   "outputs": [],
   "source": [
    "# Previously we were getting the nodules where label_nr == 1 BUT we were not making any modification\n",
    "# to files_sorted. Now we also modify that variable -> files_sorted_centered\n",
    "nodules_smaller = files_ndls_sorted[:,16:-16, 16:-16, 16:-16]\n",
    "print(len(files_sorted), len(files_ndls_sorted), np.shape(nodules_smaller[0]))\n",
    "nodules_centered = []\n",
    "files_sorted_centered, files_excluded = [], []\n",
    "for idx, i in enumerate(nodules_smaller):\n",
    "    labelled, nr = label(i)\n",
    "    if nr == 1: \n",
    "        nodules_centered.append(i)\n",
    "        files_sorted_centered.append(files_sorted[idx]) # <-- this line was not included\n",
    "    else:\n",
    "        files_excluded.append(files_sorted[idx])\n",
    "nodules_smaller2 = np.expand_dims(nodules_centered,1)\n",
    "print(len(nodules_smaller2), len(files_sorted_centered), np.shape(nodules_smaller2[0]))\n",
    "# 3D versions\n",
    "nodules3D = [np.swapaxes(i,0,1) for i in nodules_smaller2]\n",
    "nodules3D = [np.swapaxes(i,1,2) for i in nodules3D]\n",
    "nodules3D = [np.swapaxes(i,2,3) for i in nodules3D]\n",
    "# fig_multiple3D(nodules3D[1610:],r=4,c=4,name='nodules 1400')"
   ]
  },
  {
   "cell_type": "code",
   "execution_count": null,
   "metadata": {},
   "outputs": [],
   "source": [
    "# 1. Track back the nodules that were already grown\n",
    "# First get the indices of the nodules that were already grown by the celullar automata.\n",
    "# Those indices are from the list constructed with only those nodules where (label_nr == 1).\n",
    "# When that list was constructed a separate list with their corresponding names was not constructed, and\n",
    "# the grown files are getting an INCORRECT name from the list with ALL names\n",
    "files_sorted2_zeros = np.zeros_like(files_sorted)\n",
    "idx_ndl_grown = []\n",
    "for idx, i in enumerate(files_sorted):\n",
    "    if i in files_done:\n",
    "        idx_ndl_grown.append(idx)\n",
    "files_sorted2_zeros[np.asarray(idx_ndl_grown)] = 1\n",
    "plt.figure(figsize=(16,2))\n",
    "plt.plot(files_sorted2_zeros);"
   ]
  },
  {
   "cell_type": "code",
   "execution_count": null,
   "metadata": {},
   "outputs": [],
   "source": [
    "# 1.5 We might need to center back the nodule\n",
    "# When the only-nodules dataset was created we centered the nodule using\n",
    "# z_min, y_min, x_min, z_max, y_max, x_max, z_len, y_len, x_len. x_min and x_max are the min and max coord of the\n",
    "# nodule in one axis. amd x_len is the length of the nodule in that axis\n",
    "zyx = np.load('zyx_min_max_len_sorted.npy')"
   ]
  },
  {
   "cell_type": "code",
   "execution_count": null,
   "metadata": {},
   "outputs": [],
   "source": [
    "# Track back the nodules that were already grown\n",
    "# 2. We can use those indices to trace back the correct name of grown nodules.\n",
    "files_sorted2_zeros = np.squeeze(np.zeros((1,len(files_sorted))))\n",
    "idx_ndl_traced_back = []\n",
    "names_correct = []\n",
    "zyx_correct = []\n",
    "for idx, i in enumerate(files_sorted):\n",
    "    if i in np.asarray(files_sorted_centered)[idx_ndl_grown]:\n",
    "        idx_ndl_traced_back.append(idx)\n",
    "        names_correct.append(i)\n",
    "        zyx_correct.append(zyx[idx])\n",
    "files_sorted2_zeros[np.asarray(idx_ndl_traced_back)] = 1\n",
    "plt.figure(figsize=(16,2))\n",
    "plt.plot(files_sorted2_zeros);\n",
    "print(len(files_sorted), len(idx_ndl_traced_back), len(zyx_correct))"
   ]
  },
  {
   "cell_type": "code",
   "execution_count": null,
   "metadata": {},
   "outputs": [],
   "source": [
    "# Track back the nodules that were already grown\n",
    "# 2. We can use those indices to trace back the correct name of grown nodules.\n",
    "files_sorted2_zeros = np.squeeze(np.zeros((1,len(files_sorted))))\n",
    "idx_ndl_traced_back = []\n",
    "names_correct = []\n",
    "zyx_correct = []\n",
    "for idx, i in enumerate(files_sorted):\n",
    "    if i in np.asarray(files_sorted_centered)[idx_ndl_grown]:\n",
    "        idx_ndl_traced_back.append(idx)\n",
    "        names_correct.append(i)\n",
    "        zyx_correct.append(zyx[idx])\n",
    "files_sorted2_zeros[np.asarray(idx_ndl_traced_back)] = 1\n",
    "plt.figure(figsize=(16,2))\n",
    "plt.plot(files_sorted2_zeros);\n",
    "print(len(files_sorted), len(idx_ndl_traced_back), len(zyx_correct))"
   ]
  },
  {
   "cell_type": "code",
   "execution_count": null,
   "metadata": {},
   "outputs": [],
   "source": [
    "plt.figure(figsize=(16,2))\n",
    "plt.plot(files_sorted2_zeros);"
   ]
  },
  {
   "cell_type": "code",
   "execution_count": null,
   "metadata": {},
   "outputs": [],
   "source": [
    "len(files_done)"
   ]
  },
  {
   "cell_type": "code",
   "execution_count": null,
   "metadata": {},
   "outputs": [],
   "source": [
    "# 3. Make a dictionary that maps the incorrect to the correct name\n",
    "dict_names = dict(zip(files_done, names_correct))\n",
    "dict_zyx = dict(zip(files_done, zyx_correct))\n",
    "name_wrong = files_done[-1]\n",
    "name_correct = dict_names.get(name_wrong)\n",
    "name_correct_zyx = dict_zyx.get(name_wrong)\n",
    "print(name_wrong) # OLD (incorrect)\n",
    "print(name_correct) # NEW (correct)\n",
    "print(name_correct_zyx)"
   ]
  },
  {
   "cell_type": "markdown",
   "metadata": {},
   "source": [
    "## 4. Fix some dark spots visible in the patched image."
   ]
  },
  {
   "cell_type": "code",
   "execution_count": null,
   "metadata": {},
   "outputs": [],
   "source": [
    "def patch_generated_inpainted_with_extra_mask(mask_overlap, last32, ndl_grown, ca_gen):\n",
    "    '''We patch the celullar-automata-generated (augen) nodule into the inpainted image (inpain)\n",
    "    The extra mask (part2 < part5) is used to fix some dark spots visible in the patched image.\n",
    "    This mask is formed by the values that are larger in the inpainted image than in the ca-generated\n",
    "    image (looking only into the nodule-generated region)'''\n",
    "    part1 = ((~mask_overlap).astype(int)*last32)\n",
    "    part2 = ((mask_overlap).astype(int)*ndl_grown[ca_gen])\n",
    "    part3 = (((~mask_overlap).astype(int)*last32) + ((mask_overlap).astype(int)*ndl_grown[ca_gen]))\n",
    "    part4 = part2 > 0\n",
    "    part5 = last32 * part4\n",
    "    part6 = part2 < part5\n",
    "    part7 = part2 < orig32*part4\n",
    "    part8 = part2*(~part6) + last32*part6\n",
    "    part9 = part2*(~part6) + last32*part6 + part1*(~part4)\n",
    "    return part9, part4"
   ]
  },
  {
   "cell_type": "code",
   "execution_count": null,
   "metadata": {},
   "outputs": [],
   "source": [
    "path_data = '/data/OMM/Datasets/LIDC_other_formats/LUNA_inpainted_cubes_for_GAN_v2/'\n",
    "files = os.listdir(f'{path_data}original/')\n",
    "print(f'total files = {len(files)}')\n",
    "print(name_correct)"
   ]
  },
  {
   "cell_type": "code",
   "execution_count": null,
   "metadata": {
    "scrolled": true
   },
   "outputs": [],
   "source": [
    "# Without correction\n",
    "offset_ndl = 200\n",
    "ca_gen = 50\n",
    "for idx, name_wrong in enumerate(dict_names.keys()):\n",
    "    if idx<=offset_ndl: continue\n",
    "    if idx==offset_ndl+10: break\n",
    "    name_correct = dict_names.get(name_wrong)\n",
    "    assert(name_correct in names_correct)\n",
    "    # read original files and grown nodule\n",
    "    last, orig, mask, mask_lungs = get_raw_nodule(path_data, name_correct)\n",
    "    last32 = last[16:-16, 16:-16, 16:-16]; orig32 = orig[16:-16, 16:-16, 16:-16]; mask32 = mask[16:-16, 16:-16, 16:-16]\n",
    "    ndl_grown = np.load(f'{path_source}{name_wrong}.npz')\n",
    "    ndl_grown = ndl_grown.f.arr_0\n",
    "    mask_ndl_grown = ndl_grown > 0\n",
    "    mask_overlap  = np.logical_and(mask_ndl_grown[ca_gen], mask32)\n",
    "    patched = ((~mask_overlap).astype(int)*last32) + ((mask_overlap).astype(int)*ndl_grown[ca_gen])\n",
    "    fig, ax = plt.subplots(1,6, figsize=(18,3));\n",
    "    ax[0].imshow(last32[15], vmin=0, vmax=1); \n",
    "    ax[1].imshow(orig32[15], vmin=0, vmax=1); \n",
    "    ax[2].imshow(mask32[15], vmin=0, vmax=1)\n",
    "    ax[3].imshow(ndl_grown[ca_gen][15], vmin=0, vmax=1)\n",
    "    ax[4].imshow(patched[15], vmin=0, vmax=1)\n",
    "    ax[5].imshow(mask_ndl_grown[ca_gen][15] + mask32[15], vmin=0, vmax=2)\n",
    "    for axx in ax.ravel(): axx.axis('off'); fig.tight_layout()"
   ]
  },
  {
   "cell_type": "code",
   "execution_count": null,
   "metadata": {
    "scrolled": true
   },
   "outputs": [],
   "source": [
    "# With correction\n",
    "offset_ndl = 200\n",
    "ca_gen = 50\n",
    "for idx, name_wrong in enumerate(dict_names.keys()):\n",
    "    if idx<=offset_ndl: continue\n",
    "    if idx==offset_ndl+10: break\n",
    "    name_correct = dict_names.get(name_wrong)\n",
    "    assert(name_correct in names_correct)\n",
    "    # read original files and grown nodule\n",
    "    last, orig, mask, mask_lungs = get_raw_nodule(path_data, name_correct)\n",
    "    last32 = last[16:-16, 16:-16, 16:-16]; orig32 = orig[16:-16, 16:-16, 16:-16]; mask32 = mask[16:-16, 16:-16, 16:-16]\n",
    "    ndl_grown = np.load(f'{path_source}{name_wrong}.npz')\n",
    "    ndl_grown = ndl_grown.f.arr_0\n",
    "    mask_ndl_grown = ndl_grown > 0\n",
    "    mask_overlap  = np.logical_and(mask_ndl_grown[ca_gen], mask32)\n",
    "    patched = ((~mask_overlap).astype(int)*last32) + ((mask_overlap).astype(int)*ndl_grown[ca_gen])\n",
    "    patched_corrected, _ = patch_generated_inpainted_with_extra_mask(mask_overlap, last32, ndl_grown, ca_gen)\n",
    "    fig, ax = plt.subplots(1,6, figsize=(18,3));\n",
    "    ax[0].imshow(last32[15], vmin=0, vmax=1); \n",
    "    ax[1].imshow(orig32[15], vmin=0, vmax=1); \n",
    "#     ax[2].imshow(mask32[15], vmin=0, vmax=1)\n",
    "    ax[2].imshow(ndl_grown[ca_gen][15], vmin=0, vmax=1)\n",
    "    ax[3].imshow(patched[15], vmin=0, vmax=1)\n",
    "    ax[4].imshow(patched_corrected[15], vmin=0, vmax=1)\n",
    "    ax[5].imshow(mask_ndl_grown[ca_gen][15] + mask32[15], vmin=0, vmax=2)\n",
    "    \n",
    "    for axx in ax.ravel(): axx.axis('off'); fig.tight_layout()"
   ]
  },
  {
   "cell_type": "code",
   "execution_count": null,
   "metadata": {},
   "outputs": [],
   "source": []
  },
  {
   "cell_type": "markdown",
   "metadata": {},
   "source": []
  },
  {
   "cell_type": "markdown",
   "metadata": {},
   "source": [
    "# 5. Patch the nodule grown with celullar automata in the inpainted image  "
   ]
  },
  {
   "cell_type": "code",
   "execution_count": null,
   "metadata": {},
   "outputs": [],
   "source": [
    "def find_no_segmented_subfolder_and_read_it(file_one, data_candidates):\n",
    "    '''find the corresponding subfolder of this image, read it and resample it'''\n",
    "    # find the corresponding subfolder of this image\n",
    "    name_original = file_one.split('_')[0] + '.mhd'\n",
    "    data_dir_subsets = os.listdir(data_candidates)\n",
    "    data_dir_subsets = [i for i in data_dir_subsets if 'subset' in i]\n",
    "    data_dir_subsets = np.sort(data_dir_subsets)\n",
    "    for sub in data_dir_subsets:\n",
    "        if name_original in os.listdir(f'{data_candidates}{sub}'):\n",
    "            break\n",
    "    #read original (no-segmented) image\n",
    "    numpyImage, numpyOrigin, numpySpacing = load_itk_image(f'{data_candidates}{sub}/{name_original}')\n",
    "    # resample the image_without_segmentation\n",
    "    new_spacing = [1,1,1]\n",
    "    numpyImage_shape = ((np.shape(numpyImage) * numpySpacing) / np.asarray(new_spacing)).astype(int)\n",
    "    numpyImage_resampled = resample_scan_sitk(numpyImage, numpySpacing, numpyImage_shape, new_spacing=new_spacing)\n",
    "    return numpyImage_resampled, sub"
   ]
  },
  {
   "cell_type": "code",
   "execution_count": null,
   "metadata": {},
   "outputs": [],
   "source": [
    "for aaa in range(5):\n",
    "    for bbb in np.arange(5):\n",
    "        if bbb==2:break\n",
    "        print(aaa, bbb)\n",
    "        "
   ]
  },
  {
   "cell_type": "code",
   "execution_count": null,
   "metadata": {},
   "outputs": [],
   "source": [
    "# With correction\n",
    "offset_ndl = 0\n",
    "SAVE_FIGS = 40\n",
    "gen_range = np.arange(100)\n",
    "# gen_range = np.arange(20,200,3)\n",
    "generations_multi = []\n",
    "mselosses, min_losses, min_losses_idx = [], [], []\n",
    "errors=[]\n",
    "for idx, name_wrong in tqdm_notebook(enumerate(dict_names.keys()), total=len(dict_names.keys())):\n",
    "    if idx<offset_ndl: continue\n",
    "#     if idx==offset_ndl+1: break\n",
    "    name_correct = dict_names.get(name_wrong)\n",
    "    assert(name_correct in names_correct)\n",
    "    \n",
    "    # read original files and grown nodule\n",
    "    last, orig, mask, mask_lungs = get_raw_nodule(path_data, name_correct)\n",
    "    last32 = last[16:-16, 16:-16, 16:-16]; orig32 = orig[16:-16, 16:-16, 16:-16]; mask32 = mask[16:-16, 16:-16, 16:-16]\n",
    "    \n",
    "    # Read original CT image (not even segmented)\n",
    "    numpyImage_resampled, subfolder_save = find_no_segmented_subfolder_and_read_it(name_correct, path_candidates)\n",
    "    \n",
    "    ndl_grown = np.load(f'{path_source}{name_wrong}.npz')\n",
    "    ndl_grown = ndl_grown.f.arr_0\n",
    "    mask_ndl_grown = ndl_grown > 0\n",
    "    \n",
    "    mseloss = []\n",
    "    min_loss = 1\n",
    "    \n",
    "    for ca_gen in gen_range:\n",
    "        mask_overlap  = np.logical_and(mask_ndl_grown[ca_gen], mask32)\n",
    "        patched = ((~mask_overlap).astype(int)*last32) + ((mask_overlap).astype(int)*ndl_grown[ca_gen])\n",
    "        patched_corrected, mask_celaut = patch_generated_inpainted_with_extra_mask(mask_overlap, last32, ndl_grown, ca_gen)\n",
    "        \n",
    "        # Insert generated image into original CT image,  (The coords of the nodule are in its name) \n",
    "        numpyImage_resampled_inserted, coord_z, coord_y, coord_x, break_flag = insert_gan_image_in_no_segmented_lungs2(patched_corrected, name_correct, numpyImage_resampled, mask32) # WARNING mask32 or mask_overlap?\n",
    "        if break_flag: break\n",
    "        # padd resampled image (some nodules are close to border) \n",
    "        cube_augmented = pad_image_and_get_right_size_cube(numpyImage_resampled_inserted, coord_z, coord_y, coord_x)\n",
    "        \n",
    "        # save augmented data\n",
    "        if os.path.isdir(f'{path_dest}patched/{subfolder_save}') == False:\n",
    "            os.makedirs(f'{path_dest}patched/{subfolder_save}')\n",
    "        if ca_gen >= 2: #skip first two generations\n",
    "            cube_augmented.tofile(f'{path_dest}patched/{subfolder_save}/{name_correct[:-4]}_ep{ca_gen:03d}')\n",
    "        \n",
    "        loss_new = np.mean((orig32*mask32 - ndl_grown[ca_gen]*mask32)**2) #loss is against the ca_grown alone (not patched over inpainted)\n",
    "        if loss_new < min_loss:\n",
    "            min_loss = loss_new\n",
    "            ca_gen_min = ca_gen\n",
    "        else: break\n",
    "        mseloss.append(loss_new) \n",
    "\n",
    "        # save a few ID for gif\n",
    "        if idx % SAVE_FIGS == 0:\n",
    "            fig_save_automata_growing(name_correct, ca_gen, patched_corrected[15], last32, orig32)\n",
    "    \n",
    "    min_losses.append(min_loss) ; min_losses_idx.append(ca_gen_min)\n",
    "        \n",
    "    if idx % SAVE_FIGS == 0:\n",
    "        fig_read_figs_and_make_gif(name_correct) # Make GIF"
   ]
  },
  {
   "cell_type": "code",
   "execution_count": null,
   "metadata": {},
   "outputs": [],
   "source": []
  },
  {
   "cell_type": "code",
   "execution_count": null,
   "metadata": {},
   "outputs": [],
   "source": []
  },
  {
   "cell_type": "code",
   "execution_count": null,
   "metadata": {},
   "outputs": [],
   "source": []
  },
  {
   "cell_type": "code",
   "execution_count": null,
   "metadata": {},
   "outputs": [],
   "source": [
    "path_dest = '/data/OMM/project results/Mar 02 20 - Cellular Automata Generated ImagesDELETE/'"
   ]
  },
  {
   "cell_type": "code",
   "execution_count": null,
   "metadata": {},
   "outputs": [],
   "source": [
    "# With correction\n",
    "offset_ndl = 0\n",
    "SAVE_FIGS = 40\n",
    "gen_range = np.arange(100)\n",
    "# gen_range = np.arange(20,200,3)\n",
    "generations_multi = []\n",
    "mselosses, min_losses, min_losses_idx = [], [], []\n",
    "errors=[]\n",
    "for idx, name_wrong in tqdm_notebook(enumerate(dict_names.keys()), total=len(dict_names.keys())):\n",
    "    if idx<offset_ndl: continue\n",
    "#     if idx==offset_ndl+1: break\n",
    "    name_correct = dict_names.get(name_wrong)\n",
    "    assert(name_correct in names_correct)\n",
    "    \n",
    "    # read original files and grown nodule\n",
    "    last, orig, mask, mask_lungs = get_raw_nodule(path_data, name_correct)\n",
    "    last32 = last[16:-16, 16:-16, 16:-16]; orig32 = orig[16:-16, 16:-16, 16:-16]; mask32 = mask[16:-16, 16:-16, 16:-16]\n",
    "    \n",
    "    # Read original CT image (not even segmented)\n",
    "    numpyImage_resampled, subfolder_save = find_no_segmented_subfolder_and_read_it(name_correct, path_candidates)\n",
    "    \n",
    "    ndl_grown = np.load(f'{path_source}{name_wrong}.npz')\n",
    "    ndl_grown = ndl_grown.f.arr_0\n",
    "    mask_ndl_grown = ndl_grown > 0\n",
    "    \n",
    "    mseloss = []\n",
    "    min_loss = 1\n",
    "    \n",
    "    for ca_gen in gen_range:\n",
    "        mask_overlap  = np.logical_and(mask_ndl_grown[ca_gen], mask32)\n",
    "        patched = ((~mask_overlap).astype(int)*last32) + ((mask_overlap).astype(int)*ndl_grown[ca_gen])\n",
    "        patched_corrected, mask_celaut = patch_generated_inpainted_with_extra_mask(mask_overlap, last32, ndl_grown, ca_gen)\n",
    "        \n",
    "        # Insert generated image into original CT image,  (The coords of the nodule are in its name) \n",
    "        numpyImage_resampled_inserted, coord_z, coord_y, coord_x, break_flag = insert_gan_image_in_no_segmented_lungs2(patched_corrected, name_correct, numpyImage_resampled, mask32) # WARNING mask32 or mask_overlap?\n",
    "        if break_flag: break\n",
    "        # padd resampled image (some nodules are close to border) \n",
    "        cube_augmented = pad_image_and_get_right_size_cube(numpyImage_resampled_inserted, coord_z, coord_y, coord_x)\n",
    "        \n",
    "        # save augmented data\n",
    "#         if os.path.isdir(f'{path_dest}patched/{subfolder_save}') == False:\n",
    "#             os.makedirs(f'{path_dest}patched/{subfolder_save}')\n",
    "#         if ca_gen >= 2: #skip first two generations\n",
    "#             cube_augmented.tofile(f'{path_dest}patched/{subfolder_save}/{name_correct[:-4]}_ep{ca_gen:03d}')\n",
    "        \n",
    "        loss_new = np.mean((orig32*mask32 - ndl_grown[ca_gen]*mask32)**2) #loss is against the ca_grown alone (not patched over inpainted)\n",
    "        if loss_new < min_loss:\n",
    "            min_loss = loss_new\n",
    "            ca_gen_min = ca_gen\n",
    "        else: break\n",
    "#         mseloss.append(loss_new) \n",
    "\n",
    "        # save a few ID for gif\n",
    "#         if idx % SAVE_FIGS == 0:\n",
    "#             fig_save_automata_growing(name_correct, ca_gen, patched_corrected[15], last32, orig32)\n",
    "    \n",
    "#     min_losses.append(min_loss) ; min_losses_idx.append(ca_gen_min)\n",
    "        \n",
    "#     if idx % SAVE_FIGS == 0:\n",
    "#         fig_read_figs_and_make_gif(name_correct) # Make GIF"
   ]
  },
  {
   "cell_type": "code",
   "execution_count": null,
   "metadata": {},
   "outputs": [],
   "source": []
  },
  {
   "cell_type": "code",
   "execution_count": null,
   "metadata": {},
   "outputs": [],
   "source": [
    "def insert_gan_image_in_no_segmented_lungs2(image_patched_relevant, file_one, numpyImage_resampled, mask_correct):\n",
    "    break_flag = False\n",
    "    '''1. the coords of the nodule are in its name.\n",
    "    2. get a copy of the block around the nodule\n",
    "    3. denormalize gan-created image and make sure its () similar to the resampled block \n",
    "    4. insert gan-created image (just the nodule mask) into the block\n",
    "    5. put back the block (with the inserted gan-created nodule) into the copy of the resampled image'''\n",
    "    size_half = 16\n",
    "    # the coords of the nodule are in its name\n",
    "    coord_z = int(file_one.split('_z')[-1].split('y')[0])\n",
    "    coord_y = int(file_one.split('y')[-1].split('x')[0])\n",
    "    coord_x = int(file_one.split('x')[-1].split('.')[0])\n",
    "#     print(coord_z, coord_y, coord_x)\n",
    "    # get a copy of the block around the nodule\n",
    "    numpyImage_resampled_inserted = copy(numpyImage_resampled)\n",
    "    numpyImage_resampled_block = numpyImage_resampled_inserted[coord_z-size_half:coord_z+size_half, coord_y-size_half:coord_y+size_half, coord_x-size_half:coord_x+size_half]\n",
    "#     print(coord_z-size_half,coord_z+size_half, coord_y-size_half,coord_y+size_half, coord_x-size_half,coord_x+size_half)\n",
    "#     print(np.shape(numpyImage_resampled_block))\n",
    "    # denormalize gan-created image and make sure its () similar to the resampled block \n",
    "    image_patched_denorm = denormalizePatches(image_patched_relevant)\n",
    "#     print(np.sum(numpyImage_resampled_block == image_patched_denorm))\n",
    "    if np.sum(numpyImage_resampled_block == image_patched_denorm) < 1000:\n",
    "        errors.append(file_one)\n",
    "        break_flag = True\n",
    "    # insert gan-created image (just the nodule mask) into the block\n",
    "    zz,yy,xx = np.where(mask_correct==1)\n",
    "    numpyImage_resampled_block[zz,yy,xx] = image_patched_denorm[zz,yy,xx]\n",
    "    # put back the block (with the inserted gan-created nodule) into the copy of the resampled image\n",
    "    numpyImage_resampled_inserted[coord_z-size_half:coord_z+size_half, coord_y-size_half:coord_y+size_half, coord_x-size_half:coord_x+size_half] = numpyImage_resampled_block\n",
    "    return numpyImage_resampled_inserted, coord_z, coord_y, coord_x, break_flag"
   ]
  },
  {
   "cell_type": "code",
   "execution_count": null,
   "metadata": {},
   "outputs": [],
   "source": [
    "238-206, 241-209, 218-186 "
   ]
  },
  {
   "cell_type": "code",
   "execution_count": null,
   "metadata": {},
   "outputs": [],
   "source": []
  },
  {
   "cell_type": "code",
   "execution_count": null,
   "metadata": {},
   "outputs": [],
   "source": []
  },
  {
   "cell_type": "code",
   "execution_count": null,
   "metadata": {},
   "outputs": [],
   "source": []
  },
  {
   "cell_type": "code",
   "execution_count": null,
   "metadata": {},
   "outputs": [],
   "source": []
  },
  {
   "cell_type": "code",
   "execution_count": null,
   "metadata": {},
   "outputs": [],
   "source": [
    "len(dict_names.keys())"
   ]
  },
  {
   "cell_type": "code",
   "execution_count": null,
   "metadata": {},
   "outputs": [],
   "source": [
    "padxx = 12\n",
    "print(np.shape(patched_corrected))\n",
    "fig, ax = plt.subplots(1,3, figsize=(12,4))\n",
    "ax[0].imshow(numpyImage_resampled[coord_z][coord_y-padxx:coord_y+padxx, coord_x-padxx:coord_x+padxx])\n",
    "ax[1].imshow(numpyImage_resampled_inserted[coord_z][coord_y-padxx:coord_y+padxx, coord_x-padxx:coord_x+padxx])\n",
    "ax[2].imshow(np.abs(numpyImage_resampled[coord_z][coord_y-padxx:coord_y+padxx, coord_x-padxx:coord_x+padxx] - numpyImage_resampled_inserted[coord_z][coord_y-padxx:coord_y+padxx, coord_x-padxx:coord_x+padxx]))\n",
    "for axx in ax.ravel(): axx.axis('off'); fig.tight_layout()"
   ]
  },
  {
   "cell_type": "code",
   "execution_count": null,
   "metadata": {},
   "outputs": [],
   "source": []
  },
  {
   "cell_type": "code",
   "execution_count": null,
   "metadata": {},
   "outputs": [],
   "source": []
  },
  {
   "cell_type": "code",
   "execution_count": null,
   "metadata": {},
   "outputs": [],
   "source": [
    "import sys"
   ]
  },
  {
   "cell_type": "code",
   "execution_count": null,
   "metadata": {
    "scrolled": true
   },
   "outputs": [],
   "source": [
    "path_xx = '/data/OMM/project results/Mar 02 20 - Cellular Automata Generated Images/patched/subset5/'\n",
    "ff = os.listdir(path_xx)\n",
    "ff = np.sort(ff)\n",
    "for idx, i in enumerate(ff):\n",
    "    if idx==10:break\n",
    "    a = np.fromfile(f'{path_xx}{i}',dtype='int16').astype('float32').reshape((80,80,80))\n",
    "    print(sys.getsizeof(a))\n",
    "    plt.figure()\n",
    "    plt.hist(a.flatten());"
   ]
  },
  {
   "cell_type": "code",
   "execution_count": null,
   "metadata": {},
   "outputs": [],
   "source": [
    "a = np.fromfile(f'{pathxx}{i}',dtype='float').astype('float32').reshape((80,80,80))"
   ]
  },
  {
   "cell_type": "code",
   "execution_count": null,
   "metadata": {},
   "outputs": [],
   "source": []
  },
  {
   "cell_type": "code",
   "execution_count": null,
   "metadata": {},
   "outputs": [],
   "source": [
    "pathxx = '/media/om18/45c77682-c907-4971-84d4-126ad0d801dc2/LUNA16/cycleGAN_aug_10_folds/subset0/'\n",
    "ff = os.listdir(pathxx)\n",
    "for idx, i in enumerate(ff):\n",
    "    if idx==10:break\n",
    "    a = np.fromfile(f'{pathxx}{i}',dtype='int16').astype('float32').reshape((80,80,80))\n",
    "    print(sys.getsizeof(a))\n",
    "    plt.figure()\n",
    "    plt.hist(a.flatten());"
   ]
  },
  {
   "cell_type": "code",
   "execution_count": null,
   "metadata": {},
   "outputs": [],
   "source": [
    "# In more detail:\n",
    "# We patch the celullar-automata-generated (augen) nodule into the inpainted image (inpain)\n",
    "x=2; y=4\n",
    "part1 = ((~mask_overlap).astype(int)*last32)\n",
    "part2 = ((mask_overlap).astype(int)*ndl_grown[ca_gen])\n",
    "part3 = (((~mask_overlap).astype(int)*last32) + ((mask_overlap).astype(int)*ndl_grown[ca_gen]))\n",
    "part4 = part2 > 0\n",
    "part5 = last32 * part4\n",
    "part6 = part2 < part5\n",
    "part7 = part2 < orig32*part4\n",
    "part8 = part2*(~part6) + last32*part6\n",
    "part9 = part2*(~part6) + last32*part6 + part1*(~part4)\n",
    "fig, ax = plt.subplots(3,3, figsize=(12,12))\n",
    "ax[0,0].imshow(part1[15]); ax[0,0].text(x, y, 'inpain no augen', color='y', fontsize=14)\n",
    "ax[0,1].imshow(part2[15]); ax[0,1].text(x, y, 'augen', color='y', fontsize=14)\n",
    "ax[0,2].imshow(part3[15]); ax[0,2].text(x, y, 'inpain + augen [3]', color='y', fontsize=14)\n",
    "ax[1,0].imshow(part4[15]); ax[1,0].text(x, y, 'augen mask', color='y', fontsize=14)\n",
    "ax[1,1].imshow(part5[15]); ax[1,1].text(x, y, 'inpain * augen mask [5]', color='y', fontsize=14)\n",
    "ax[1,2].imshow(part6[15]); ax[1,2].text(x, y, '(augen < inpain) \\n* augen mask [6]', color='y', fontsize=14)\n",
    "ax[2,0].imshow(part3[15]); ax[2,0].text(x, y, '3+6', color='y', fontsize=14)\n",
    "ax[2,0].imshow(part6[15], alpha=.3)\n",
    "ax[2,1].imshow(part8[15]); ax[2,1].text(x, y, 'augen * ~6 +\\ninpain *  6 [8]', color='y', fontsize=14)\n",
    "ax[2,2].imshow(part9[15]); ax[2,2].text(x, y, '8 + 1', color='y', fontsize=14)\n",
    "\n",
    "for axx in ax.ravel(): axx.axis('off'); fig.tight_layout()"
   ]
  },
  {
   "cell_type": "code",
   "execution_count": null,
   "metadata": {},
   "outputs": [],
   "source": [
    "# With correction\n",
    "offset_ndl = 200\n",
    "SAVE_FIGS = 400\n",
    "gen_range = np.arange(100)\n",
    "# gen_range = np.arange(20,200,3)\n",
    "generations_multi = []\n",
    "mselosses, min_losses, min_losses_idx = [], [], []\n",
    "for idx, name_wrong in tqdm_notebook(enumerate(dict_names.keys()), total=len(dict_names.keys())):\n",
    "    if idx<=offset_ndl: continue\n",
    "    if idx==offset_ndl+20: break\n",
    "    name_correct = dict_names.get(name_wrong)\n",
    "    assert(name_correct in names_correct)\n",
    "    \n",
    "    # read original files and grown nodule\n",
    "    last, orig, mask, mask_lungs = get_raw_nodule(path_data, name_correct)\n",
    "    last32 = last[16:-16, 16:-16, 16:-16]; orig32 = orig[16:-16, 16:-16, 16:-16]; mask32 = mask[16:-16, 16:-16, 16:-16]\n",
    "    \n",
    "    ndl_grown = np.load(f'{path_source}{name_wrong}.npz')\n",
    "    ndl_grown = ndl_grown.f.arr_0\n",
    "    mask_ndl_grown = ndl_grown > 0\n",
    "    \n",
    "    generations = []\n",
    "    mseloss = []\n",
    "    min_loss = 1\n",
    "    for ca_gen in gen_range:\n",
    "        mask_overlap  = np.logical_and(mask_ndl_grown[ca_gen], mask32)\n",
    "        patched = ((~mask_overlap).astype(int)*last32) + ((mask_overlap).astype(int)*ndl_grown[ca_gen])\n",
    "        patched_corrected, mask_celaut = patch_generated_inpainted_with_extra_mask(mask_overlap, last32, ndl_grown, ca_gen)\n",
    "        loss_new = np.mean((orig32*mask32 - ndl_grown[ca_gen]*mask32)**2) #loss is against the ca_grown alone (not patched over inpainted)\n",
    "        if loss_new < min_loss:\n",
    "            min_loss = loss_new\n",
    "            ca_gen_min = ca_gen\n",
    "        else: break\n",
    "        mseloss.append(loss_new) \n",
    "#         if mseloss\n",
    "        \n",
    "        \n",
    "        generations.append(patched_corrected)\n",
    "        # save a few ID for gif\n",
    "        if idx % SAVE_FIGS == 0:\n",
    "            fig_save_automata_growing(name_correct, ca_gen, patched_corrected[15], last32, orig32)\n",
    "    \n",
    "    min_losses.append(min_loss) ; min_losses_idx.append(ca_gen_min)\n",
    "        \n",
    "    generations_multi.append(generations)\n",
    "    mselosses.append(mseloss)\n",
    "    \n",
    "    if idx % SAVE_FIGS == 0:\n",
    "        fig_read_figs_and_make_gif(name_correct) # Make GIF\n",
    "    \n",
    "    \n",
    "    \n",
    "    "
   ]
  },
  {
   "cell_type": "code",
   "execution_count": null,
   "metadata": {},
   "outputs": [],
   "source": []
  },
  {
   "cell_type": "code",
   "execution_count": null,
   "metadata": {},
   "outputs": [],
   "source": [
    "for i in np.arange(1,1161):\n",
    "    if 65536 **(1/(i**3)) %1 ==0:\n",
    "        print(i)"
   ]
  },
  {
   "cell_type": "code",
   "execution_count": null,
   "metadata": {},
   "outputs": [],
   "source": [
    "# check previous format: read augmented data from cycleGAN \n",
    "path_augmented_data = '/media/om18/45c77682-c907-4971-84d4-126ad0d801dc2/LUNA16/cycleGAN_aug_10_folds/subset0/'\n",
    "ffA = os.listdir(path_augmented_data)\n",
    "a = np.fromfile(f'{path_augmented_data}{ffA[0]}',dtype='int16').astype('float32').reshape((80,80,80))\n",
    "print(np.shape(a))"
   ]
  },
  {
   "cell_type": "code",
   "execution_count": null,
   "metadata": {},
   "outputs": [],
   "source": [
    "# check previous format: read augmented data from cycleGAN \n",
    "path_augmented_data = '/data/OMM/project results/Feb 20 19 - CycleGan clean/deep nodule prior luna v2 - cubes size 32 coefficients/images augmented/patched/subset0/'\n",
    "ffA = os.listdir(path_augmented_data)\n",
    "a = np.fromfile(f'{path_augmented_data}{ffA[0]}',dtype='int16').astype('float32').reshape((80,80,80))\n",
    "print(np.shape(a))"
   ]
  },
  {
   "cell_type": "code",
   "execution_count": null,
   "metadata": {},
   "outputs": [],
   "source": [
    "plt.imshow(a[40])"
   ]
  },
  {
   "cell_type": "code",
   "execution_count": null,
   "metadata": {},
   "outputs": [],
   "source": []
  },
  {
   "cell_type": "code",
   "execution_count": null,
   "metadata": {},
   "outputs": [],
   "source": [
    "a = np.fromfile(f'{path_augmented_data}{ffA[0]}',dtype='int16').astype('float32')\n",
    "print(np.shape(a))\n"
   ]
  },
  {
   "cell_type": "code",
   "execution_count": null,
   "metadata": {},
   "outputs": [],
   "source": [
    "a = np.fromfile(f'{path_augmented_data}{ffA[0]}',dtype='int16').astype('float32').reshape((80,80,80))\n",
    "np.shape(a)"
   ]
  },
  {
   "cell_type": "code",
   "execution_count": null,
   "metadata": {},
   "outputs": [],
   "source": [
    "plt.hist(min_losses_idx);"
   ]
  },
  {
   "cell_type": "code",
   "execution_count": null,
   "metadata": {},
   "outputs": [],
   "source": [
    "for idx, (loss, min_value, min_idx) in enumerate(zip(mselosses, min_losses, min_losses_idx)):\n",
    "    if idx==16:\n",
    "        plt.plot(loss, c='#1133AA', alpha=.3)\n",
    "        plt.scatter(min_idx, min_value, c='#1133AA')\n",
    "        ax = plt.gca(); ax.set_yscale('log')"
   ]
  },
  {
   "cell_type": "code",
   "execution_count": null,
   "metadata": {},
   "outputs": [],
   "source": [
    "for idx, (loss, min_value, min_idx) in enumerate(zip(mselosses[16:], min_losses[16:], min_losses_idx[16:])):\n",
    "    if idx==0:\n",
    "        plt.plot(loss[40:], c='#1133AA', alpha=.3)\n",
    "        plt.scatter(np.asarray(min_idx)[40:], np.asarray(min_value)[40:], c='#1133AA')\n",
    "        ax = plt.gca(); ax.set_yscale('log')"
   ]
  },
  {
   "cell_type": "code",
   "execution_count": null,
   "metadata": {},
   "outputs": [],
   "source": [
    "for loss, min_value, min_idx in zip(mselosses, min_losses, min_losses_idx):\n",
    "    plt.plot(loss, c='#1133AA', alpha=.3)\n",
    "    plt.scatter(min_idx, min_value, c='#1133AA', alpha=.8)"
   ]
  },
  {
   "cell_type": "code",
   "execution_count": null,
   "metadata": {},
   "outputs": [],
   "source": [
    "xx = []\n",
    "for i in generations_multi[2]:\n",
    "    xx.append(np.mean((orig32*mask32 - i*mask32)**2))\n",
    "plt.semilogy(xx)"
   ]
  },
  {
   "cell_type": "code",
   "execution_count": null,
   "metadata": {},
   "outputs": [],
   "source": [
    "xx = []\n",
    "for i in ndl_grown[:100]:\n",
    "    xx.append(np.mean((orig32*mask32 - i*mask32)**2))\n",
    "plt.semilogy(xx)"
   ]
  },
  {
   "cell_type": "code",
   "execution_count": null,
   "metadata": {},
   "outputs": [],
   "source": [
    "fig, ax = plt.subplots(1,2)\n",
    "ax[0].imshow((orig32*mask32)[15])\n",
    "ax[1].imshow((generations[0]*mask32)[15])\n",
    "np.median(((orig32*mask32) - (patched_corrected*mask32))**2)"
   ]
  },
  {
   "cell_type": "code",
   "execution_count": null,
   "metadata": {},
   "outputs": [],
   "source": [
    "print(files_sorted[0])\n",
    "a = np.load('/home/om18/Downloads/files_sorted_maybe_old.npy')\n",
    "a[0]"
   ]
  },
  {
   "cell_type": "code",
   "execution_count": null,
   "metadata": {},
   "outputs": [],
   "source": [
    "print(np.shape(orig32), np.shape(mask32), np.shape(patched_corrected))\n",
    "fig, ax = plt.subplots(1,2)\n",
    "ax[0].imshow((orig32*mask32)[15])\n",
    "ax[1].imshow((patched_corrected*mask32)[15])\n",
    "np.mean(((orig32*mask32) - (patched_corrected*mask32))**2)"
   ]
  },
  {
   "cell_type": "code",
   "execution_count": null,
   "metadata": {},
   "outputs": [],
   "source": [
    "for idx, name_wrong in enumerate(dict_names.keys()):\n",
    "    if idx<=offset_ndl: continue\n",
    "    if idx==offset_ndl+4: break\n",
    "    name_correct = dict_names.get(name_wrong)\n",
    "    last, orig, mask, mask_lungs = get_raw_nodule(path_data, name_correct)\n",
    "    plt.figure()\n",
    "    plt.imshow(orig[31])\n",
    "    print(name_correct)"
   ]
  },
  {
   "cell_type": "code",
   "execution_count": null,
   "metadata": {},
   "outputs": [],
   "source": [
    "a1 = '1.3.6.1.4.1.14519.5.2.1.6279.6001.126631670596873065041988320084_block2_0_z105y172x259.raw'\n",
    "a2 = '1.3.6.1.4.1.14519.5.2.1.6279.6001.199261544234308780356714831537_block1_10_z341y133x83.raw'\n",
    "a3 = '1.3.6.1.4.1.14519.5.2.1.6279.6001.287966244644280690737019247886_block2_432_z225y165x272.raw'\n",
    "last, orig, mask, mask_lungs = get_raw_nodule(path_data, a3)\n",
    "plt.imshow(orig[31])"
   ]
  },
  {
   "cell_type": "code",
   "execution_count": null,
   "metadata": {},
   "outputs": [],
   "source": [
    "os.remove('gifs/images_before_gifs/')"
   ]
  },
  {
   "cell_type": "code",
   "execution_count": null,
   "metadata": {},
   "outputs": [],
   "source": [
    "generations_single = generations_multi[0]\n",
    "generations_single = np.asarray(generations_single)[:,15,:,:]\n",
    "print(np.shape(generations_multi), np.shape(generations_single))"
   ]
  },
  {
   "cell_type": "code",
   "execution_count": null,
   "metadata": {},
   "outputs": [],
   "source": [
    "def fig_save_automata_growing(ID, idx, i, last32, orig32, vmin=0, vmax=1, folder='gifs/images_before_gifs/'):\n",
    "    fig, ax = plt.subplots(1,3,figsize=(8.5,3))\n",
    "    ax[0].imshow(last32[15], vmin=vmin, vmax=vmax)\n",
    "    ax[0].text(2,2,'inpain',color='y', fontsize=12)\n",
    "    ax[1].imshow(i, vmin=vmin, vmax=vmax)\n",
    "    ax[1].text(2,2,f'cel aut {idx}',color='y', fontsize=12)\n",
    "    ax[2].imshow(orig32[15], vmin=vmin, vmax=vmax)\n",
    "    ax[2].text(2,2,'orig',color='y', fontsize=12)\n",
    "    for axx in ax.ravel(): axx.axis('off')\n",
    "    fig.tight_layout()\n",
    "    plt.savefig(f'{folder}{ID}_{idx:04d}.png')\n",
    "    plt.close()"
   ]
  },
  {
   "cell_type": "code",
   "execution_count": null,
   "metadata": {},
   "outputs": [],
   "source": [
    "for idx, i in enumerate(generations_single):\n",
    "    fig_save_automata_growing('test', idx, i, last32, orig32)\n",
    "fig_read_figs_and_make_gif('test')"
   ]
  },
  {
   "cell_type": "code",
   "execution_count": null,
   "metadata": {},
   "outputs": [],
   "source": [
    "def fig_read_figs_and_make_gif(ID, folder='gifs/images_before_gifs/'):\n",
    "    files_figures = os.listdir(folder)\n",
    "    files_figures = np.sort(files_figures)\n",
    "    images_all = []\n",
    "    for i in files_figures:\n",
    "        a = imageio.mimread(f'{folder}{i}')\n",
    "        os.remove(f'{folder}{i}')\n",
    "        images_all.append(a[0])\n",
    "    imageio.mimsave(f'gifs/{ID}.gif', images_all, duration=.3)"
   ]
  },
  {
   "cell_type": "code",
   "execution_count": null,
   "metadata": {},
   "outputs": [],
   "source": [
    "files_figures = os.listdir('gifs/images_before_gifs/')\n",
    "files_figures = np.sort(files_figures)\n",
    "a = imageio.mimread(f'gifs/images_before_gifs/{files_figures[0]}')"
   ]
  },
  {
   "cell_type": "code",
   "execution_count": null,
   "metadata": {},
   "outputs": [],
   "source": [
    "files_figures = os.listdir('gifs/images_before_gifs/')\n",
    "files_figures = np.sort(files_figures)\n",
    "images_all = []\n",
    "for i in files_figures:\n",
    "    a = imageio.mimread(f'gifs/images_before_gifs/{i}')\n",
    "    images_all.append(a[0])\n",
    "imageio.mimsave('movie.gif', images_all, duration=.5)"
   ]
  },
  {
   "cell_type": "code",
   "execution_count": null,
   "metadata": {},
   "outputs": [],
   "source": []
  },
  {
   "cell_type": "code",
   "execution_count": null,
   "metadata": {},
   "outputs": [],
   "source": [
    "plt.hist(generations_single[9].flatten())"
   ]
  },
  {
   "cell_type": "code",
   "execution_count": null,
   "metadata": {},
   "outputs": [],
   "source": [
    "for idx, i in enumerate(mask_ndl_grown):\n",
    "    if idx==20: break\n",
    "    plt.figure()\n",
    "    plt.imshow(i[15])"
   ]
  },
  {
   "cell_type": "code",
   "execution_count": null,
   "metadata": {},
   "outputs": [],
   "source": [
    "mask_ndl_grown = ndl_grown > 0\n",
    "ca_patched = np.zeros_like(ndl_grown)\n",
    "for idx, i in enumerate(ndl_grown):\n",
    "    ca_patched[idx] = (~mask_ndl_grown_shifted2[idx]*last32) + (mask_ndl_grown_shifted2[idx]*i)"
   ]
  },
  {
   "cell_type": "code",
   "execution_count": null,
   "metadata": {},
   "outputs": [],
   "source": [
    "np.sum(mask_ndl_grown[15]), np.sum(mask32)"
   ]
  },
  {
   "cell_type": "code",
   "execution_count": null,
   "metadata": {},
   "outputs": [],
   "source": [
    "aa = np.logical_and(mask_ndl_grown[15],mask32)\n",
    "fig, ax = plt.subplots(1,4, figsize=(16,4))\n",
    "ax[0].imshow(mask_ndl_grown[15][15])\n",
    "ax[1].imshow(mask32[15])\n",
    "ax[2].imshow(aa[15])\n",
    "ax[3].imshow(mask_ndl_grown[15][15] + mask32[15])"
   ]
  },
  {
   "cell_type": "code",
   "execution_count": null,
   "metadata": {},
   "outputs": [],
   "source": [
    "np.shape(((mask_ndl_grown[ca_gen]).astype(int)*ndl_grown[ca_gen]))"
   ]
  },
  {
   "cell_type": "code",
   "execution_count": null,
   "metadata": {},
   "outputs": [],
   "source": [
    "len(np.unique(names_correct)), len(np.unique(files_done))"
   ]
  },
  {
   "cell_type": "code",
   "execution_count": null,
   "metadata": {},
   "outputs": [],
   "source": [
    "len(list(set(names_correct).intersection(set(files_done))))"
   ]
  },
  {
   "cell_type": "code",
   "execution_count": null,
   "metadata": {},
   "outputs": [],
   "source": [
    "# Make sure the nodule visualized is in the names_correct\n",
    "assert(name_correct in names_correct)"
   ]
  },
  {
   "cell_type": "code",
   "execution_count": null,
   "metadata": {},
   "outputs": [],
   "source": [
    "name_wrong = files_done[-1]\n",
    "name_correct = dict_names.get(name_wrong)\n",
    "name_correct_zyx = dict_zyx.get(name_wrong)\n",
    "last, orig, mask, mask_lungs = get_raw_nodule(path_data, name_correct)\n",
    "print(np.shape(last), np.shape(orig))\n",
    "fig, ax = plt.subplots(1,3, figsize=(6,2));\n",
    "ax[0].imshow(last[31])\n",
    "ax[1].imshow(orig[31])\n",
    "ax[2].imshow(mask[31])\n",
    "for axx in ax.ravel(): axx.axis('off')\n",
    "fig.tight_layout()"
   ]
  },
  {
   "cell_type": "code",
   "execution_count": null,
   "metadata": {},
   "outputs": [],
   "source": [
    "# Since we performed the nodule growth with the wrong names we have to load the results with the wrong name\n",
    "ndl_grown = np.load(f'{path_source}{name_wrong}.npz')\n",
    "ndl_grown = ndl_grown.f.arr_0\n",
    "print(np.shape(ndl_grown))\n",
    "print(name_correct_zyx)"
   ]
  },
  {
   "cell_type": "code",
   "execution_count": null,
   "metadata": {
    "scrolled": true
   },
   "outputs": [],
   "source": [
    "fig_multiple3D(ndl_grown,2,8)"
   ]
  },
  {
   "cell_type": "code",
   "execution_count": null,
   "metadata": {
    "scrolled": true
   },
   "outputs": [],
   "source": [
    "fig_multiple3D(ndl_grown[20:], 2,8)"
   ]
  },
  {
   "cell_type": "code",
   "execution_count": null,
   "metadata": {},
   "outputs": [],
   "source": [
    "last, orig, mask, mask_lungs = get_raw_nodule(path_data, name_correct)\n",
    "last32 = last[16:-16, 16:-16, 16:-16]\n",
    "orig32 = orig[16:-16, 16:-16, 16:-16]\n",
    "mask32 = mask[16:-16, 16:-16, 16:-16]\n",
    "mask_ndl_grown = ndl_grown > 0\n",
    "ca_patched = np.zeros_like(ndl_grown)\n",
    "ca_mask = np.zeros_like(ndl_grown)\n",
    "for idx, i in enumerate(ndl_grown):\n",
    "    ca_patched[idx] = (~mask_ndl_grown[idx]*last32) + (mask_ndl_grown[idx]*i)\n",
    "    ca_mask[idx] = (mask_ndl_grown[idx])>0\n",
    "\n",
    "fig, ax = plt.subplots(1,3, figsize=(12,4));\n",
    "ax[0].imshow(last32[15], vmin=0, vmax=1); ax[1].imshow(orig32[15], vmin=0, vmax=1); ax[2].imshow(mask32[15], vmin=0, vmax=1)\n",
    "for axx in ax.ravel(): axx.axis('off'); fig.tight_layout()\n",
    "\n",
    "fig_multiple3D(ca_patched[1:], 2,8)\n",
    "fig_multiple3D(ca_patched[20:], 2,8)"
   ]
  },
  {
   "cell_type": "code",
   "execution_count": null,
   "metadata": {},
   "outputs": [],
   "source": [
    "ca_patched_every_2 = [i for idx, i in enumerate(ca_patched) if idx%2==0]\n",
    "np.shape(ca_patched_every_2)"
   ]
  },
  {
   "cell_type": "code",
   "execution_count": null,
   "metadata": {},
   "outputs": [],
   "source": [
    "ca_gen = 60\n",
    "fig, ax = plt.subplots(2,3, figsize=(7.5,5));\n",
    "ax[0,0].imshow(ca_mask[ca_gen][15], vmin=0, vmax=1); ax[1,0].imshow(mask32[15], vmin=0, vmax=1); \n",
    "ax[0,1].imshow(ca_mask[ca_gen][:,15,:], vmin=0, vmax=1), ax[1,1].imshow(mask32[:,15,:], vmin=0, vmax=1)\n",
    "ax[0,2].imshow(ca_mask[ca_gen][:,:,15], vmin=0, vmax=1), ax[1,2].imshow(mask32[:,:,15], vmin=0, vmax=1)\n",
    "for axx in ax.ravel(): axx.axis('off'); fig.tight_layout()"
   ]
  },
  {
   "cell_type": "code",
   "execution_count": null,
   "metadata": {},
   "outputs": [],
   "source": [
    "fig, ax = plt.subplots(2,3, figsize=(7.5,5));\n",
    "ax[0,0].imshow(ca_mask[50][15], vmin=0, vmax=1); ax[1,0].imshow(mask32[15], vmin=0, vmax=1); \n",
    "ax[0,1].imshow(ca_mask[50][:,15,:], vmin=0, vmax=1), ax[1,1].imshow(mask32[:,15,:], vmin=0, vmax=1)\n",
    "ax[0,2].imshow(ca_mask[50][:,:,15], vmin=0, vmax=1), ax[1,2].imshow(mask32[:,:,15], vmin=0, vmax=1)\n",
    "for axx in ax.ravel(): axx.axis('off'); fig.tight_layout()"
   ]
  },
  {
   "cell_type": "code",
   "execution_count": null,
   "metadata": {},
   "outputs": [],
   "source": [
    "last32 = last[16:-16, 16:-16, 16:-16]\n",
    "orig32 = orig[16:-16, 16:-16, 16:-16]\n",
    "mask32 = mask[16:-16, 16:-16, 16:-16]\n",
    "mask_ndl_grown = ndl_grown > 0\n",
    "ca_patched = np.zeros_like(ndl_grown)\n",
    "for idx, i in enumerate(ndl_grown):\n",
    "    ca_patched[idx] = (~mask_ndl_grown[idx]*last32) + (mask_ndl_grown[idx]*i)\n",
    "\n",
    "fig, ax = plt.subplots(1,3, figsize=(6,2));\n",
    "ax[0].imshow(last32[15], vmin=0, vmax=1); ax[1].imshow(orig32[15], vmin=0, vmax=1); ax[2].imshow(mask32[15], vmin=0, vmax=1)\n",
    "for axx in ax.ravel(): axx.axis('off'); fig.tight_layout()\n",
    "\n",
    "fig_multiple3D(ca_patched[10:], 2,8)\n",
    "fig_multiple3D(ca_patched[100:], 2,8)"
   ]
  },
  {
   "cell_type": "code",
   "execution_count": null,
   "metadata": {},
   "outputs": [],
   "source": []
  },
  {
   "cell_type": "code",
   "execution_count": null,
   "metadata": {},
   "outputs": [],
   "source": [
    "offset=10\n",
    "last32 = last[16:-16, 16:-16, 16:-16]\n",
    "mask32 = mask[16:-16, 16:-16, 16:-16]\n",
    "mask_ndl_grown = ndl_grown > 0\n",
    "ca_patched = np.zeros_like(ndl_grown)\n",
    "for idx, i in enumerate(ndl_grown[offset:]):\n",
    "    ca_patched[idx] = (mask32) + (mask_ndl_grown[idx+offset])*.5\n",
    "fig_multiple3D(ca_patched, 4,8, vmin=0, vmax=2)"
   ]
  },
  {
   "cell_type": "code",
   "execution_count": null,
   "metadata": {},
   "outputs": [],
   "source": [
    "name_correct_zyx - 16//2"
   ]
  },
  {
   "cell_type": "code",
   "execution_count": null,
   "metadata": {},
   "outputs": [],
   "source": [
    "np.shape(mask32)"
   ]
  },
  {
   "cell_type": "code",
   "execution_count": null,
   "metadata": {},
   "outputs": [],
   "source": [
    "name_correct_zyx"
   ]
  },
  {
   "cell_type": "code",
   "execution_count": null,
   "metadata": {},
   "outputs": [],
   "source": [
    "from scipy.ndimage.interpolation import shift"
   ]
  },
  {
   "cell_type": "code",
   "execution_count": null,
   "metadata": {},
   "outputs": [],
   "source": [
    "mask_ndl_grown_shifted = shift(mask_ndl_grown, (0, 9, 8, 8), cval=0)"
   ]
  },
  {
   "cell_type": "code",
   "execution_count": null,
   "metadata": {},
   "outputs": [],
   "source": [
    "mask_ndl_grown_shifted2 = []\n",
    "for idx, i in enumerate(mask_ndl_grown):\n",
    "#     if idx==10:break\n",
    "    new_zeros = np.zeros_like(i)\n",
    "    zz, yy, xx = np.where(i==1)\n",
    "    zz = zz + (name_correct_zyx[6] - 16//2)\n",
    "    yy = yy + (name_correct_zyx[7] - 16//2)\n",
    "    xx = xx + (name_correct_zyx[8] - 16//2)\n",
    "    # WARNING THESE CLIP MAYBE SHOUD BE REMOVED\n",
    "    xx = np.clip(xx,0,31)\n",
    "    yy = np.clip(yy,0,31)\n",
    "    zz = np.clip(zz,0,31)\n",
    "    \n",
    "    new_zeros[zz,yy,xx]=1\n",
    "    mask_ndl_grown_shifted2.append(new_zeros)"
   ]
  },
  {
   "cell_type": "code",
   "execution_count": null,
   "metadata": {},
   "outputs": [],
   "source": [
    "print(np.shape(mask_ndl_grown_shifted2))\n",
    "plt.imshow(mask_ndl_grown_shifted2[0][24])"
   ]
  },
  {
   "cell_type": "code",
   "execution_count": null,
   "metadata": {},
   "outputs": [],
   "source": [
    "last32 = last[16:-16, 16:-16, 16:-16]\n",
    "orig32 = orig[16:-16, 16:-16, 16:-16]\n",
    "mask32 = mask[16:-16, 16:-16, 16:-16]\n",
    "mask_ndl_grown = ndl_grown > 0\n",
    "ca_patched = np.zeros_like(ndl_grown)\n",
    "for idx, i in enumerate(ndl_grown):\n",
    "    ca_patched[idx] = (~mask_ndl_grown_shifted2[idx]*last32) + (mask_ndl_grown_shifted2[idx]*i)\n",
    "\n",
    "fig, ax = plt.subplots(1,3, figsize=(6,2));\n",
    "ax[0].imshow(last32[15], vmin=0, vmax=1); ax[1].imshow(orig32[15], vmin=0, vmax=1); ax[2].imshow(mask32[15], vmin=0, vmax=1)\n",
    "for axx in ax.ravel(): axx.axis('off'); fig.tight_layout()\n",
    "\n",
    "fig_multiple3D(ca_patched[10:], 2,8)\n",
    "fig_multiple3D(ca_patched[100:], 2,8)"
   ]
  },
  {
   "cell_type": "code",
   "execution_count": null,
   "metadata": {
    "scrolled": true
   },
   "outputs": [],
   "source": [
    "for idx, (i, j) in enumerate(zip(mask_ndl_grown, mask_ndl_grown_shifted2)):\n",
    "    if idx==10:break\n",
    "    z1, y1, x1 = np.where(i==1)\n",
    "    z2, y2, x2 = np.where(j==1)\n",
    "    zz1 = int(np.median(z1))\n",
    "    zz2 = int(np.median(z2))\n",
    "    \n",
    "    \n",
    "    fig, ax = plt.subplots(1,2, figsize=(4,2))\n",
    "    ax[0].imshow(i[zz1])\n",
    "    ax[0].text(3,3,f'z={zz1}', color='y')\n",
    "    ax[1].imshow(j[zz2])\n",
    "    ax[1].text(3,3,f'z={zz2}', color='y')\n",
    "    for axx in ax.ravel(): axx.axis('off'); fig.tight_layout()"
   ]
  },
  {
   "cell_type": "code",
   "execution_count": null,
   "metadata": {},
   "outputs": [],
   "source": [
    "fig, ax = plt.subplots(1,2, figsize=(8,4))\n",
    "ax[0].imshow(mask_ndl_grown[0][16])\n",
    "ax[1].imshow(mask_ndl_grown_shifted[0][25])"
   ]
  },
  {
   "cell_type": "code",
   "execution_count": null,
   "metadata": {},
   "outputs": [],
   "source": [
    "zz, yy, xx = np.where(a==1)\n",
    "print(zz, yy, xx)\n",
    "zz = zz + (name_correct_zyx[0] - 16)\n",
    "yy = yy + (name_correct_zyx[1] - 16)\n",
    "xx = xx + (name_correct_zyx[2] - 16)\n",
    "print(zz, yy, xx)\n",
    "mask_shifted = np.zeros_like(a)\n",
    "mask_shifted[zz,yy,xx]=1"
   ]
  },
  {
   "cell_type": "code",
   "execution_count": null,
   "metadata": {},
   "outputs": [],
   "source": [
    "mask_ndl_grown = ndl_grown > 0\n",
    "z_median = int(np.median(zz))\n",
    "fig, ax = plt.subplots(1,2,figsize=(6,3))\n",
    "ax[0].imshow(a[16])\n",
    "ax[1].imshow(mask_shifted[25])\n",
    "for axx in ax.ravel(): axx.axis('off'); fig.tight_layout()"
   ]
  },
  {
   "cell_type": "code",
   "execution_count": null,
   "metadata": {},
   "outputs": [],
   "source": [
    "a = mask_ndl_grown[0]\n",
    "plt.imshow(a[15])"
   ]
  },
  {
   "cell_type": "code",
   "execution_count": null,
   "metadata": {},
   "outputs": [],
   "source": []
  },
  {
   "cell_type": "code",
   "execution_count": null,
   "metadata": {},
   "outputs": [],
   "source": []
  },
  {
   "cell_type": "code",
   "execution_count": null,
   "metadata": {},
   "outputs": [],
   "source": []
  },
  {
   "cell_type": "markdown",
   "metadata": {},
   "source": [
    "## X. Losses"
   ]
  },
  {
   "cell_type": "code",
   "execution_count": null,
   "metadata": {},
   "outputs": [],
   "source": [
    "# Loss\n",
    "i = files_loss[0]\n",
    "loss = np.load(f'{path_source}{i}')\n",
    "plt.semilogy(loss)"
   ]
  },
  {
   "cell_type": "markdown",
   "metadata": {},
   "source": [
    "# Old code"
   ]
  },
  {
   "cell_type": "code",
   "execution_count": null,
   "metadata": {},
   "outputs": [],
   "source": []
  },
  {
   "cell_type": "code",
   "execution_count": null,
   "metadata": {},
   "outputs": [],
   "source": [
    "files_done_idx, files_done = [], []\n",
    "for idx, i in enumerate(files_sorted):\n",
    "    if i in files_ndls_raw:\n",
    "        files_done_idx.append(idx)\n",
    "        files_done.append(i)\n",
    "files_sorted_zeros = np.zeros_like(files_sorted)\n",
    "files_sorted_zeros[files_done_idx]= 1\n",
    "plt.figure(figsize=(10,2))\n",
    "plt.plot(files_sorted_zeros);"
   ]
  }
 ],
 "metadata": {
  "kernelspec": {
   "display_name": "Python 3",
   "language": "python",
   "name": "python3"
  },
  "language_info": {
   "codemirror_mode": {
    "name": "ipython",
    "version": 3
   },
   "file_extension": ".py",
   "mimetype": "text/x-python",
   "name": "python",
   "nbconvert_exporter": "python",
   "pygments_lexer": "ipython3",
   "version": "3.6.9"
  }
 },
 "nbformat": 4,
 "nbformat_minor": 2
}
